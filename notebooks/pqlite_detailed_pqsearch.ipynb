{
 "cells": [
  {
   "cell_type": "markdown",
   "metadata": {
    "toc": true
   },
   "source": [
    "<h1>Table of Contents<span class=\"tocSkip\"></span></h1>\n",
    "<div class=\"toc\"><ul class=\"toc-item\"><li><span><a href=\"#PQLite-explained\" data-toc-modified-id=\"PQLite-explained-1\"><span class=\"toc-item-num\">1&nbsp;&nbsp;</span>PQLite explained</a></span><ul class=\"toc-item\"><li><ul class=\"toc-item\"><li><span><a href=\"#How-does-pqlite-works\" data-toc-modified-id=\"How-does-pqlite-works-1.0.1\"><span class=\"toc-item-num\">1.0.1&nbsp;&nbsp;</span>How does pqlite works</a></span></li></ul></li></ul></li><li><span><a href=\"#Understanding-pq.fit\" data-toc-modified-id=\"Understanding-pq.fit-2\"><span class=\"toc-item-num\">2&nbsp;&nbsp;</span>Understanding <code>pq.fit</code></a></span></li><li><span><a href=\"#Understanding-pq.index\" data-toc-modified-id=\"Understanding-pq.index-3\"><span class=\"toc-item-num\">3&nbsp;&nbsp;</span>Understanding <code>pq.index</code></a></span></li><li><span><a href=\"#Understanding-pq.search\" data-toc-modified-id=\"Understanding-pq.search-4\"><span class=\"toc-item-num\">4&nbsp;&nbsp;</span>Understanding <code>pq.search</code></a></span><ul class=\"toc-item\"><li><span><a href=\"#Searching-with-filtering\" data-toc-modified-id=\"Searching-with-filtering-4.1\"><span class=\"toc-item-num\">4.1&nbsp;&nbsp;</span>Searching with filtering</a></span></li></ul></li></ul></div>"
   ]
  },
  {
   "cell_type": "markdown",
   "metadata": {
    "ExecuteTime": {
     "end_time": "2021-11-15T10:56:27.351656Z",
     "start_time": "2021-11-15T10:56:27.349773Z"
    }
   },
   "source": [
    "## PQLite explained"
   ]
  },
  {
   "cell_type": "code",
   "execution_count": 1,
   "metadata": {
    "ExecuteTime": {
     "end_time": "2021-12-10T10:08:49.303992Z",
     "start_time": "2021-12-10T10:08:49.285546Z"
    }
   },
   "outputs": [],
   "source": [
    "%load_ext autoreload\n",
    "\n",
    "%autoreload 2"
   ]
  },
  {
   "cell_type": "code",
   "execution_count": 2,
   "metadata": {
    "ExecuteTime": {
     "end_time": "2021-12-10T10:08:50.212884Z",
     "start_time": "2021-12-10T10:08:49.739133Z"
    },
    "scrolled": false
   },
   "outputs": [],
   "source": [
    "import pyximport\n",
    "pyximport.install()\n",
    "\n",
    "import pqlite\n",
    "pqlite.__path__\n",
    "import time\n",
    "\n",
    "import jina\n",
    "from jina.math.distance import cdist\n",
    "\n",
    "import sklearn\n",
    "from sklearn.datasets import make_blobs\n",
    "from sklearn.model_selection import train_test_split\n",
    "\n",
    "import random\n",
    "import numpy as np\n",
    "from pqlite import PQLite\n"
   ]
  },
  {
   "cell_type": "markdown",
   "metadata": {},
   "source": [
    "#### How does pqlite works\n",
    "\n",
    "Pqlite has a first coarse search step.\n",
    "\n",
    "When adding elements to PQLite elements are stored in cells.\n",
    "\n",
    "The number `n_datapoints / n_cells` will be roughly the number of elements in each cell."
   ]
  },
  {
   "cell_type": "code",
   "execution_count": 3,
   "metadata": {
    "ExecuteTime": {
     "end_time": "2021-12-10T10:08:50.297567Z",
     "start_time": "2021-12-10T10:08:50.278663Z"
    }
   },
   "outputs": [],
   "source": [
    "Nq = 1\n",
    "D = 128 \n",
    "top_k = 100\n",
    "n_cells = 10\n",
    "n_subvectors = 32"
   ]
  },
  {
   "cell_type": "code",
   "execution_count": 4,
   "metadata": {
    "ExecuteTime": {
     "end_time": "2021-12-10T10:08:50.782594Z",
     "start_time": "2021-12-10T10:08:50.637255Z"
    }
   },
   "outputs": [],
   "source": [
    "!rm -rf ./data"
   ]
  },
  {
   "cell_type": "markdown",
   "metadata": {},
   "source": [
    "## Understanding `pq.fit`\n",
    "\n",
    "Internally, when doing `pq.fit(Xtr)` the `pq` class learns a quantizer stored in `pq.pq_codec`.\n",
    "\n",
    "The `pq` does not add data unitl `pq.add()` is called.\n",
    "\n",
    "We can see that the cells in `pq` are empty"
   ]
  },
  {
   "cell_type": "markdown",
   "metadata": {
    "ExecuteTime": {
     "end_time": "2021-11-19T14:15:38.807942Z",
     "start_time": "2021-11-19T14:15:38.790512Z"
    }
   },
   "source": [
    "Let us see what we have after adding to PQLIte with 500 examples\n"
   ]
  },
  {
   "cell_type": "code",
   "execution_count": 8,
   "metadata": {
    "ExecuteTime": {
     "end_time": "2021-12-10T10:09:07.710903Z",
     "start_time": "2021-12-10T10:09:06.567266Z"
    }
   },
   "outputs": [
    {
     "name": "stderr",
     "output_type": "stream",
     "text": [
      "2021-12-10 11:09:06.588 | INFO     | pqlite.index:__init__:89 - Initialize VQ codec (K=10)\n",
      "2021-12-10 11:09:06.589 | INFO     | pqlite.index:__init__:99 - Initialize PQ codec (n_subvectors=32)\n",
      "2021-12-10 11:09:06.602 | INFO     | pqlite.index:train:141 - Start training VQ codec (K=10) with 480 data...\n",
      "2021-12-10 11:09:06.619 | INFO     | pqlite.index:train:147 - Start training PQ codec (n_subvectors=32) with 480 data...\n",
      "2021-12-10 11:09:07.707 | INFO     | pqlite.index:train:152 - The pqlite is successfully trained!\n",
      "2021-12-10 11:09:07.708 | INFO     | pqlite.index:dump_model:297 - Save the trained parameters to data/0a7dfc558abb6bc6cb48db43ccf64964\n"
     ]
    }
   ],
   "source": [
    "\n",
    "Nt = 500\n",
    "\n",
    "np.random.seed(1234)\n",
    "Xtr, Xte = train_test_split(make_blobs(n_samples = Nt, n_features = D)[0].astype(np.float32), test_size=20)\n",
    "\n",
    "# the column schema: (name:str, dtype:type, create_index: bool)\n",
    "pq = PQLite(dim=D, \n",
    "            n_cells=n_cells,\n",
    "            n_subvectors=n_subvectors, \n",
    "            columns=[('price',float), ('category', str)])\n",
    "\n",
    "pq.train(Xtr)\n"
   ]
  },
  {
   "cell_type": "markdown",
   "metadata": {},
   "source": [
    "Note that cells are empty because we have not added yet any information"
   ]
  },
  {
   "cell_type": "code",
   "execution_count": 9,
   "metadata": {
    "ExecuteTime": {
     "end_time": "2021-12-10T10:09:09.291265Z",
     "start_time": "2021-12-10T10:09:09.266114Z"
    },
    "scrolled": true
   },
   "outputs": [
    {
     "data": {
      "text/plain": [
       "[0, 0, 0, 0, 0, 0, 0, 0, 0, 0]"
      ]
     },
     "execution_count": 9,
     "metadata": {},
     "output_type": "execute_result"
    }
   ],
   "source": [
    "[c.size for c in pq.cell_tables] "
   ]
  },
  {
   "cell_type": "code",
   "execution_count": 10,
   "metadata": {
    "ExecuteTime": {
     "end_time": "2021-12-10T10:09:10.304438Z",
     "start_time": "2021-12-10T10:09:10.166402Z"
    }
   },
   "outputs": [
    {
     "name": "stdout",
     "output_type": "stream",
     "text": [
      " 16K\tdata/cell_1\r\n",
      " 16K\tdata/cell_6\r\n",
      " 16K\tdata/cell_8\r\n",
      " 16K\tdata/cell_9\r\n",
      " 16K\tdata/cell_7\r\n",
      " 16K\tdata/cell_0\r\n",
      "140K\tdata/0a7dfc558abb6bc6cb48db43ccf64964\r\n",
      " 16K\tdata/cell_5\r\n",
      " 16K\tdata/cell_2\r\n",
      " 16K\tdata/cell_3\r\n",
      " 16K\tdata/cell_4\r\n",
      "300K\tdata\r\n"
     ]
    }
   ],
   "source": [
    "!du -h data"
   ]
  },
  {
   "cell_type": "markdown",
   "metadata": {},
   "source": [
    "Information about hyperparams"
   ]
  },
  {
   "cell_type": "code",
   "execution_count": 11,
   "metadata": {
    "ExecuteTime": {
     "end_time": "2021-12-10T10:09:12.812522Z",
     "start_time": "2021-12-10T10:09:11.708456Z"
    }
   },
   "outputs": [
    {
     "name": "stderr",
     "output_type": "stream",
     "text": [
      "\u001b[1;33mUserWarning: One of the clusters is empty. Re-run kmeans with a different initialization.\u001b[0m \u001b[1;30m(raised from /Users/davidbuchaca1/opt/anaconda3/lib/python3.8/site-packages/scipy/cluster/vq.py:607)\u001b[0m\n"
     ]
    }
   ],
   "source": [
    "pq.pq_codec.fit(Xtr)"
   ]
  },
  {
   "cell_type": "code",
   "execution_count": 12,
   "metadata": {
    "ExecuteTime": {
     "end_time": "2021-12-10T10:09:13.346404Z",
     "start_time": "2021-12-10T10:09:13.328052Z"
    },
    "scrolled": true
   },
   "outputs": [
    {
     "name": "stdout",
     "output_type": "stream",
     "text": [
      "pq.n_cells = 10\n",
      "pq.n_subvectors = 32\n",
      "pq.n_probe = 16\n"
     ]
    }
   ],
   "source": [
    "print(f'pq.n_cells = {pq.n_cells }')\n",
    "print(f'pq.n_subvectors = {pq.n_subvectors }')\n",
    "print(f'pq.n_probe = {pq.n_probe}')"
   ]
  },
  {
   "cell_type": "code",
   "execution_count": 13,
   "metadata": {
    "ExecuteTime": {
     "end_time": "2021-12-10T10:09:14.260028Z",
     "start_time": "2021-12-10T10:09:14.239254Z"
    }
   },
   "outputs": [
    {
     "data": {
      "text/plain": [
       "10"
      ]
     },
     "execution_count": 13,
     "metadata": {},
     "output_type": "execute_result"
    }
   ],
   "source": [
    "pq.n_cells"
   ]
  },
  {
   "cell_type": "markdown",
   "metadata": {},
   "source": [
    "Nevertheless we can use the current `quantizer` stored in `pq.pq_codec` to encode data "
   ]
  },
  {
   "cell_type": "code",
   "execution_count": 14,
   "metadata": {
    "ExecuteTime": {
     "end_time": "2021-12-10T10:09:14.698726Z",
     "start_time": "2021-12-10T10:09:14.678494Z"
    }
   },
   "outputs": [
    {
     "data": {
      "text/plain": [
       "array([[132,  40,  25,  30, 160,  92,   9,  47, 131, 255,  17, 178,  41,\n",
       "         53,   5,  52, 255, 153, 163,  80, 203, 164, 231, 106,   8,  98,\n",
       "        243,  35, 201,  25,  74, 222]], dtype=uint8)"
      ]
     },
     "execution_count": 14,
     "metadata": {},
     "output_type": "execute_result"
    }
   ],
   "source": [
    "pq.encode(Xte[[0]])"
   ]
  },
  {
   "cell_type": "markdown",
   "metadata": {},
   "source": [
    "This quantizer uses a codebook for each of the subspaces in the Product space. \n",
    "\n",
    "Since we have code_size = 32 this means we will have 32 different subspaces, which will have been trained with the corresponding columns from the training data.\n",
    "\n",
    "In this case since `pq.d_subvector` is 4 each of the slices `Xtr[:,0:4],Xtr[:,4:8],Xtr[:,8:12],....` will have a corresponding codebook. This matches because `128/32=4`.\n",
    "\n",
    "All codebooks are stored in `pq.pq_codec.codebooks`"
   ]
  },
  {
   "cell_type": "code",
   "execution_count": 15,
   "metadata": {
    "ExecuteTime": {
     "end_time": "2021-12-10T10:09:15.821344Z",
     "start_time": "2021-12-10T10:09:15.802733Z"
    }
   },
   "outputs": [
    {
     "data": {
      "text/plain": [
       "(32, 256, 4)"
      ]
     },
     "execution_count": 15,
     "metadata": {},
     "output_type": "execute_result"
    }
   ],
   "source": [
    "pq.pq_codec.codebooks.shape"
   ]
  },
  {
   "cell_type": "markdown",
   "metadata": {},
   "source": [
    "And one of the codebooks contains a matrix of shape `(K,d_subvector)` where `K` is the number of prototypes for each subspace. "
   ]
  },
  {
   "cell_type": "code",
   "execution_count": 16,
   "metadata": {
    "ExecuteTime": {
     "end_time": "2021-12-10T10:09:16.398459Z",
     "start_time": "2021-12-10T10:09:16.378954Z"
    }
   },
   "outputs": [
    {
     "data": {
      "text/plain": [
       "(256, 4)"
      ]
     },
     "execution_count": 16,
     "metadata": {},
     "output_type": "execute_result"
    }
   ],
   "source": [
    "pq.pq_codec.codebooks[0].shape"
   ]
  },
  {
   "cell_type": "markdown",
   "metadata": {},
   "source": [
    "##### Understanding the encoding"
   ]
  },
  {
   "cell_type": "markdown",
   "metadata": {},
   "source": [
    "Once we have fitted a `pq.codec` we can encode the data.\n",
    "This process takes a real valued vector, splits it in slices of size `pq.d_subvector` and each of the slices is assigned to the closest prototype stored in the codebook of the corresponding slice.\n",
    "\n",
    "For example we can take an slice of a vector and look where it should be matched\n"
   ]
  },
  {
   "cell_type": "code",
   "execution_count": 17,
   "metadata": {
    "ExecuteTime": {
     "end_time": "2021-12-10T10:09:17.869555Z",
     "start_time": "2021-12-10T10:09:17.850530Z"
    }
   },
   "outputs": [
    {
     "data": {
      "text/plain": [
       "array([-5.496039 ,  6.284065 ,  1.7528343,  2.411145 ], dtype=float32)"
      ]
     },
     "execution_count": 17,
     "metadata": {},
     "output_type": "execute_result"
    }
   ],
   "source": [
    "slice_0 = Xte[0][0:4]\n",
    "slice_0"
   ]
  },
  {
   "cell_type": "code",
   "execution_count": 18,
   "metadata": {
    "ExecuteTime": {
     "end_time": "2021-12-10T10:09:18.266436Z",
     "start_time": "2021-12-10T10:09:18.246693Z"
    }
   },
   "outputs": [
    {
     "name": "stdout",
     "output_type": "stream",
     "text": [
      "(256,)\n",
      "132\n"
     ]
    }
   ],
   "source": [
    "dists_to_prototypes_slice_0 = np.sum((pq.pq_codec.codebooks[0] - slice_0)**2, axis=1)\n",
    "print(dists_to_prototypes_slice_0.shape)\n",
    "print(dists_to_prototypes_slice_0.argmin())"
   ]
  },
  {
   "cell_type": "markdown",
   "metadata": {
    "ExecuteTime": {
     "end_time": "2021-11-19T15:25:52.398867Z",
     "start_time": "2021-11-19T15:25:52.380987Z"
    }
   },
   "source": [
    "Repeating this process for each slice will encode our vector in the PQ space.\n",
    "\n",
    "This can be done using `pq.encode`"
   ]
  },
  {
   "cell_type": "code",
   "execution_count": 19,
   "metadata": {
    "ExecuteTime": {
     "end_time": "2021-12-10T10:09:19.310981Z",
     "start_time": "2021-12-10T10:09:19.290637Z"
    }
   },
   "outputs": [
    {
     "data": {
      "text/plain": [
       "array([[132,  40,  25,  30, 160,  92,   9,  47, 131, 255,  17, 178,  41,\n",
       "         53,   5,  52, 255, 153, 163,  80, 203, 164, 231, 106,   8,  98,\n",
       "        243,  35, 201,  25,  74, 222]], dtype=uint8)"
      ]
     },
     "execution_count": 19,
     "metadata": {},
     "output_type": "execute_result"
    }
   ],
   "source": [
    "pq.encode(Xte[[0]])"
   ]
  },
  {
   "cell_type": "markdown",
   "metadata": {},
   "source": [
    "This method will internally call the stored `pq_codec` and call the `.encode` method of the internal `pq_codec`"
   ]
  },
  {
   "cell_type": "code",
   "execution_count": 20,
   "metadata": {
    "ExecuteTime": {
     "end_time": "2021-12-10T10:09:20.345851Z",
     "start_time": "2021-12-10T10:09:20.325553Z"
    },
    "scrolled": false
   },
   "outputs": [
    {
     "data": {
      "text/plain": [
       "array([[132,  40,  25,  30, 160,  92,   9,  47, 131, 255,  17, 178,  41,\n",
       "         53,   5,  52, 255, 153, 163,  80, 203, 164, 231, 106,   8,  98,\n",
       "        243,  35, 201,  25,  74, 222]], dtype=uint8)"
      ]
     },
     "execution_count": 20,
     "metadata": {},
     "output_type": "execute_result"
    }
   ],
   "source": [
    "pq.pq_codec.encode(Xte[[0]])"
   ]
  },
  {
   "cell_type": "markdown",
   "metadata": {},
   "source": [
    "##### pq._vecs_storage\n",
    "\n",
    "pq stores the quantized data in `pq._vecs_storage`. This is a list of `n_cells` elements containing matrices with the quantized data added to `pq`. Note that if no data is added this matrices will contain only 0 values.\n"
   ]
  },
  {
   "cell_type": "markdown",
   "metadata": {},
   "source": [
    "## Understanding `pq.index`"
   ]
  },
  {
   "cell_type": "markdown",
   "metadata": {},
   "source": [
    "We have seen that `pq` has not stored a single example"
   ]
  },
  {
   "cell_type": "code",
   "execution_count": 21,
   "metadata": {
    "ExecuteTime": {
     "end_time": "2021-12-10T10:09:21.965527Z",
     "start_time": "2021-12-10T10:09:21.945968Z"
    }
   },
   "outputs": [
    {
     "data": {
      "text/plain": [
       "[0, 0, 0, 0, 0, 0, 0, 0, 0, 0]"
      ]
     },
     "execution_count": 21,
     "metadata": {},
     "output_type": "execute_result"
    }
   ],
   "source": [
    "[c.size for c in pq.cell_tables] "
   ]
  },
  {
   "cell_type": "markdown",
   "metadata": {},
   "source": [
    "To add examples we have to do "
   ]
  },
  {
   "cell_type": "code",
   "execution_count": 22,
   "metadata": {
    "ExecuteTime": {
     "end_time": "2021-12-10T10:09:22.594447Z",
     "start_time": "2021-12-10T10:09:22.575383Z"
    }
   },
   "outputs": [],
   "source": [
    "from jina import DocumentArray, Document"
   ]
  },
  {
   "cell_type": "code",
   "execution_count": 23,
   "metadata": {
    "ExecuteTime": {
     "end_time": "2021-12-10T10:09:22.806339Z",
     "start_time": "2021-12-10T10:09:22.780067Z"
    }
   },
   "outputs": [
    {
     "data": {
      "text/plain": [
       "(25, 'movies')"
      ]
     },
     "execution_count": 23,
     "metadata": {},
     "output_type": "execute_result"
    }
   ],
   "source": [
    "np.random.choice((100,25,10)),np.random.choice(['comics','movies','audiobook'])"
   ]
  },
  {
   "cell_type": "code",
   "execution_count": 190,
   "metadata": {
    "ExecuteTime": {
     "end_time": "2021-12-10T10:43:35.115515Z",
     "start_time": "2021-12-10T10:43:35.062450Z"
    }
   },
   "outputs": [],
   "source": [
    "CATEGORIES = ['comics','movies','audiobook']\n",
    "da = DocumentArray([Document(id=f'{i}', \n",
    "                             embedding=Xtr[i], \n",
    "                             tags={\n",
    "                                   'price': np.random.choice((5.,10.,25.,100.)),\n",
    "                                   'category':np.random.choice(CATEGORIES),\n",
    "                                 }) for i in range(len(Xtr))])\n",
    "    "
   ]
  },
  {
   "cell_type": "code",
   "execution_count": 192,
   "metadata": {
    "ExecuteTime": {
     "end_time": "2021-12-10T10:43:36.993367Z",
     "start_time": "2021-12-10T10:43:36.975193Z"
    }
   },
   "outputs": [
    {
     "data": {
      "text/plain": [
       "480"
      ]
     },
     "execution_count": 192,
     "metadata": {},
     "output_type": "execute_result"
    }
   ],
   "source": [
    "len(da)"
   ]
  },
  {
   "cell_type": "code",
   "execution_count": 196,
   "metadata": {
    "ExecuteTime": {
     "end_time": "2021-12-10T10:43:49.234600Z",
     "start_time": "2021-12-10T10:43:49.216166Z"
    }
   },
   "outputs": [
    {
     "data": {
      "text/plain": [
       "5.0"
      ]
     },
     "execution_count": 196,
     "metadata": {},
     "output_type": "execute_result"
    }
   ],
   "source": [
    "da[0].tags['price']"
   ]
  },
  {
   "cell_type": "markdown",
   "metadata": {
    "ExecuteTime": {
     "end_time": "2021-11-29T15:06:40.739319Z",
     "start_time": "2021-11-29T15:06:40.714911Z"
    }
   },
   "source": [
    "Before indexing we can see in `./data` that there are some folders that containg the basic data structures used to store the `indexed data`."
   ]
  },
  {
   "cell_type": "code",
   "execution_count": 26,
   "metadata": {
    "ExecuteTime": {
     "end_time": "2021-12-10T10:09:24.995718Z",
     "start_time": "2021-12-10T10:09:24.859679Z"
    },
    "scrolled": true
   },
   "outputs": [
    {
     "name": "stdout",
     "output_type": "stream",
     "text": [
      " 16K\tdata/cell_1\r\n",
      " 16K\tdata/cell_6\r\n",
      " 16K\tdata/cell_8\r\n",
      " 16K\tdata/cell_9\r\n",
      " 16K\tdata/cell_7\r\n",
      " 16K\tdata/cell_0\r\n",
      "140K\tdata/0a7dfc558abb6bc6cb48db43ccf64964\r\n",
      " 16K\tdata/cell_5\r\n",
      " 16K\tdata/cell_2\r\n",
      " 16K\tdata/cell_3\r\n",
      " 16K\tdata/cell_4\r\n",
      "300K\tdata\r\n"
     ]
    }
   ],
   "source": [
    "!du -h data"
   ]
  },
  {
   "cell_type": "code",
   "execution_count": 27,
   "metadata": {
    "ExecuteTime": {
     "end_time": "2021-12-10T10:09:25.360158Z",
     "start_time": "2021-12-10T10:09:25.276160Z"
    }
   },
   "outputs": [
    {
     "name": "stderr",
     "output_type": "stream",
     "text": [
      "2021-12-10 11:09:25.358 | DEBUG    | pqlite.container:insert:203 - => 480 new docs added\n"
     ]
    }
   ],
   "source": [
    "pq.index(da)"
   ]
  },
  {
   "cell_type": "code",
   "execution_count": 197,
   "metadata": {
    "ExecuteTime": {
     "end_time": "2021-12-10T10:43:52.711074Z",
     "start_time": "2021-12-10T10:43:52.692053Z"
    }
   },
   "outputs": [
    {
     "data": {
      "text/plain": [
       "[62, 72, 76, 38, 41, 78, 29, 50, 6, 28]"
      ]
     },
     "execution_count": 197,
     "metadata": {},
     "output_type": "execute_result"
    }
   ],
   "source": [
    "[c.size for c in pq.cell_tables] "
   ]
  },
  {
   "cell_type": "markdown",
   "metadata": {},
   "source": [
    "After indexing we can see that each cell  has a sensible amount of information"
   ]
  },
  {
   "cell_type": "code",
   "execution_count": 29,
   "metadata": {
    "ExecuteTime": {
     "end_time": "2021-12-10T10:09:26.336986Z",
     "start_time": "2021-12-10T10:09:26.197771Z"
    }
   },
   "outputs": [
    {
     "name": "stdout",
     "output_type": "stream",
     "text": [
      " 92K\tdata/cell_1\r\n",
      " 48K\tdata/cell_6\r\n",
      " 20K\tdata/cell_8\r\n",
      " 48K\tdata/cell_9\r\n",
      " 68K\tdata/cell_7\r\n",
      " 76K\tdata/cell_0\r\n",
      "140K\tdata/0a7dfc558abb6bc6cb48db43ccf64964\r\n",
      " 88K\tdata/cell_5\r\n",
      " 92K\tdata/cell_2\r\n",
      " 60K\tdata/cell_3\r\n",
      " 56K\tdata/cell_4\r\n",
      "788K\tdata\r\n"
     ]
    }
   ],
   "source": [
    "!du -h data"
   ]
  },
  {
   "cell_type": "markdown",
   "metadata": {},
   "source": [
    "If we sum the elements across cells we will se that this number matches the length of the indexed DocumentArray"
   ]
  },
  {
   "cell_type": "code",
   "execution_count": 30,
   "metadata": {
    "ExecuteTime": {
     "end_time": "2021-12-10T10:09:26.960263Z",
     "start_time": "2021-12-10T10:09:26.940464Z"
    }
   },
   "outputs": [
    {
     "data": {
      "text/plain": [
       "True"
      ]
     },
     "execution_count": 30,
     "metadata": {},
     "output_type": "execute_result"
    }
   ],
   "source": [
    "np.sum([c.size for c in pq.cell_tables] ) == len(da)"
   ]
  },
  {
   "cell_type": "markdown",
   "metadata": {},
   "source": [
    "The cell information is "
   ]
  },
  {
   "cell_type": "code",
   "execution_count": 31,
   "metadata": {
    "ExecuteTime": {
     "end_time": "2021-12-10T10:09:27.387319Z",
     "start_time": "2021-12-10T10:09:27.367836Z"
    }
   },
   "outputs": [
    {
     "name": "stdout",
     "output_type": "stream",
     "text": [
      "The number of cells is n_cells=10\n",
      "\n",
      "Cells can be accessed in pq.cell_tables\n",
      "\twe have len(pq.cell_tables)=10 cells\n",
      "\n",
      "We have added len(Xtr)=480 elements to pq\n"
     ]
    }
   ],
   "source": [
    "print(f'The number of cells is n_cells={pq.n_cells}')\n",
    "\n",
    "print('\\nCells can be accessed in pq.cell_tables')\n",
    "print(f'\\twe have len(pq.cell_tables)={len(pq.cell_tables)} cells')\n",
    "print(f'\\nWe have added len(Xtr)={len(Xtr)} elements to pq')"
   ]
  },
  {
   "cell_type": "markdown",
   "metadata": {},
   "source": [
    "Note that `pq.cell_tables` is a list of  `CellTable` objects"
   ]
  },
  {
   "cell_type": "code",
   "execution_count": 32,
   "metadata": {
    "ExecuteTime": {
     "end_time": "2021-12-10T10:09:27.949689Z",
     "start_time": "2021-12-10T10:09:27.931276Z"
    }
   },
   "outputs": [
    {
     "data": {
      "text/plain": [
       "<pqlite.storage.table.CellTable at 0x7fbaf95beeb0>"
      ]
     },
     "execution_count": 32,
     "metadata": {},
     "output_type": "execute_result"
    }
   ],
   "source": [
    "pq.cell_tables[0]"
   ]
  },
  {
   "cell_type": "markdown",
   "metadata": {},
   "source": [
    "\n",
    "Each CellTable allows you to `insert`, `query` and `delete` vectors\n",
    "\n",
    "We can inspect how many elements are in a cell using `.count()`"
   ]
  },
  {
   "cell_type": "code",
   "execution_count": 33,
   "metadata": {
    "ExecuteTime": {
     "end_time": "2021-12-10T10:09:28.377622Z",
     "start_time": "2021-12-10T10:09:28.358030Z"
    },
    "scrolled": true
   },
   "outputs": [
    {
     "data": {
      "text/plain": [
       "62"
      ]
     },
     "execution_count": 33,
     "metadata": {},
     "output_type": "execute_result"
    }
   ],
   "source": [
    "pq.cell_tables[0].count()"
   ]
  },
  {
   "cell_type": "markdown",
   "metadata": {
    "ExecuteTime": {
     "end_time": "2021-11-19T14:45:53.586529Z",
     "start_time": "2021-11-19T14:45:53.566589Z"
    }
   },
   "source": [
    "Not all `cell_tables` will contain the same number of elements because not all of them are assigned to the same prototype. Nevertheless the sum of the elements across cells equalts the number of added elements"
   ]
  },
  {
   "cell_type": "code",
   "execution_count": 34,
   "metadata": {
    "ExecuteTime": {
     "end_time": "2021-12-10T10:09:28.828027Z",
     "start_time": "2021-12-10T10:09:28.808166Z"
    },
    "scrolled": true
   },
   "outputs": [
    {
     "name": "stdout",
     "output_type": "stream",
     "text": [
      "elements_per_cell = [62, 72, 76, 38, 41, 78, 29, 50, 6, 28]\n",
      "total number of elements added = 480\n",
      "np.sum(elements_per_cell) == len(Xtr) is  True\n"
     ]
    }
   ],
   "source": [
    "elements_per_cell = [pq_cell_table.count() for pq_cell_table in pq.cell_tables]\n",
    "print('elements_per_cell =', elements_per_cell)\n",
    "print('total number of elements added =', np.sum(elements_per_cell))\n",
    "print('np.sum(elements_per_cell) == len(Xtr) is ',np.sum(elements_per_cell) == len(Xtr))"
   ]
  },
  {
   "cell_type": "markdown",
   "metadata": {},
   "source": [
    "## Understanding `pq.search`\n",
    "\n",
    "\n",
    "Internally `pq.search` first computes the distance between each query and the prototypes that define the cells. Then the cells whose prototypes are closest to a query are selected as search space. The best  `pq.n_probe` cells are selected (this is a hyperparameter of the algorithm).\n",
    "\n",
    "Since `pq.n_probe` in this case is bigger than `pq.n_cells` all the cells will be searched."
   ]
  },
  {
   "cell_type": "code",
   "execution_count": 35,
   "metadata": {
    "ExecuteTime": {
     "end_time": "2021-12-10T10:09:30.011215Z",
     "start_time": "2021-12-10T10:09:29.990464Z"
    }
   },
   "outputs": [
    {
     "data": {
      "text/plain": [
       "(16, 10)"
      ]
     },
     "execution_count": 35,
     "metadata": {},
     "output_type": "execute_result"
    }
   ],
   "source": [
    "pq.n_probe, pq.n_cells"
   ]
  },
  {
   "cell_type": "markdown",
   "metadata": {},
   "source": [
    "Note that  `pq.search` can be called with a batch of vectors. Once called it will end up calling `pq.search_cells` with the full batch of queries but with an array of arrays containing at each position a list of the ids of the cells that best batch the query. So if 5 queries are passed into the `pq.search` it will pass to `self.search_cells` an array of size `(len(queries), max(pq.n_probe, pq.n_cells)`.\n",
    "\n",
    "The `.search_cells` method iterates over the queries and comptues the distance between each query and all retrieved elements in the activated cells.\n",
    "\n",
    "For each query in the batch  the Asymetric Distance Computation is performed using `pq.pq_codec.precompute_adc` which returns a table of shape `(pq.n_subvectors, pq.pq_codec.n_clusters)`.  In our case a matrix of shape `(32, 256)`.\n"
   ]
  },
  {
   "cell_type": "code",
   "execution_count": 96,
   "metadata": {
    "ExecuteTime": {
     "end_time": "2021-12-10T10:23:59.592742Z",
     "start_time": "2021-12-10T10:23:59.575045Z"
    }
   },
   "outputs": [],
   "source": [
    "query = Xtr[[10]]"
   ]
  },
  {
   "cell_type": "code",
   "execution_count": 97,
   "metadata": {
    "ExecuteTime": {
     "end_time": "2021-12-10T10:23:59.954896Z",
     "start_time": "2021-12-10T10:23:59.935261Z"
    }
   },
   "outputs": [
    {
     "data": {
      "text/plain": [
       "(32, 256)"
      ]
     },
     "execution_count": 97,
     "metadata": {},
     "output_type": "execute_result"
    }
   ],
   "source": [
    "dtable = pq.pq_codec.precompute_adc(query[0])\n",
    "dtable.dtable.shape"
   ]
  },
  {
   "cell_type": "markdown",
   "metadata": {},
   "source": [
    "We can do this faster with a cython function as follows"
   ]
  },
  {
   "cell_type": "code",
   "execution_count": 98,
   "metadata": {
    "ExecuteTime": {
     "end_time": "2021-12-10T10:24:00.503437Z",
     "start_time": "2021-12-10T10:24:00.486189Z"
    }
   },
   "outputs": [],
   "source": [
    "import pqlite.pq_bind\n",
    "from pqlite.pq_bind import precompute_adc_table"
   ]
  },
  {
   "cell_type": "code",
   "execution_count": 99,
   "metadata": {
    "ExecuteTime": {
     "end_time": "2021-12-10T10:24:00.684241Z",
     "start_time": "2021-12-10T10:24:00.666233Z"
    }
   },
   "outputs": [],
   "source": [
    "d_subvector = int(query.shape[1]/pq.pq_codec.n_subvectors)"
   ]
  },
  {
   "cell_type": "code",
   "execution_count": 100,
   "metadata": {
    "ExecuteTime": {
     "end_time": "2021-12-10T10:24:00.887047Z",
     "start_time": "2021-12-10T10:24:00.868434Z"
    }
   },
   "outputs": [],
   "source": [
    "dt = precompute_adc_table(query[0], \n",
    "                          d_subvector,\n",
    "                          pq.pq_codec.n_clusters,\n",
    "                          pq.pq_codec.codebooks)"
   ]
  },
  {
   "cell_type": "code",
   "execution_count": 101,
   "metadata": {
    "ExecuteTime": {
     "end_time": "2021-12-10T10:24:01.061811Z",
     "start_time": "2021-12-10T10:24:01.041592Z"
    }
   },
   "outputs": [
    {
     "data": {
      "text/plain": [
       "0.0"
      ]
     },
     "execution_count": 101,
     "metadata": {},
     "output_type": "execute_result"
    }
   ],
   "source": [
    "np.mean(np.asarray(dt) - dtable.dtable)"
   ]
  },
  {
   "cell_type": "markdown",
   "metadata": {},
   "source": [
    "This table contains the distance between each possible subvector in que query and each possible subvector from any subcodevector.\n",
    "\n",
    "Therefore we go from `search` -> `search_cells` -> `search_cells` -> `precomputed_k = pq_codec.precompute_adc(query_k)` -> `ivfpq_topk`\n",
    "\n",
    "Therefore for `query_k` we compute the ADC table. Then this table is used to compute the distance between the query and all the database. \n",
    "\n",
    "In this case, since there is filtering, the computations are done only on a subset of the database. Distances are computed between the query and the exapmles that come from the selected cells and verify the conditions specified by the provided filter.\n",
    "\n",
    "```\n",
    "self.ivfpq_topk(precomputed, cells=cell_idx,conditions=conditions,k=k )\n",
    "```"
   ]
  },
  {
   "cell_type": "code",
   "execution_count": 102,
   "metadata": {
    "ExecuteTime": {
     "end_time": "2021-12-10T10:24:01.438674Z",
     "start_time": "2021-12-10T10:24:01.420339Z"
    }
   },
   "outputs": [
    {
     "data": {
      "text/plain": [
       "(32, 256, 4)"
      ]
     },
     "execution_count": 102,
     "metadata": {},
     "output_type": "execute_result"
    }
   ],
   "source": [
    "pq.pq_codec.codebooks.shape"
   ]
  },
  {
   "cell_type": "code",
   "execution_count": 103,
   "metadata": {
    "ExecuteTime": {
     "end_time": "2021-12-10T10:24:01.614245Z",
     "start_time": "2021-12-10T10:24:01.595269Z"
    }
   },
   "outputs": [
    {
     "data": {
      "text/plain": [
       "(32, 256)"
      ]
     },
     "execution_count": 103,
     "metadata": {},
     "output_type": "execute_result"
    }
   ],
   "source": [
    "precomputed = pq.pq_codec.precompute_adc(query[0])\n",
    "precomputed.dtable.shape"
   ]
  },
  {
   "cell_type": "markdown",
   "metadata": {},
   "source": [
    "Given a bunch of datapoint candidates from the database (from which we already have the pqcode) we want to find distances between the query and the candidates. This is done with `precomputed.adist(codes)` which returns the distance between each code in codes and the pqcode of the query.\n",
    "\n",
    "Let us recall that each subvector in the quantized space represented 4 values in the original space and those 4 real-valued values are represented with a single intenger from 0 to n_clusters."
   ]
  },
  {
   "cell_type": "code",
   "execution_count": 104,
   "metadata": {
    "ExecuteTime": {
     "end_time": "2021-12-10T10:24:02.001626Z",
     "start_time": "2021-12-10T10:24:01.982561Z"
    }
   },
   "outputs": [
    {
     "data": {
      "text/plain": [
       "(4, 256)"
      ]
     },
     "execution_count": 104,
     "metadata": {},
     "output_type": "execute_result"
    }
   ],
   "source": [
    "pq.pq_codec.d_subvector, pq.pq_codec.n_clusters"
   ]
  },
  {
   "cell_type": "markdown",
   "metadata": {},
   "source": [
    "We can look at the indexed (quantized) data in `cell_k` using  `pq._vec_indexes[cell_k].data`"
   ]
  },
  {
   "cell_type": "code",
   "execution_count": 105,
   "metadata": {
    "ExecuteTime": {
     "end_time": "2021-12-10T10:24:02.373453Z",
     "start_time": "2021-12-10T10:24:02.354222Z"
    }
   },
   "outputs": [
    {
     "data": {
      "text/plain": [
       "array([[232,  25,  35, ..., 215, 113,  10],\n",
       "       [ 31, 168, 236, ...,  39,  28,  38],\n",
       "       [198, 218, 220, ..., 159, 212, 233],\n",
       "       ...,\n",
       "       [  0,   0,   0, ...,   0,   0,   0],\n",
       "       [  0,   0,   0, ...,   0,   0,   0],\n",
       "       [  0,   0,   0, ...,   0,   0,   0]], dtype=uint8)"
      ]
     },
     "execution_count": 105,
     "metadata": {},
     "output_type": "execute_result"
    }
   ],
   "source": [
    "pq._vec_indexes[0]._data"
   ]
  },
  {
   "cell_type": "markdown",
   "metadata": {},
   "source": [
    "This is an array of pq-codes of vectors that have been indexed.\n",
    "\n",
    "Note that several rows are 0 because memory is preemtively saved to avoid too much memory resizes."
   ]
  },
  {
   "cell_type": "code",
   "execution_count": 106,
   "metadata": {
    "ExecuteTime": {
     "end_time": "2021-12-10T10:24:02.777644Z",
     "start_time": "2021-12-10T10:24:02.758786Z"
    }
   },
   "outputs": [
    {
     "data": {
      "text/plain": [
       "(10240, 32)"
      ]
     },
     "execution_count": 106,
     "metadata": {},
     "output_type": "execute_result"
    }
   ],
   "source": [
    "pq._vec_indexes[0]._data.shape"
   ]
  },
  {
   "cell_type": "markdown",
   "metadata": {},
   "source": [
    "We can see that the number of items in a cell starts at a position that is full of 0 values"
   ]
  },
  {
   "cell_type": "code",
   "execution_count": 107,
   "metadata": {
    "ExecuteTime": {
     "end_time": "2021-12-10T10:24:03.161997Z",
     "start_time": "2021-12-10T10:24:03.142473Z"
    }
   },
   "outputs": [
    {
     "name": "stdout",
     "output_type": "stream",
     "text": [
      "62\n",
      "72\n",
      "[62, 72, 76, 38, 41, 78, 29, 50, 6, 28]\n"
     ]
    }
   ],
   "source": [
    "print(np.where(pq._vec_indexes[0]._data.sum(axis=1)==0)[0][0])\n",
    "print(np.where(pq._vec_indexes[1]._data.sum(axis=1)==0)[0][0])\n",
    "print([c.size for c in pq.cell_tables])"
   ]
  },
  {
   "cell_type": "markdown",
   "metadata": {
    "ExecuteTime": {
     "end_time": "2021-11-29T15:36:50.353172Z",
     "start_time": "2021-11-29T15:36:50.333726Z"
    }
   },
   "source": [
    "Note that this is not necessarily true since a vector in the original feature space could be mapped to a pq-code that is represented  as zeros [0,0,...0]."
   ]
  },
  {
   "cell_type": "code",
   "execution_count": 108,
   "metadata": {
    "ExecuteTime": {
     "end_time": "2021-12-10T10:24:03.558460Z",
     "start_time": "2021-12-10T10:24:03.535400Z"
    }
   },
   "outputs": [],
   "source": [
    "precomputed = pq.pq_codec.precompute_adc(query[0])"
   ]
  },
  {
   "cell_type": "code",
   "execution_count": 198,
   "metadata": {
    "ExecuteTime": {
     "end_time": "2021-12-10T10:44:05.941739Z",
     "start_time": "2021-12-10T10:44:05.922735Z"
    }
   },
   "outputs": [],
   "source": [
    "from jina import DocumentArray\n",
    "da = DocumentArray([Document(embedding=query[0]),\n",
    "                    Document(embedding=Xtr[0])])"
   ]
  },
  {
   "cell_type": "markdown",
   "metadata": {},
   "source": [
    "We can search matches for documents in a documentarray using `.search`.\n",
    "\n",
    "Note that this does not return anything"
   ]
  },
  {
   "cell_type": "code",
   "execution_count": 199,
   "metadata": {
    "ExecuteTime": {
     "end_time": "2021-12-10T10:44:06.374194Z",
     "start_time": "2021-12-10T10:44:06.329441Z"
    }
   },
   "outputs": [],
   "source": [
    "pq.search(da,limit=5)"
   ]
  },
  {
   "cell_type": "markdown",
   "metadata": {},
   "source": [
    "But the documentarray is updated with matches in each of the docs of the documentarray"
   ]
  },
  {
   "cell_type": "code",
   "execution_count": 200,
   "metadata": {
    "ExecuteTime": {
     "end_time": "2021-12-10T10:44:06.707366Z",
     "start_time": "2021-12-10T10:44:06.687774Z"
    }
   },
   "outputs": [
    {
     "data": {
      "text/plain": [
       "['10', '207', '135', '272', '398']"
      ]
     },
     "execution_count": 200,
     "metadata": {},
     "output_type": "execute_result"
    }
   ],
   "source": [
    "[m.id for m in da[0].matches]"
   ]
  },
  {
   "cell_type": "markdown",
   "metadata": {
    "ExecuteTime": {
     "end_time": "2021-11-29T16:53:11.770106Z",
     "start_time": "2021-11-29T16:53:11.751255Z"
    }
   },
   "source": [
    "We can anually look at the euclidean distances with"
   ]
  },
  {
   "cell_type": "code",
   "execution_count": 201,
   "metadata": {
    "ExecuteTime": {
     "end_time": "2021-12-10T10:44:07.066861Z",
     "start_time": "2021-12-10T10:44:07.047065Z"
    }
   },
   "outputs": [
    {
     "data": {
      "text/plain": [
       "[5.459360599517822,\n",
       " 173.40541076660156,\n",
       " 184.3723602294922,\n",
       " 187.82205200195312,\n",
       " 188.35154724121094]"
      ]
     },
     "execution_count": 201,
     "metadata": {},
     "output_type": "execute_result"
    }
   ],
   "source": [
    "[x.scores['euclidean'].value for x in da[0].matches]"
   ]
  },
  {
   "cell_type": "code",
   "execution_count": 202,
   "metadata": {
    "ExecuteTime": {
     "end_time": "2021-12-10T10:44:07.954831Z",
     "start_time": "2021-12-10T10:44:07.936257Z"
    }
   },
   "outputs": [
    {
     "data": {
      "text/plain": [
       "[6.382546424865723,\n",
       " 149.67112731933594,\n",
       " 157.03163146972656,\n",
       " 181.40065002441406,\n",
       " 184.99688720703125]"
      ]
     },
     "execution_count": 202,
     "metadata": {},
     "output_type": "execute_result"
    }
   ],
   "source": [
    "[x.scores['euclidean'].value for x in da[1].matches]"
   ]
  },
  {
   "cell_type": "markdown",
   "metadata": {},
   "source": [
    "The search method will look into the different cells and search on each cell retrieve elements and compute distances. In each cell the method `.search` will be called.\n",
    "\n",
    "Note that the distance 5.45 appears in one of the cells if we exhaustively search across cells for the closest matches."
   ]
  },
  {
   "cell_type": "code",
   "execution_count": 203,
   "metadata": {
    "ExecuteTime": {
     "end_time": "2021-12-10T10:44:08.340262Z",
     "start_time": "2021-12-10T10:44:08.307868Z"
    }
   },
   "outputs": [
    {
     "data": {
      "text/plain": [
       "[(array([5587.41992188]), array([62])),\n",
       " (array([5587.41992188]), array([72])),\n",
       " (array([5587.41992188]), array([76])),\n",
       " (array([5587.41992188]), array([38])),\n",
       " (array([5587.41992188]), array([41])),\n",
       " (array([5.4593606]), array([2])),\n",
       " (array([188.35154724]), array([25])),\n",
       " (array([173.40541077]), array([23])),\n",
       " (array([5587.41992188]), array([6])),\n",
       " (array([5587.41992188]), array([28]))]"
      ]
     },
     "execution_count": 203,
     "metadata": {},
     "output_type": "execute_result"
    }
   ],
   "source": [
    "[pq._vec_indexes[i].search(query[0], 1) for i in range(len(pq._vec_indexes))]"
   ]
  },
  {
   "cell_type": "code",
   "execution_count": 204,
   "metadata": {
    "ExecuteTime": {
     "end_time": "2021-12-10T10:44:08.542859Z",
     "start_time": "2021-12-10T10:44:08.508593Z"
    }
   },
   "outputs": [
    {
     "data": {
      "text/plain": [
       "[(array([5676.70800781]), array([62])),\n",
       " (array([5676.70800781]), array([72])),\n",
       " (array([5676.70800781]), array([76])),\n",
       " (array([5676.70800781]), array([38])),\n",
       " (array([5676.70800781]), array([41])),\n",
       " (array([6.38254642]), array([0])),\n",
       " (array([202.37226868]), array([11])),\n",
       " (array([185.46856689]), array([19])),\n",
       " (array([5676.70800781]), array([6])),\n",
       " (array([5676.70800781]), array([28]))]"
      ]
     },
     "execution_count": 204,
     "metadata": {},
     "output_type": "execute_result"
    }
   ],
   "source": [
    "[pq._vec_indexes[i].search(Xtr[0], 1) for i in range(len(pq._vec_indexes))]"
   ]
  },
  {
   "cell_type": "markdown",
   "metadata": {},
   "source": [
    "An important observation is that the closest elements in many cells are really far from the best elments in a few cells. This suggests there is not need to look into all cells at query time (for this examples)."
   ]
  },
  {
   "cell_type": "markdown",
   "metadata": {},
   "source": [
    "### Searching with filtering\n",
    "\n",
    "We can filter according to a set of tags of the documents"
   ]
  },
  {
   "cell_type": "code",
   "execution_count": 214,
   "metadata": {
    "ExecuteTime": {
     "end_time": "2021-12-10T10:46:46.099177Z",
     "start_time": "2021-12-10T10:46:45.965083Z"
    }
   },
   "outputs": [],
   "source": [
    "!rm -rf ./data"
   ]
  },
  {
   "cell_type": "code",
   "execution_count": 215,
   "metadata": {
    "ExecuteTime": {
     "end_time": "2021-12-10T10:46:47.496779Z",
     "start_time": "2021-12-10T10:46:46.226834Z"
    }
   },
   "outputs": [
    {
     "name": "stderr",
     "output_type": "stream",
     "text": [
      "2021-12-10 11:46:46.248 | INFO     | pqlite.index:__init__:89 - Initialize VQ codec (K=10)\n",
      "2021-12-10 11:46:46.248 | INFO     | pqlite.index:__init__:99 - Initialize PQ codec (n_subvectors=32)\n",
      "2021-12-10 11:46:46.264 | INFO     | pqlite.index:train:141 - Start training VQ codec (K=10) with 480 data...\n",
      "2021-12-10 11:46:46.279 | INFO     | pqlite.index:train:147 - Start training PQ codec (n_subvectors=32) with 480 data...\n",
      "2021-12-10 11:46:47.408 | INFO     | pqlite.index:train:152 - The pqlite is successfully trained!\n",
      "2021-12-10 11:46:47.408 | INFO     | pqlite.index:dump_model:297 - Save the trained parameters to data/0a7dfc558abb6bc6cb48db43ccf64964\n",
      "2021-12-10 11:46:47.494 | DEBUG    | pqlite.container:insert:203 - => 480 new docs added\n"
     ]
    }
   ],
   "source": [
    "\n",
    "Nt = 500\n",
    "\n",
    "np.random.seed(1234)\n",
    "Xtr, Xte = train_test_split(make_blobs(n_samples = Nt, n_features = D)[0].astype(np.float32), test_size=20)\n",
    "\n",
    "# the column schema: (name:str, dtype:type, create_index: bool)\n",
    "pq = PQLite(dim=D, \n",
    "            n_cells=n_cells,\n",
    "            n_subvectors=n_subvectors, \n",
    "            columns=[('price',float), ('category', str)])\n",
    "\n",
    "pq.train(Xtr)\n",
    "\n",
    "CATEGORIES = ['comics','movies','audiobook']\n",
    "da = DocumentArray([Document(id=f'{i}', \n",
    "                             embedding=Xtr[i], \n",
    "                             tags={\n",
    "                                   'price': np.random.choice((5.,10.,25.,100.)),\n",
    "                                   'category':np.random.choice(CATEGORIES),\n",
    "                                 }) for i in range(len(Xtr))])\n",
    "    \n",
    "pq.index(da)"
   ]
  },
  {
   "cell_type": "code",
   "execution_count": 252,
   "metadata": {
    "ExecuteTime": {
     "end_time": "2021-12-10T10:49:06.180032Z",
     "start_time": "2021-12-10T10:49:06.158503Z"
    }
   },
   "outputs": [],
   "source": [
    "query_da = DocumentArray([Document(embedding=Xtr[0], tags={'price':0.23})])\n",
    "\n",
    "pq.search(query_da, filter={'price': {'$lt': 150}}, limit=5)"
   ]
  },
  {
   "cell_type": "code",
   "execution_count": 253,
   "metadata": {
    "ExecuteTime": {
     "end_time": "2021-12-10T10:49:06.369140Z",
     "start_time": "2021-12-10T10:49:06.349251Z"
    }
   },
   "outputs": [
    {
     "data": {
      "text/plain": [
       "[6.262570858001709,\n",
       " 148.74696350097656,\n",
       " 161.92678833007812,\n",
       " 178.64292907714844,\n",
       " 181.718994140625]"
      ]
     },
     "execution_count": 253,
     "metadata": {},
     "output_type": "execute_result"
    }
   ],
   "source": [
    "[x.scores['euclidean'].value for x in query_da[0].matches]"
   ]
  },
  {
   "cell_type": "code",
   "execution_count": 254,
   "metadata": {
    "ExecuteTime": {
     "end_time": "2021-12-10T10:49:07.718123Z",
     "start_time": "2021-12-10T10:49:07.699051Z"
    }
   },
   "outputs": [
    {
     "data": {
      "text/plain": [
       "[<jina.types.struct.StructView () at 140440233829376>,\n",
       " <jina.types.struct.StructView () at 140440233830288>,\n",
       " <jina.types.struct.StructView () at 140440233831728>,\n",
       " <jina.types.struct.StructView () at 140440233829664>,\n",
       " <jina.types.struct.StructView () at 140440233832112>]"
      ]
     },
     "execution_count": 254,
     "metadata": {},
     "output_type": "execute_result"
    }
   ],
   "source": [
    "[x.tags['price'] for x in query_da[0].matches]"
   ]
  },
  {
   "cell_type": "code",
   "execution_count": 219,
   "metadata": {
    "ExecuteTime": {
     "end_time": "2021-12-10T10:46:53.576438Z",
     "start_time": "2021-12-10T10:46:53.558291Z"
    }
   },
   "outputs": [
    {
     "data": {
      "text/plain": [
       "<jina.types.struct.StructView () at 140440209600720>"
      ]
     },
     "execution_count": 219,
     "metadata": {},
     "output_type": "execute_result"
    }
   ],
   "source": [
    "query_da[0].matches[0].tags['price']"
   ]
  },
  {
   "cell_type": "code",
   "execution_count": 220,
   "metadata": {
    "ExecuteTime": {
     "end_time": "2021-12-10T10:46:54.050357Z",
     "start_time": "2021-12-10T10:46:54.031351Z"
    },
    "code_folding": []
   },
   "outputs": [
    {
     "data": {
      "text/plain": [
       "0.23"
      ]
     },
     "execution_count": 220,
     "metadata": {},
     "output_type": "execute_result"
    }
   ],
   "source": [
    "# why is this empty?\n",
    "query_da[0].tags['price']"
   ]
  },
  {
   "cell_type": "markdown",
   "metadata": {
    "ExecuteTime": {
     "end_time": "2021-11-30T11:30:57.604154Z",
     "start_time": "2021-11-30T11:30:57.585983Z"
    }
   },
   "source": [
    "If No conditions are introduced..."
   ]
  },
  {
   "cell_type": "code",
   "execution_count": 223,
   "metadata": {
    "ExecuteTime": {
     "end_time": "2021-12-10T10:47:05.497272Z",
     "start_time": "2021-12-10T10:47:05.465167Z"
    }
   },
   "outputs": [
    {
     "data": {
      "text/plain": [
       "[<jina.types.struct.StructView () at 140440212043712>,\n",
       " <jina.types.struct.StructView () at 140440212043856>,\n",
       " <jina.types.struct.StructView () at 140440212043760>,\n",
       " <jina.types.struct.StructView () at 140440212043952>,\n",
       " <jina.types.struct.StructView () at 140440212042128>,\n",
       " <jina.types.struct.StructView () at 140440212043472>,\n",
       " <jina.types.struct.StructView () at 140440212043904>,\n",
       " <jina.types.struct.StructView () at 140440209585056>,\n",
       " <jina.types.struct.StructView () at 140440209585584>,\n",
       " <jina.types.struct.StructView () at 140440209543072>]"
      ]
     },
     "execution_count": 223,
     "metadata": {},
     "output_type": "execute_result"
    }
   ],
   "source": [
    "pq.search(query_da,  limit=10)\n",
    "[x.tags['price'] for x in query_da[0].matches]"
   ]
  },
  {
   "cell_type": "code",
   "execution_count": 224,
   "metadata": {
    "ExecuteTime": {
     "end_time": "2021-12-10T10:47:10.123206Z",
     "start_time": "2021-12-10T10:47:10.085974Z"
    }
   },
   "outputs": [],
   "source": [
    "query_da = DocumentArray([Document(embedding=Xtr[0], tags={'price':50})])\n",
    "conditions = [('category', '=', 'movies')]\n",
    "pq.search(query_da, conditions, limit=20)"
   ]
  },
  {
   "cell_type": "code",
   "execution_count": 225,
   "metadata": {
    "ExecuteTime": {
     "end_time": "2021-12-10T10:47:10.814405Z",
     "start_time": "2021-12-10T10:47:10.795089Z"
    }
   },
   "outputs": [
    {
     "data": {
      "text/plain": [
       "[False,\n",
       " False,\n",
       " False,\n",
       " False,\n",
       " False,\n",
       " False,\n",
       " False,\n",
       " False,\n",
       " False,\n",
       " False,\n",
       " False,\n",
       " False,\n",
       " False,\n",
       " False,\n",
       " False,\n",
       " False,\n",
       " False,\n",
       " False,\n",
       " False,\n",
       " False]"
      ]
     },
     "execution_count": 225,
     "metadata": {},
     "output_type": "execute_result"
    }
   ],
   "source": [
    "([x.tags['category']=='movies' for x in query_da[0].matches])"
   ]
  },
  {
   "cell_type": "code",
   "execution_count": 160,
   "metadata": {
    "ExecuteTime": {
     "end_time": "2021-12-10T10:32:16.505566Z",
     "start_time": "2021-12-10T10:32:16.487924Z"
    }
   },
   "outputs": [],
   "source": [
    "#da.embeddings.shape"
   ]
  },
  {
   "cell_type": "code",
   "execution_count": 161,
   "metadata": {
    "ExecuteTime": {
     "end_time": "2021-12-10T10:32:16.677305Z",
     "start_time": "2021-12-10T10:32:16.659750Z"
    }
   },
   "outputs": [],
   "source": [
    "#pq.cell_tables[0].count()"
   ]
  },
  {
   "cell_type": "code",
   "execution_count": 162,
   "metadata": {
    "ExecuteTime": {
     "end_time": "2021-12-10T10:32:16.847331Z",
     "start_time": "2021-12-10T10:32:16.828123Z"
    }
   },
   "outputs": [
    {
     "data": {
      "text/plain": [
       "{'_conn_name': ':memory:',\n",
       " '_name': 'table_0',\n",
       " '_conn': <sqlite3.Connection at 0x7fba982fc030>,\n",
       " '_columns': ['price FLOAT', 'category TEXT'],\n",
       " '_indexed_keys': {'category', 'price'}}"
      ]
     },
     "execution_count": 162,
     "metadata": {},
     "output_type": "execute_result"
    }
   ],
   "source": [
    "pq.cell_tables[0].__dict__"
   ]
  },
  {
   "cell_type": "code",
   "execution_count": null,
   "metadata": {},
   "outputs": [],
   "source": []
  },
  {
   "cell_type": "code",
   "execution_count": null,
   "metadata": {},
   "outputs": [],
   "source": []
  },
  {
   "cell_type": "code",
   "execution_count": null,
   "metadata": {},
   "outputs": [],
   "source": []
  }
 ],
 "metadata": {
  "kernelspec": {
   "display_name": "Python 3 (ipykernel)",
   "language": "python",
   "name": "python3"
  },
  "language_info": {
   "codemirror_mode": {
    "name": "ipython",
    "version": 3
   },
   "file_extension": ".py",
   "mimetype": "text/x-python",
   "name": "python",
   "nbconvert_exporter": "python",
   "pygments_lexer": "ipython3",
   "version": "3.8.5"
  },
  "toc": {
   "base_numbering": 1,
   "nav_menu": {},
   "number_sections": true,
   "sideBar": true,
   "skip_h1_title": false,
   "title_cell": "Table of Contents",
   "title_sidebar": "Contents",
   "toc_cell": true,
   "toc_position": {
    "height": "calc(100% - 180px)",
    "left": "10px",
    "top": "150px",
    "width": "165px"
   },
   "toc_section_display": true,
   "toc_window_display": true
  },
  "varInspector": {
   "cols": {
    "lenName": 16,
    "lenType": 16,
    "lenVar": 40
   },
   "kernels_config": {
    "python": {
     "delete_cmd_postfix": "",
     "delete_cmd_prefix": "del ",
     "library": "var_list.py",
     "varRefreshCmd": "print(var_dic_list())"
    },
    "r": {
     "delete_cmd_postfix": ") ",
     "delete_cmd_prefix": "rm(",
     "library": "var_list.r",
     "varRefreshCmd": "cat(var_dic_list()) "
    }
   },
   "types_to_exclude": [
    "module",
    "function",
    "builtin_function_or_method",
    "instance",
    "_Feature"
   ],
   "window_display": false
  }
 },
 "nbformat": 4,
 "nbformat_minor": 4
}
