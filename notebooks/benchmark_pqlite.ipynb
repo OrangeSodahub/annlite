{
 "cells": [
  {
   "cell_type": "markdown",
   "metadata": {
    "toc": true
   },
   "source": [
    "<h1>Table of Contents<span class=\"tocSkip\"></span></h1>\n",
    "<div class=\"toc\"><ul class=\"toc-item\"><li><span><a href=\"#Benchmark-pqlite\" data-toc-modified-id=\"Benchmark-pqlite-1\"><span class=\"toc-item-num\">1&nbsp;&nbsp;</span>Benchmark pqlite</a></span><ul class=\"toc-item\"><li><span><a href=\"#Time\" data-toc-modified-id=\"Time-1.1\"><span class=\"toc-item-num\">1.1&nbsp;&nbsp;</span>Time</a></span></li><li><span><a href=\"#Quality\" data-toc-modified-id=\"Quality-1.2\"><span class=\"toc-item-num\">1.2&nbsp;&nbsp;</span>Quality</a></span><ul class=\"toc-item\"><li><span><a href=\"#Plotting-pq-neighbors-vs-true-neighbors\" data-toc-modified-id=\"Plotting-pq-neighbors-vs-true-neighbors-1.2.1\"><span class=\"toc-item-num\">1.2.1&nbsp;&nbsp;</span>Plotting <code>pq neighbors</code> vs <code>true neighbors</code></a></span></li></ul></li><li><span><a href=\"#precision,-recall,-query_time-vs-n_subvectors-&amp;--n_cells\" data-toc-modified-id=\"precision,-recall,-query_time-vs-n_subvectors-&amp;--n_cells-1.3\"><span class=\"toc-item-num\">1.3&nbsp;&nbsp;</span><code>precision, recall, query_time</code> vs <code>n_subvectors</code> &amp;  <code>n_cells</code></a></span></li></ul></li></ul></div>"
   ]
  },
  {
   "cell_type": "markdown",
   "metadata": {
    "ExecuteTime": {
     "end_time": "2021-11-15T10:56:27.351656Z",
     "start_time": "2021-11-15T10:56:27.349773Z"
    }
   },
   "source": [
    "## Benchmark pqlite"
   ]
  },
  {
   "cell_type": "code",
   "execution_count": 1,
   "metadata": {
    "ExecuteTime": {
     "end_time": "2021-12-10T15:43:37.004817Z",
     "start_time": "2021-12-10T15:43:36.973891Z"
    }
   },
   "outputs": [],
   "source": [
    "%load_ext autoreload\n",
    "%autoreload 2"
   ]
  },
  {
   "cell_type": "code",
   "execution_count": 2,
   "metadata": {
    "ExecuteTime": {
     "end_time": "2021-12-10T15:52:23.634972Z",
     "start_time": "2021-12-10T15:52:23.475877Z"
    }
   },
   "outputs": [],
   "source": [
    "!rm -rf data/"
   ]
  },
  {
   "cell_type": "code",
   "execution_count": 4,
   "metadata": {
    "ExecuteTime": {
     "end_time": "2021-12-10T15:43:37.732429Z",
     "start_time": "2021-12-10T15:43:37.708050Z"
    }
   },
   "outputs": [
    {
     "name": "stderr",
     "output_type": "stream",
     "text": [
      "\u001b[1;33mDeprecationWarning: `np.int` is a deprecated alias for the builtin `int`. To silence this warning, use `int` by itself. Doing this will not modify any behavior and is safe. When replacing `np.int`, you may wish to use e.g. `np.int64` or `np.int32` to specify the precision. If you wish to review your current use, check the release note link for additional information.\n",
      "Deprecated in NumPy 1.20; for more details and guidance: https://numpy.org/devdocs/release/1.20.0-notes.html#deprecations\u001b[0m \u001b[1;30m(raised from /Users/fengwang/.pyenv/versions/3.8.3/lib/python3.8/site-packages/sklearn/feature_extraction/image.py:172)\u001b[0m\n"
     ]
    }
   ],
   "source": [
    "import pqlite\n",
    "pqlite.__path__\n",
    "import time\n",
    "\n",
    "import jina\n",
    "from docarray.math.distance import cdist\n",
    "\n",
    "import sklearn\n",
    "from sklearn.datasets import make_blobs\n",
    "from sklearn.model_selection import train_test_split"
   ]
  },
  {
   "cell_type": "code",
   "execution_count": 6,
   "metadata": {
    "ExecuteTime": {
     "end_time": "2021-12-10T15:45:09.404850Z",
     "start_time": "2021-12-10T15:43:37.907684Z"
    },
    "scrolled": true
   },
   "outputs": [
    {
     "name": "stderr",
     "output_type": "stream",
     "text": [
      "2021-12-21 01:40:25.194 | INFO     | pqlite.index:__init__:90 - Initialize VQ codec (K=18)\n",
      "2021-12-21 01:40:25.194 | INFO     | pqlite.index:__init__:100 - Initialize PQ codec (n_subvectors=128)\n"
     ]
    }
   ],
   "source": [
    "import random\n",
    "import numpy as np\n",
    "from pqlite import PQLite\n",
    "\n",
    "#N = 100_000 # number of data points\n",
    "Nt = 12_500 \n",
    "Nq = 1\n",
    "D = 128 # dimentionality / number of features\n",
    "top_k = 100\n",
    "n_cells = 18\n",
    "n_subvectors = 128\n",
    "\n",
    "# 2,000 128-dim vectors for training\n",
    "np.random.seed(123)\n",
    "Xtr, Xte = train_test_split(make_blobs(n_samples = Nt, n_features = D)[0].astype(np.float32), test_size=20)\n",
    "#Xt = np.random.random((Nt, D)).astype(np.float32)  \n",
    "\n",
    "# the column schema: (name:str, dtype:type, create_index: bool)\n",
    "pq = PQLite(dim=D, \n",
    "            metric='euclidean',\n",
    "            n_cells=n_cells,\n",
    "            n_subvectors=n_subvectors, \n",
    "            columns=[('x',float)])\n",
    "\n",
    "pq.pq_codec.fit(Xtr)"
   ]
  },
  {
   "cell_type": "code",
   "execution_count": 7,
   "metadata": {
    "ExecuteTime": {
     "end_time": "2021-12-10T15:47:33.983746Z",
     "start_time": "2021-12-10T15:45:57.221872Z"
    }
   },
   "outputs": [
    {
     "name": "stderr",
     "output_type": "stream",
     "text": [
      "2021-12-21 01:41:22.824 | INFO     | pqlite.index:train:143 - Start training VQ codec (K=18) with 12480 data...\n",
      "2021-12-21 01:41:23.203 | INFO     | pqlite.index:train:149 - Start training PQ codec (n_subvectors=128) with 12480 data...\n",
      "\u001b[1;33mUserWarning: One of the clusters is empty. Re-run kmeans with a different initialization.\u001b[0m \u001b[1;30m(raised from /Users/fengwang/.pyenv/versions/3.8.3/lib/python3.8/site-packages/scipy/cluster/vq.py:607)\u001b[0m\n",
      "2021-12-21 01:42:20.537 | INFO     | pqlite.index:train:154 - The pqlite is successfully trained!\n",
      "2021-12-21 01:42:20.538 | INFO     | pqlite.index:dump_model:354 - Save the trained parameters to data/bb79b2424c66ca6ba5a8c46814345738\n",
      "2021-12-21 01:42:21.649 | DEBUG    | pqlite.container:insert:225 - => 12480 new docs added\n"
     ]
    }
   ],
   "source": [
    "from jina import Document, DocumentArray\n",
    "\n",
    "da = DocumentArray([Document(id=f'{i}', embedding=Xtr[i]) for i in range(len(Xtr))])\n",
    "pq.train(Xtr)\n",
    "pq.index(da)"
   ]
  },
  {
   "cell_type": "code",
   "execution_count": 8,
   "metadata": {
    "ExecuteTime": {
     "end_time": "2021-12-10T15:47:34.182870Z",
     "start_time": "2021-12-10T15:47:34.154715Z"
    }
   },
   "outputs": [],
   "source": [
    "Nq = 1\n",
    "query_da = DocumentArray([Document(embedding=Xte[10])])\n",
    "\n",
    "# without filtering\n",
    "#pq.search(query_da, limit=5)"
   ]
  },
  {
   "cell_type": "code",
   "execution_count": 9,
   "metadata": {
    "ExecuteTime": {
     "end_time": "2021-12-10T15:47:40.298861Z",
     "start_time": "2021-12-10T15:47:40.220109Z"
    }
   },
   "outputs": [],
   "source": [
    "pq.search(query_da,  limit=top_k)"
   ]
  },
  {
   "cell_type": "markdown",
   "metadata": {},
   "source": [
    "### Time"
   ]
  },
  {
   "cell_type": "code",
   "execution_count": 18,
   "metadata": {
    "ExecuteTime": {
     "end_time": "2021-12-10T15:47:47.790654Z",
     "start_time": "2021-12-10T15:47:44.146664Z"
    }
   },
   "outputs": [
    {
     "name": "stdout",
     "output_type": "stream",
     "text": [
      "41.7 ms ± 418 µs per loop (mean ± std. dev. of 7 runs, 10 loops each)\n"
     ]
    }
   ],
   "source": [
    "%timeit pq._search_numpy(Xte[[10]],  limit=top_k)"
   ]
  },
  {
   "cell_type": "code",
   "execution_count": 19,
   "metadata": {
    "ExecuteTime": {
     "end_time": "2021-12-10T15:47:51.816038Z",
     "start_time": "2021-12-10T15:47:47.956582Z"
    }
   },
   "outputs": [
    {
     "name": "stdout",
     "output_type": "stream",
     "text": [
      "45.5 ms ± 314 µs per loop (mean ± std. dev. of 7 runs, 10 loops each)\n"
     ]
    }
   ],
   "source": [
    "%timeit pq.search(query_da,  limit=top_k)"
   ]
  },
  {
   "cell_type": "code",
   "execution_count": 20,
   "metadata": {
    "ExecuteTime": {
     "end_time": "2021-12-10T15:47:53.990557Z",
     "start_time": "2021-12-10T15:47:51.991339Z"
    }
   },
   "outputs": [
    {
     "name": "stdout",
     "output_type": "stream",
     "text": [
      "940 µs ± 30.4 µs per loop (mean ± std. dev. of 7 runs, 1000 loops each)\n"
     ]
    }
   ],
   "source": [
    "%timeit res = cdist(Xte[[10]], Xtr, metric='euclidean')"
   ]
  },
  {
   "cell_type": "markdown",
   "metadata": {},
   "source": [
    "### Quality\n",
    "\n",
    "Manually observing slices of a high dimensional space it seems that the\n",
    "retrieved items from pqlite are nearby the query and the best values from the exact and exhaustive distance computations."
   ]
  },
  {
   "cell_type": "code",
   "execution_count": 21,
   "metadata": {
    "ExecuteTime": {
     "end_time": "2021-12-10T15:47:54.200585Z",
     "start_time": "2021-12-10T15:47:54.168926Z"
    },
    "code_folding": []
   },
   "outputs": [],
   "source": [
    "def _precision(predicted, relevant, eval_at):\n",
    "    \"\"\"\n",
    "    fraction of retrieved documents that are relevant to the query\n",
    "    \"\"\"\n",
    "    if eval_at == 0:\n",
    "        return 0.0\n",
    "    predicted_at_k = predicted[:eval_at]\n",
    "    n_predicted_and_relevant = len(set(predicted_at_k).intersection(set(relevant)))\n",
    "\n",
    "    return n_predicted_and_relevant / len(predicted)\n",
    "\n",
    "def _recall(predicted, relevant, eval_at):\n",
    "    \"\"\"\n",
    "    fraction of the relevant documents that are successfully retrieved\n",
    "    \"\"\"\n",
    "    if eval_at == 0:\n",
    "        return 0.0\n",
    "    predicted_at_k = predicted[:eval_at]\n",
    "    n_predicted_and_relevant = len(set(predicted_at_k).intersection(set(relevant)))\n",
    "    return n_predicted_and_relevant/ len(relevant)\n"
   ]
  },
  {
   "cell_type": "code",
   "execution_count": 22,
   "metadata": {
    "ExecuteTime": {
     "end_time": "2021-12-10T15:47:54.827583Z",
     "start_time": "2021-12-10T15:47:54.800511Z"
    }
   },
   "outputs": [],
   "source": [
    "query = Xte[[11]]  \n",
    "true_distances = cdist(query, Xtr, metric='euclidean').flatten()\n",
    "\n",
    "true_ids = np.argsort(true_distances)[0:top_k]\n",
    "true_dists = true_distances[true_ids]"
   ]
  },
  {
   "cell_type": "code",
   "execution_count": 23,
   "metadata": {
    "ExecuteTime": {
     "end_time": "2021-12-10T15:47:55.928361Z",
     "start_time": "2021-12-10T15:47:55.904105Z"
    }
   },
   "outputs": [
    {
     "data": {
      "text/plain": [
       "array([    0,   192,   300,   371,   545,   677,   767,   813,   933,\n",
       "        1000,  1131,  1219,  1308,  1389,  1590,  1615,  1686,  1713,\n",
       "        1740,  1802,  1943,  2372,  2447,  2618,  2719,  2921,  3010,\n",
       "        3258,  3337,  3418,  3926,  3967,  4140,  4376,  4612,  4625,\n",
       "        4661,  5243,  5433,  5491,  5534,  5619,  5657,  5693,  5699,\n",
       "        5875,  6016,  6413,  6440,  6511,  6624,  6772,  6825,  7103,\n",
       "        7125,  7155,  7948,  8025,  8052,  8098,  8251,  8327,  8366,\n",
       "        8551,  8572,  8931,  9087,  9094,  9239,  9356,  9739,  9867,\n",
       "        9877,  9952,  9978,  9987, 10077, 10174, 10187, 10214, 10277,\n",
       "       10457, 10488, 10982, 11059, 11077, 11083, 11115, 11172, 11280,\n",
       "       11379, 11382, 11445, 11641, 11911, 12001, 12194, 12212, 12234,\n",
       "       12342])"
      ]
     },
     "execution_count": 23,
     "metadata": {},
     "output_type": "execute_result"
    }
   ],
   "source": [
    "true_ids.sort()\n",
    "true_ids"
   ]
  },
  {
   "cell_type": "code",
   "execution_count": 25,
   "metadata": {
    "ExecuteTime": {
     "end_time": "2021-12-10T15:50:49.531536Z",
     "start_time": "2021-12-10T15:50:49.463082Z"
    }
   },
   "outputs": [],
   "source": [
    "pq_dists, pq_ids = pq._search_numpy(query,  limit=top_k)\n",
    "pq_ids = pq_ids[0]"
   ]
  },
  {
   "cell_type": "code",
   "execution_count": 26,
   "metadata": {
    "ExecuteTime": {
     "end_time": "2021-12-10T15:50:49.726828Z",
     "start_time": "2021-12-10T15:50:49.702731Z"
    }
   },
   "outputs": [
    {
     "data": {
      "text/plain": [
       "array([    0,   767,  4612,  1686,  7103, 11280, 10457, 12212,  2372,\n",
       "        9356, 11911,  1943,  5875,  9952,  2447, 10982, 11077,  6413,\n",
       "       10277,  1000, 11641, 12001, 11115,  8551,  5534,  9087,  4661,\n",
       "        1219,  3258,  6016,  1389,  7948,  5699,  6440,  9239,  5433,\n",
       "       11379,  2921,  7155, 11445,  8052,  5243,   371,  4140,  8251,\n",
       "        1590, 12234,   545,  3926,  7125,  5693,  9739,  6772,  1308,\n",
       "        8931,  8572,  1131, 11172, 12342,  6825,  9094, 10488,  2618,\n",
       "       10187,  5619,  9867,   933,  4376, 11083,   813,  1802,  3418,\n",
       "       12194, 10174,  1740,   300,  8025,  3337,  1713, 10077,   677,\n",
       "        9987, 10214,  4625,  6624,  9978,  9877,  8366,  5657,  8098,\n",
       "        8327,  2719,  9980,   192,  3010, 11059,   608,  6511,  3967,\n",
       "       11382])"
      ]
     },
     "execution_count": 26,
     "metadata": {},
     "output_type": "execute_result"
    }
   ],
   "source": [
    "pq_ids"
   ]
  },
  {
   "cell_type": "code",
   "execution_count": 27,
   "metadata": {
    "ExecuteTime": {
     "end_time": "2021-12-10T15:50:52.755617Z",
     "start_time": "2021-12-10T15:50:52.729197Z"
    }
   },
   "outputs": [
    {
     "name": "stdout",
     "output_type": "stream",
     "text": [
      "0.98\n",
      "0.98\n"
     ]
    }
   ],
   "source": [
    "print(_precision(true_ids, pq_ids, top_k))\n",
    "print(_recall(true_ids, pq_ids, top_k))"
   ]
  },
  {
   "cell_type": "markdown",
   "metadata": {},
   "source": [
    "#### Plotting `pq neighbors` vs `true neighbors`\n",
    "\n",
    "Here we should see orange and black dots close in the feature space (does not seem to work as expected)."
   ]
  },
  {
   "cell_type": "code",
   "execution_count": 28,
   "metadata": {
    "ExecuteTime": {
     "end_time": "2021-12-10T15:51:02.976547Z",
     "start_time": "2021-12-10T15:51:02.952737Z"
    }
   },
   "outputs": [
    {
     "name": "stderr",
     "output_type": "stream",
     "text": [
      "\u001b[1;33mDeprecationWarning: Using or importing the ABCs from 'collections' instead of from 'collections.abc' is deprecated since Python 3.3, and in 3.9 it will stop working\u001b[0m \u001b[1;30m(raised from /Users/fengwang/.pyenv/versions/3.8.3/lib/python3.8/site-packages/matplotlib/__init__.py:107)\u001b[0m\n",
      "\u001b[1;33mDeprecationWarning: Using or importing the ABCs from 'collections' instead of from 'collections.abc' is deprecated since Python 3.3, and in 3.9 it will stop working\u001b[0m \u001b[1;30m(raised from /Users/fengwang/.pyenv/versions/3.8.3/lib/python3.8/site-packages/matplotlib/rcsetup.py:21)\u001b[0m\n",
      "\u001b[1;33mDeprecationWarning: Using or importing the ABCs from 'collections' instead of from 'collections.abc' is deprecated since Python 3.3, and in 3.9 it will stop working\u001b[0m \u001b[1;30m(raised from /Users/fengwang/.pyenv/versions/3.8.3/lib/python3.8/site-packages/matplotlib/rcsetup.py:21)\u001b[0m\n",
      "\u001b[1;33mDeprecationWarning: Using or importing the ABCs from 'collections' instead of from 'collections.abc' is deprecated since Python 3.3, and in 3.9 it will stop working\u001b[0m \u001b[1;30m(raised from /Users/fengwang/.pyenv/versions/3.8.3/lib/python3.8/site-packages/matplotlib/colors.py:53)\u001b[0m\n"
     ]
    }
   ],
   "source": [
    "import matplotlib.pyplot as plt\n",
    "\n",
    "def paint_slice(Xtr, query, pq_ids, feat1, feat2):\n",
    "    plt.scatter(Xtr[:,feat1], Xtr[:,feat2], color='blue', alpha=0.2)\n",
    "\n",
    "    for pq_id in pq_ids:\n",
    "        plt.scatter(Xtr[pq_id, feat1], Xtr[pq_id, feat2], color='black')\n",
    "\n",
    "    for true_id in true_ids:\n",
    "        plt.scatter(Xtr[true_id, feat1], Xtr[true_id, feat2], color='orange')\n",
    "\n",
    "    plt.scatter(query[:, feat1], query[:, feat2], color='red')\n",
    "    "
   ]
  },
  {
   "cell_type": "code",
   "execution_count": 29,
   "metadata": {
    "ExecuteTime": {
     "end_time": "2021-12-10T15:51:32.396481Z",
     "start_time": "2021-12-10T15:51:31.540778Z"
    }
   },
   "outputs": [
    {
     "name": "stderr",
     "output_type": "stream",
     "text": [
      "\u001b[1;33mDeprecationWarning: Using or importing the ABCs from 'collections' instead of from 'collections.abc' is deprecated since Python 3.3, and in 3.9 it will stop working\u001b[0m \u001b[1;30m(raised from /Users/fengwang/.pyenv/versions/3.8.3/lib/python3.8/site-packages/matplotlib/cbook/__init__.py:2302)\u001b[0m\n",
      "\u001b[1;33mDeprecationWarning: Using or importing the ABCs from 'collections' instead of from 'collections.abc' is deprecated since Python 3.3, and in 3.9 it will stop working\u001b[0m \u001b[1;30m(raised from /Users/fengwang/.pyenv/versions/3.8.3/lib/python3.8/site-packages/matplotlib/cbook/__init__.py:2319)\u001b[0m\n",
      "\u001b[1;33mDeprecationWarning: PY_SSIZE_T_CLEAN will be required for '#' formats\u001b[0m \u001b[1;30m(raised from /Users/fengwang/.pyenv/versions/3.8.3/lib/python3.8/site-packages/matplotlib/backends/backend_agg.py:525)\u001b[0m\n",
      "\u001b[1;33mDeprecationWarning: PY_SSIZE_T_CLEAN will be required for '#' formats\u001b[0m \u001b[1;30m(raised from /Users/fengwang/.pyenv/versions/3.8.3/lib/python3.8/site-packages/matplotlib/backends/backend_agg.py:525)\u001b[0m\n",
      "\u001b[1;33mDeprecationWarning: PY_SSIZE_T_CLEAN will be required for '#' formats\u001b[0m \u001b[1;30m(raised from /Users/fengwang/.pyenv/versions/3.8.3/lib/python3.8/site-packages/matplotlib/backends/backend_agg.py:525)\u001b[0m\n",
      "\u001b[1;33mDeprecationWarning: PY_SSIZE_T_CLEAN will be required for '#' formats\u001b[0m \u001b[1;30m(raised from /Users/fengwang/.pyenv/versions/3.8.3/lib/python3.8/site-packages/matplotlib/backends/backend_agg.py:525)\u001b[0m\n",
      "\u001b[1;33mDeprecationWarning: PY_SSIZE_T_CLEAN will be required for '#' formats\u001b[0m \u001b[1;30m(raised from /Users/fengwang/.pyenv/versions/3.8.3/lib/python3.8/site-packages/matplotlib/backends/backend_agg.py:525)\u001b[0m\n",
      "\u001b[1;33mDeprecationWarning: PY_SSIZE_T_CLEAN will be required for '#' formats\u001b[0m \u001b[1;30m(raised from /Users/fengwang/.pyenv/versions/3.8.3/lib/python3.8/site-packages/matplotlib/backends/backend_agg.py:525)\u001b[0m\n",
      "\u001b[1;33mDeprecationWarning: PY_SSIZE_T_CLEAN will be required for '#' formats\u001b[0m \u001b[1;30m(raised from /Users/fengwang/.pyenv/versions/3.8.3/lib/python3.8/site-packages/matplotlib/backends/backend_agg.py:525)\u001b[0m\n",
      "\u001b[1;33mDeprecationWarning: PY_SSIZE_T_CLEAN will be required for '#' formats\u001b[0m \u001b[1;30m(raised from /Users/fengwang/.pyenv/versions/3.8.3/lib/python3.8/site-packages/matplotlib/backends/backend_agg.py:525)\u001b[0m\n",
      "\u001b[1;33mDeprecationWarning: PY_SSIZE_T_CLEAN will be required for '#' formats\u001b[0m \u001b[1;30m(raised from /Users/fengwang/.pyenv/versions/3.8.3/lib/python3.8/site-packages/matplotlib/backends/backend_agg.py:525)\u001b[0m\n",
      "\u001b[1;33mDeprecationWarning: PY_SSIZE_T_CLEAN will be required for '#' formats\u001b[0m \u001b[1;30m(raised from /Users/fengwang/.pyenv/versions/3.8.3/lib/python3.8/site-packages/matplotlib/backends/backend_agg.py:525)\u001b[0m\n",
      "\u001b[1;33mDeprecationWarning: PY_SSIZE_T_CLEAN will be required for '#' formats\u001b[0m \u001b[1;30m(raised from /Users/fengwang/.pyenv/versions/3.8.3/lib/python3.8/site-packages/matplotlib/backends/backend_agg.py:525)\u001b[0m\n",
      "\u001b[1;33mDeprecationWarning: PY_SSIZE_T_CLEAN will be required for '#' formats\u001b[0m \u001b[1;30m(raised from /Users/fengwang/.pyenv/versions/3.8.3/lib/python3.8/site-packages/matplotlib/backends/backend_agg.py:525)\u001b[0m\n",
      "\u001b[1;33mDeprecationWarning: PY_SSIZE_T_CLEAN will be required for '#' formats\u001b[0m \u001b[1;30m(raised from /Users/fengwang/.pyenv/versions/3.8.3/lib/python3.8/site-packages/matplotlib/backends/backend_agg.py:525)\u001b[0m\n",
      "\u001b[1;33mDeprecationWarning: PY_SSIZE_T_CLEAN will be required for '#' formats\u001b[0m \u001b[1;30m(raised from /Users/fengwang/.pyenv/versions/3.8.3/lib/python3.8/site-packages/matplotlib/backends/backend_agg.py:525)\u001b[0m\n",
      "\u001b[1;33mDeprecationWarning: PY_SSIZE_T_CLEAN will be required for '#' formats\u001b[0m \u001b[1;30m(raised from /Users/fengwang/.pyenv/versions/3.8.3/lib/python3.8/site-packages/matplotlib/backends/backend_agg.py:525)\u001b[0m\n",
      "\u001b[1;33mDeprecationWarning: PY_SSIZE_T_CLEAN will be required for '#' formats\u001b[0m \u001b[1;30m(raised from /Users/fengwang/.pyenv/versions/3.8.3/lib/python3.8/site-packages/matplotlib/backends/backend_agg.py:525)\u001b[0m\n",
      "\u001b[1;33mDeprecationWarning: PY_SSIZE_T_CLEAN will be required for '#' formats\u001b[0m \u001b[1;30m(raised from /Users/fengwang/.pyenv/versions/3.8.3/lib/python3.8/site-packages/matplotlib/backends/backend_agg.py:525)\u001b[0m\n",
      "\u001b[1;33mDeprecationWarning: PY_SSIZE_T_CLEAN will be required for '#' formats\u001b[0m \u001b[1;30m(raised from /Users/fengwang/.pyenv/versions/3.8.3/lib/python3.8/site-packages/matplotlib/backends/backend_agg.py:525)\u001b[0m\n",
      "\u001b[1;33mDeprecationWarning: PY_SSIZE_T_CLEAN will be required for '#' formats\u001b[0m \u001b[1;30m(raised from /Users/fengwang/.pyenv/versions/3.8.3/lib/python3.8/site-packages/matplotlib/backends/backend_agg.py:525)\u001b[0m\n",
      "\u001b[1;33mDeprecationWarning: PY_SSIZE_T_CLEAN will be required for '#' formats\u001b[0m \u001b[1;30m(raised from /Users/fengwang/.pyenv/versions/3.8.3/lib/python3.8/site-packages/matplotlib/backends/backend_agg.py:525)\u001b[0m\n",
      "\u001b[1;33mDeprecationWarning: PY_SSIZE_T_CLEAN will be required for '#' formats\u001b[0m \u001b[1;30m(raised from /Users/fengwang/.pyenv/versions/3.8.3/lib/python3.8/site-packages/matplotlib/backends/backend_agg.py:525)\u001b[0m\n",
      "\u001b[1;33mDeprecationWarning: PY_SSIZE_T_CLEAN will be required for '#' formats\u001b[0m \u001b[1;30m(raised from /Users/fengwang/.pyenv/versions/3.8.3/lib/python3.8/site-packages/matplotlib/backends/backend_agg.py:525)\u001b[0m\n",
      "\u001b[1;33mDeprecationWarning: PY_SSIZE_T_CLEAN will be required for '#' formats\u001b[0m \u001b[1;30m(raised from /Users/fengwang/.pyenv/versions/3.8.3/lib/python3.8/site-packages/matplotlib/backends/backend_agg.py:525)\u001b[0m\n",
      "\u001b[1;33mDeprecationWarning: PY_SSIZE_T_CLEAN will be required for '#' formats\u001b[0m \u001b[1;30m(raised from /Users/fengwang/.pyenv/versions/3.8.3/lib/python3.8/site-packages/matplotlib/backends/backend_agg.py:525)\u001b[0m\n",
      "\u001b[1;33mDeprecationWarning: PY_SSIZE_T_CLEAN will be required for '#' formats\u001b[0m \u001b[1;30m(raised from /Users/fengwang/.pyenv/versions/3.8.3/lib/python3.8/site-packages/matplotlib/backends/backend_agg.py:525)\u001b[0m\n",
      "\u001b[1;33mDeprecationWarning: PY_SSIZE_T_CLEAN will be required for '#' formats\u001b[0m \u001b[1;30m(raised from /Users/fengwang/.pyenv/versions/3.8.3/lib/python3.8/site-packages/matplotlib/backends/backend_agg.py:525)\u001b[0m\n",
      "\u001b[1;33mDeprecationWarning: PY_SSIZE_T_CLEAN will be required for '#' formats\u001b[0m \u001b[1;30m(raised from /Users/fengwang/.pyenv/versions/3.8.3/lib/python3.8/site-packages/matplotlib/backends/backend_agg.py:525)\u001b[0m\n",
      "\u001b[1;33mDeprecationWarning: PY_SSIZE_T_CLEAN will be required for '#' formats\u001b[0m \u001b[1;30m(raised from /Users/fengwang/.pyenv/versions/3.8.3/lib/python3.8/site-packages/matplotlib/backends/backend_agg.py:525)\u001b[0m\n",
      "\u001b[1;33mDeprecationWarning: PY_SSIZE_T_CLEAN will be required for '#' formats\u001b[0m \u001b[1;30m(raised from /Users/fengwang/.pyenv/versions/3.8.3/lib/python3.8/site-packages/matplotlib/backends/backend_agg.py:525)\u001b[0m\n",
      "\u001b[1;33mDeprecationWarning: PY_SSIZE_T_CLEAN will be required for '#' formats\u001b[0m \u001b[1;30m(raised from /Users/fengwang/.pyenv/versions/3.8.3/lib/python3.8/site-packages/matplotlib/backends/backend_agg.py:525)\u001b[0m\n",
      "\u001b[1;33mDeprecationWarning: PY_SSIZE_T_CLEAN will be required for '#' formats\u001b[0m \u001b[1;30m(raised from /Users/fengwang/.pyenv/versions/3.8.3/lib/python3.8/site-packages/matplotlib/backends/backend_agg.py:525)\u001b[0m\n",
      "\u001b[1;33mDeprecationWarning: PY_SSIZE_T_CLEAN will be required for '#' formats\u001b[0m \u001b[1;30m(raised from /Users/fengwang/.pyenv/versions/3.8.3/lib/python3.8/site-packages/matplotlib/backends/backend_agg.py:525)\u001b[0m\n",
      "\u001b[1;33mDeprecationWarning: PY_SSIZE_T_CLEAN will be required for '#' formats\u001b[0m \u001b[1;30m(raised from /Users/fengwang/.pyenv/versions/3.8.3/lib/python3.8/site-packages/matplotlib/backends/backend_agg.py:525)\u001b[0m\n",
      "\u001b[1;33mDeprecationWarning: PY_SSIZE_T_CLEAN will be required for '#' formats\u001b[0m \u001b[1;30m(raised from /Users/fengwang/.pyenv/versions/3.8.3/lib/python3.8/site-packages/matplotlib/backends/backend_agg.py:525)\u001b[0m\n",
      "\u001b[1;33mDeprecationWarning: PY_SSIZE_T_CLEAN will be required for '#' formats\u001b[0m \u001b[1;30m(raised from /Users/fengwang/.pyenv/versions/3.8.3/lib/python3.8/site-packages/matplotlib/backends/backend_agg.py:525)\u001b[0m\n",
      "\u001b[1;33mDeprecationWarning: PY_SSIZE_T_CLEAN will be required for '#' formats\u001b[0m \u001b[1;30m(raised from /Users/fengwang/.pyenv/versions/3.8.3/lib/python3.8/site-packages/matplotlib/backends/backend_agg.py:525)\u001b[0m\n",
      "\u001b[1;33mDeprecationWarning: PY_SSIZE_T_CLEAN will be required for '#' formats\u001b[0m \u001b[1;30m(raised from /Users/fengwang/.pyenv/versions/3.8.3/lib/python3.8/site-packages/matplotlib/backends/backend_agg.py:525)\u001b[0m\n",
      "\u001b[1;33mDeprecationWarning: PY_SSIZE_T_CLEAN will be required for '#' formats\u001b[0m \u001b[1;30m(raised from /Users/fengwang/.pyenv/versions/3.8.3/lib/python3.8/site-packages/matplotlib/backends/backend_agg.py:525)\u001b[0m\n",
      "\u001b[1;33mDeprecationWarning: PY_SSIZE_T_CLEAN will be required for '#' formats\u001b[0m \u001b[1;30m(raised from /Users/fengwang/.pyenv/versions/3.8.3/lib/python3.8/site-packages/matplotlib/backends/backend_agg.py:525)\u001b[0m\n",
      "\u001b[1;33mDeprecationWarning: PY_SSIZE_T_CLEAN will be required for '#' formats\u001b[0m \u001b[1;30m(raised from /Users/fengwang/.pyenv/versions/3.8.3/lib/python3.8/site-packages/matplotlib/backends/backend_agg.py:525)\u001b[0m\n",
      "\u001b[1;33mDeprecationWarning: PY_SSIZE_T_CLEAN will be required for '#' formats\u001b[0m \u001b[1;30m(raised from /Users/fengwang/.pyenv/versions/3.8.3/lib/python3.8/site-packages/matplotlib/backends/backend_agg.py:525)\u001b[0m\n",
      "\u001b[1;33mDeprecationWarning: PY_SSIZE_T_CLEAN will be required for '#' formats\u001b[0m \u001b[1;30m(raised from /Users/fengwang/.pyenv/versions/3.8.3/lib/python3.8/site-packages/matplotlib/backends/backend_agg.py:525)\u001b[0m\n",
      "\u001b[1;33mDeprecationWarning: PY_SSIZE_T_CLEAN will be required for '#' formats\u001b[0m \u001b[1;30m(raised from /Users/fengwang/.pyenv/versions/3.8.3/lib/python3.8/site-packages/matplotlib/backends/backend_agg.py:525)\u001b[0m\n",
      "\u001b[1;33mDeprecationWarning: PY_SSIZE_T_CLEAN will be required for '#' formats\u001b[0m \u001b[1;30m(raised from /Users/fengwang/.pyenv/versions/3.8.3/lib/python3.8/site-packages/matplotlib/backends/backend_agg.py:525)\u001b[0m\n",
      "\u001b[1;33mDeprecationWarning: PY_SSIZE_T_CLEAN will be required for '#' formats\u001b[0m \u001b[1;30m(raised from /Users/fengwang/.pyenv/versions/3.8.3/lib/python3.8/site-packages/matplotlib/backends/backend_agg.py:525)\u001b[0m\n",
      "\u001b[1;33mDeprecationWarning: PY_SSIZE_T_CLEAN will be required for '#' formats\u001b[0m \u001b[1;30m(raised from /Users/fengwang/.pyenv/versions/3.8.3/lib/python3.8/site-packages/matplotlib/backends/backend_agg.py:525)\u001b[0m\n",
      "\u001b[1;33mDeprecationWarning: PY_SSIZE_T_CLEAN will be required for '#' formats\u001b[0m \u001b[1;30m(raised from /Users/fengwang/.pyenv/versions/3.8.3/lib/python3.8/site-packages/matplotlib/backends/backend_agg.py:525)\u001b[0m\n",
      "\u001b[1;33mDeprecationWarning: PY_SSIZE_T_CLEAN will be required for '#' formats\u001b[0m \u001b[1;30m(raised from /Users/fengwang/.pyenv/versions/3.8.3/lib/python3.8/site-packages/matplotlib/backends/backend_agg.py:525)\u001b[0m\n",
      "\u001b[1;33mDeprecationWarning: PY_SSIZE_T_CLEAN will be required for '#' formats\u001b[0m \u001b[1;30m(raised from /Users/fengwang/.pyenv/versions/3.8.3/lib/python3.8/site-packages/matplotlib/backends/backend_agg.py:525)\u001b[0m\n",
      "\u001b[1;33mDeprecationWarning: PY_SSIZE_T_CLEAN will be required for '#' formats\u001b[0m \u001b[1;30m(raised from /Users/fengwang/.pyenv/versions/3.8.3/lib/python3.8/site-packages/matplotlib/backends/backend_agg.py:525)\u001b[0m\n",
      "\u001b[1;33mDeprecationWarning: PY_SSIZE_T_CLEAN will be required for '#' formats\u001b[0m \u001b[1;30m(raised from /Users/fengwang/.pyenv/versions/3.8.3/lib/python3.8/site-packages/matplotlib/backends/backend_agg.py:525)\u001b[0m\n",
      "\u001b[1;33mDeprecationWarning: PY_SSIZE_T_CLEAN will be required for '#' formats\u001b[0m \u001b[1;30m(raised from /Users/fengwang/.pyenv/versions/3.8.3/lib/python3.8/site-packages/matplotlib/backends/backend_agg.py:525)\u001b[0m\n",
      "\u001b[1;33mDeprecationWarning: PY_SSIZE_T_CLEAN will be required for '#' formats\u001b[0m \u001b[1;30m(raised from /Users/fengwang/.pyenv/versions/3.8.3/lib/python3.8/site-packages/matplotlib/backends/backend_agg.py:525)\u001b[0m\n",
      "\u001b[1;33mDeprecationWarning: PY_SSIZE_T_CLEAN will be required for '#' formats\u001b[0m \u001b[1;30m(raised from /Users/fengwang/.pyenv/versions/3.8.3/lib/python3.8/site-packages/matplotlib/backends/backend_agg.py:525)\u001b[0m\n",
      "\u001b[1;33mDeprecationWarning: PY_SSIZE_T_CLEAN will be required for '#' formats\u001b[0m \u001b[1;30m(raised from /Users/fengwang/.pyenv/versions/3.8.3/lib/python3.8/site-packages/matplotlib/backends/backend_agg.py:525)\u001b[0m\n",
      "\u001b[1;33mDeprecationWarning: PY_SSIZE_T_CLEAN will be required for '#' formats\u001b[0m \u001b[1;30m(raised from /Users/fengwang/.pyenv/versions/3.8.3/lib/python3.8/site-packages/matplotlib/backends/backend_agg.py:525)\u001b[0m\n",
      "\u001b[1;33mDeprecationWarning: PY_SSIZE_T_CLEAN will be required for '#' formats\u001b[0m \u001b[1;30m(raised from /Users/fengwang/.pyenv/versions/3.8.3/lib/python3.8/site-packages/matplotlib/backends/backend_agg.py:525)\u001b[0m\n",
      "\u001b[1;33mDeprecationWarning: PY_SSIZE_T_CLEAN will be required for '#' formats\u001b[0m \u001b[1;30m(raised from /Users/fengwang/.pyenv/versions/3.8.3/lib/python3.8/site-packages/matplotlib/backends/backend_agg.py:525)\u001b[0m\n",
      "\u001b[1;33mDeprecationWarning: PY_SSIZE_T_CLEAN will be required for '#' formats\u001b[0m \u001b[1;30m(raised from /Users/fengwang/.pyenv/versions/3.8.3/lib/python3.8/site-packages/matplotlib/backends/backend_agg.py:525)\u001b[0m\n",
      "\u001b[1;33mDeprecationWarning: PY_SSIZE_T_CLEAN will be required for '#' formats\u001b[0m \u001b[1;30m(raised from /Users/fengwang/.pyenv/versions/3.8.3/lib/python3.8/site-packages/matplotlib/backends/backend_agg.py:525)\u001b[0m\n",
      "\u001b[1;33mDeprecationWarning: PY_SSIZE_T_CLEAN will be required for '#' formats\u001b[0m \u001b[1;30m(raised from /Users/fengwang/.pyenv/versions/3.8.3/lib/python3.8/site-packages/matplotlib/backends/backend_agg.py:525)\u001b[0m\n",
      "\u001b[1;33mDeprecationWarning: PY_SSIZE_T_CLEAN will be required for '#' formats\u001b[0m \u001b[1;30m(raised from /Users/fengwang/.pyenv/versions/3.8.3/lib/python3.8/site-packages/matplotlib/backends/backend_agg.py:525)\u001b[0m\n"
     ]
    },
    {
     "data": {
      "image/png": "[encoded data removed]",
      "text/plain": [
       "<matplotlib.figure.Figure at 0x1497478b0>"
      ]
     },
     "metadata": {
      "needs_background": "light"
     },
     "output_type": "display_data"
    }
   ],
   "source": [
    "feat1, feat2 = 0, 1\n",
    "paint_slice(Xtr, query, pq_ids, feat1, feat2)"
   ]
  },
  {
   "cell_type": "code",
   "execution_count": 30,
   "metadata": {
    "ExecuteTime": {
     "end_time": "2021-12-10T15:51:23.669716Z",
     "start_time": "2021-12-10T15:51:22.765419Z"
    }
   },
   "outputs": [
    {
     "name": "stderr",
     "output_type": "stream",
     "text": [
      "\u001b[1;33mDeprecationWarning: PY_SSIZE_T_CLEAN will be required for '#' formats\u001b[0m \u001b[1;30m(raised from /Users/fengwang/.pyenv/versions/3.8.3/lib/python3.8/site-packages/matplotlib/backends/backend_agg.py:525)\u001b[0m\n",
      "\u001b[1;33mDeprecationWarning: PY_SSIZE_T_CLEAN will be required for '#' formats\u001b[0m \u001b[1;30m(raised from /Users/fengwang/.pyenv/versions/3.8.3/lib/python3.8/site-packages/matplotlib/backends/backend_agg.py:525)\u001b[0m\n",
      "\u001b[1;33mDeprecationWarning: PY_SSIZE_T_CLEAN will be required for '#' formats\u001b[0m \u001b[1;30m(raised from /Users/fengwang/.pyenv/versions/3.8.3/lib/python3.8/site-packages/matplotlib/backends/backend_agg.py:525)\u001b[0m\n",
      "\u001b[1;33mDeprecationWarning: PY_SSIZE_T_CLEAN will be required for '#' formats\u001b[0m \u001b[1;30m(raised from /Users/fengwang/.pyenv/versions/3.8.3/lib/python3.8/site-packages/matplotlib/backends/backend_agg.py:525)\u001b[0m\n",
      "\u001b[1;33mDeprecationWarning: PY_SSIZE_T_CLEAN will be required for '#' formats\u001b[0m \u001b[1;30m(raised from /Users/fengwang/.pyenv/versions/3.8.3/lib/python3.8/site-packages/matplotlib/backends/backend_agg.py:525)\u001b[0m\n",
      "\u001b[1;33mDeprecationWarning: PY_SSIZE_T_CLEAN will be required for '#' formats\u001b[0m \u001b[1;30m(raised from /Users/fengwang/.pyenv/versions/3.8.3/lib/python3.8/site-packages/matplotlib/backends/backend_agg.py:525)\u001b[0m\n",
      "\u001b[1;33mDeprecationWarning: PY_SSIZE_T_CLEAN will be required for '#' formats\u001b[0m \u001b[1;30m(raised from /Users/fengwang/.pyenv/versions/3.8.3/lib/python3.8/site-packages/matplotlib/backends/backend_agg.py:525)\u001b[0m\n",
      "\u001b[1;33mDeprecationWarning: PY_SSIZE_T_CLEAN will be required for '#' formats\u001b[0m \u001b[1;30m(raised from /Users/fengwang/.pyenv/versions/3.8.3/lib/python3.8/site-packages/matplotlib/backends/backend_agg.py:525)\u001b[0m\n",
      "\u001b[1;33mDeprecationWarning: PY_SSIZE_T_CLEAN will be required for '#' formats\u001b[0m \u001b[1;30m(raised from /Users/fengwang/.pyenv/versions/3.8.3/lib/python3.8/site-packages/matplotlib/backends/backend_agg.py:525)\u001b[0m\n",
      "\u001b[1;33mDeprecationWarning: PY_SSIZE_T_CLEAN will be required for '#' formats\u001b[0m \u001b[1;30m(raised from /Users/fengwang/.pyenv/versions/3.8.3/lib/python3.8/site-packages/matplotlib/backends/backend_agg.py:525)\u001b[0m\n",
      "\u001b[1;33mDeprecationWarning: PY_SSIZE_T_CLEAN will be required for '#' formats\u001b[0m \u001b[1;30m(raised from /Users/fengwang/.pyenv/versions/3.8.3/lib/python3.8/site-packages/matplotlib/backends/backend_agg.py:525)\u001b[0m\n",
      "\u001b[1;33mDeprecationWarning: PY_SSIZE_T_CLEAN will be required for '#' formats\u001b[0m \u001b[1;30m(raised from /Users/fengwang/.pyenv/versions/3.8.3/lib/python3.8/site-packages/matplotlib/backends/backend_agg.py:525)\u001b[0m\n",
      "\u001b[1;33mDeprecationWarning: PY_SSIZE_T_CLEAN will be required for '#' formats\u001b[0m \u001b[1;30m(raised from /Users/fengwang/.pyenv/versions/3.8.3/lib/python3.8/site-packages/matplotlib/backends/backend_agg.py:525)\u001b[0m\n",
      "\u001b[1;33mDeprecationWarning: PY_SSIZE_T_CLEAN will be required for '#' formats\u001b[0m \u001b[1;30m(raised from /Users/fengwang/.pyenv/versions/3.8.3/lib/python3.8/site-packages/matplotlib/backends/backend_agg.py:525)\u001b[0m\n",
      "\u001b[1;33mDeprecationWarning: PY_SSIZE_T_CLEAN will be required for '#' formats\u001b[0m \u001b[1;30m(raised from /Users/fengwang/.pyenv/versions/3.8.3/lib/python3.8/site-packages/matplotlib/backends/backend_agg.py:525)\u001b[0m\n",
      "\u001b[1;33mDeprecationWarning: PY_SSIZE_T_CLEAN will be required for '#' formats\u001b[0m \u001b[1;30m(raised from /Users/fengwang/.pyenv/versions/3.8.3/lib/python3.8/site-packages/matplotlib/backends/backend_agg.py:525)\u001b[0m\n",
      "\u001b[1;33mDeprecationWarning: PY_SSIZE_T_CLEAN will be required for '#' formats\u001b[0m \u001b[1;30m(raised from /Users/fengwang/.pyenv/versions/3.8.3/lib/python3.8/site-packages/matplotlib/backends/backend_agg.py:525)\u001b[0m\n",
      "\u001b[1;33mDeprecationWarning: PY_SSIZE_T_CLEAN will be required for '#' formats\u001b[0m \u001b[1;30m(raised from /Users/fengwang/.pyenv/versions/3.8.3/lib/python3.8/site-packages/matplotlib/backends/backend_agg.py:525)\u001b[0m\n",
      "\u001b[1;33mDeprecationWarning: PY_SSIZE_T_CLEAN will be required for '#' formats\u001b[0m \u001b[1;30m(raised from /Users/fengwang/.pyenv/versions/3.8.3/lib/python3.8/site-packages/matplotlib/backends/backend_agg.py:525)\u001b[0m\n",
      "\u001b[1;33mDeprecationWarning: PY_SSIZE_T_CLEAN will be required for '#' formats\u001b[0m \u001b[1;30m(raised from /Users/fengwang/.pyenv/versions/3.8.3/lib/python3.8/site-packages/matplotlib/backends/backend_agg.py:525)\u001b[0m\n",
      "\u001b[1;33mDeprecationWarning: PY_SSIZE_T_CLEAN will be required for '#' formats\u001b[0m \u001b[1;30m(raised from /Users/fengwang/.pyenv/versions/3.8.3/lib/python3.8/site-packages/matplotlib/backends/backend_agg.py:525)\u001b[0m\n",
      "\u001b[1;33mDeprecationWarning: PY_SSIZE_T_CLEAN will be required for '#' formats\u001b[0m \u001b[1;30m(raised from /Users/fengwang/.pyenv/versions/3.8.3/lib/python3.8/site-packages/matplotlib/backends/backend_agg.py:525)\u001b[0m\n",
      "\u001b[1;33mDeprecationWarning: PY_SSIZE_T_CLEAN will be required for '#' formats\u001b[0m \u001b[1;30m(raised from /Users/fengwang/.pyenv/versions/3.8.3/lib/python3.8/site-packages/matplotlib/backends/backend_agg.py:525)\u001b[0m\n",
      "\u001b[1;33mDeprecationWarning: PY_SSIZE_T_CLEAN will be required for '#' formats\u001b[0m \u001b[1;30m(raised from /Users/fengwang/.pyenv/versions/3.8.3/lib/python3.8/site-packages/matplotlib/backends/backend_agg.py:525)\u001b[0m\n",
      "\u001b[1;33mDeprecationWarning: PY_SSIZE_T_CLEAN will be required for '#' formats\u001b[0m \u001b[1;30m(raised from /Users/fengwang/.pyenv/versions/3.8.3/lib/python3.8/site-packages/matplotlib/backends/backend_agg.py:525)\u001b[0m\n",
      "\u001b[1;33mDeprecationWarning: PY_SSIZE_T_CLEAN will be required for '#' formats\u001b[0m \u001b[1;30m(raised from /Users/fengwang/.pyenv/versions/3.8.3/lib/python3.8/site-packages/matplotlib/backends/backend_agg.py:525)\u001b[0m\n",
      "\u001b[1;33mDeprecationWarning: PY_SSIZE_T_CLEAN will be required for '#' formats\u001b[0m \u001b[1;30m(raised from /Users/fengwang/.pyenv/versions/3.8.3/lib/python3.8/site-packages/matplotlib/backends/backend_agg.py:525)\u001b[0m\n",
      "\u001b[1;33mDeprecationWarning: PY_SSIZE_T_CLEAN will be required for '#' formats\u001b[0m \u001b[1;30m(raised from /Users/fengwang/.pyenv/versions/3.8.3/lib/python3.8/site-packages/matplotlib/backends/backend_agg.py:525)\u001b[0m\n",
      "\u001b[1;33mDeprecationWarning: PY_SSIZE_T_CLEAN will be required for '#' formats\u001b[0m \u001b[1;30m(raised from /Users/fengwang/.pyenv/versions/3.8.3/lib/python3.8/site-packages/matplotlib/backends/backend_agg.py:525)\u001b[0m\n",
      "\u001b[1;33mDeprecationWarning: PY_SSIZE_T_CLEAN will be required for '#' formats\u001b[0m \u001b[1;30m(raised from /Users/fengwang/.pyenv/versions/3.8.3/lib/python3.8/site-packages/matplotlib/backends/backend_agg.py:525)\u001b[0m\n",
      "\u001b[1;33mDeprecationWarning: PY_SSIZE_T_CLEAN will be required for '#' formats\u001b[0m \u001b[1;30m(raised from /Users/fengwang/.pyenv/versions/3.8.3/lib/python3.8/site-packages/matplotlib/backends/backend_agg.py:525)\u001b[0m\n",
      "\u001b[1;33mDeprecationWarning: PY_SSIZE_T_CLEAN will be required for '#' formats\u001b[0m \u001b[1;30m(raised from /Users/fengwang/.pyenv/versions/3.8.3/lib/python3.8/site-packages/matplotlib/backends/backend_agg.py:525)\u001b[0m\n",
      "\u001b[1;33mDeprecationWarning: PY_SSIZE_T_CLEAN will be required for '#' formats\u001b[0m \u001b[1;30m(raised from /Users/fengwang/.pyenv/versions/3.8.3/lib/python3.8/site-packages/matplotlib/backends/backend_agg.py:525)\u001b[0m\n",
      "\u001b[1;33mDeprecationWarning: PY_SSIZE_T_CLEAN will be required for '#' formats\u001b[0m \u001b[1;30m(raised from /Users/fengwang/.pyenv/versions/3.8.3/lib/python3.8/site-packages/matplotlib/backends/backend_agg.py:525)\u001b[0m\n",
      "\u001b[1;33mDeprecationWarning: PY_SSIZE_T_CLEAN will be required for '#' formats\u001b[0m \u001b[1;30m(raised from /Users/fengwang/.pyenv/versions/3.8.3/lib/python3.8/site-packages/matplotlib/backends/backend_agg.py:525)\u001b[0m\n",
      "\u001b[1;33mDeprecationWarning: PY_SSIZE_T_CLEAN will be required for '#' formats\u001b[0m \u001b[1;30m(raised from /Users/fengwang/.pyenv/versions/3.8.3/lib/python3.8/site-packages/matplotlib/backends/backend_agg.py:525)\u001b[0m\n",
      "\u001b[1;33mDeprecationWarning: PY_SSIZE_T_CLEAN will be required for '#' formats\u001b[0m \u001b[1;30m(raised from /Users/fengwang/.pyenv/versions/3.8.3/lib/python3.8/site-packages/matplotlib/backends/backend_agg.py:525)\u001b[0m\n",
      "\u001b[1;33mDeprecationWarning: PY_SSIZE_T_CLEAN will be required for '#' formats\u001b[0m \u001b[1;30m(raised from /Users/fengwang/.pyenv/versions/3.8.3/lib/python3.8/site-packages/matplotlib/backends/backend_agg.py:525)\u001b[0m\n",
      "\u001b[1;33mDeprecationWarning: PY_SSIZE_T_CLEAN will be required for '#' formats\u001b[0m \u001b[1;30m(raised from /Users/fengwang/.pyenv/versions/3.8.3/lib/python3.8/site-packages/matplotlib/backends/backend_agg.py:525)\u001b[0m\n",
      "\u001b[1;33mDeprecationWarning: PY_SSIZE_T_CLEAN will be required for '#' formats\u001b[0m \u001b[1;30m(raised from /Users/fengwang/.pyenv/versions/3.8.3/lib/python3.8/site-packages/matplotlib/backends/backend_agg.py:525)\u001b[0m\n",
      "\u001b[1;33mDeprecationWarning: PY_SSIZE_T_CLEAN will be required for '#' formats\u001b[0m \u001b[1;30m(raised from /Users/fengwang/.pyenv/versions/3.8.3/lib/python3.8/site-packages/matplotlib/backends/backend_agg.py:525)\u001b[0m\n",
      "\u001b[1;33mDeprecationWarning: PY_SSIZE_T_CLEAN will be required for '#' formats\u001b[0m \u001b[1;30m(raised from /Users/fengwang/.pyenv/versions/3.8.3/lib/python3.8/site-packages/matplotlib/backends/backend_agg.py:525)\u001b[0m\n",
      "\u001b[1;33mDeprecationWarning: PY_SSIZE_T_CLEAN will be required for '#' formats\u001b[0m \u001b[1;30m(raised from /Users/fengwang/.pyenv/versions/3.8.3/lib/python3.8/site-packages/matplotlib/backends/backend_agg.py:525)\u001b[0m\n",
      "\u001b[1;33mDeprecationWarning: PY_SSIZE_T_CLEAN will be required for '#' formats\u001b[0m \u001b[1;30m(raised from /Users/fengwang/.pyenv/versions/3.8.3/lib/python3.8/site-packages/matplotlib/backends/backend_agg.py:525)\u001b[0m\n",
      "\u001b[1;33mDeprecationWarning: PY_SSIZE_T_CLEAN will be required for '#' formats\u001b[0m \u001b[1;30m(raised from /Users/fengwang/.pyenv/versions/3.8.3/lib/python3.8/site-packages/matplotlib/backends/backend_agg.py:525)\u001b[0m\n",
      "\u001b[1;33mDeprecationWarning: PY_SSIZE_T_CLEAN will be required for '#' formats\u001b[0m \u001b[1;30m(raised from /Users/fengwang/.pyenv/versions/3.8.3/lib/python3.8/site-packages/matplotlib/backends/backend_agg.py:525)\u001b[0m\n",
      "\u001b[1;33mDeprecationWarning: PY_SSIZE_T_CLEAN will be required for '#' formats\u001b[0m \u001b[1;30m(raised from /Users/fengwang/.pyenv/versions/3.8.3/lib/python3.8/site-packages/matplotlib/backends/backend_agg.py:525)\u001b[0m\n",
      "\u001b[1;33mDeprecationWarning: PY_SSIZE_T_CLEAN will be required for '#' formats\u001b[0m \u001b[1;30m(raised from /Users/fengwang/.pyenv/versions/3.8.3/lib/python3.8/site-packages/matplotlib/backends/backend_agg.py:525)\u001b[0m\n",
      "\u001b[1;33mDeprecationWarning: PY_SSIZE_T_CLEAN will be required for '#' formats\u001b[0m \u001b[1;30m(raised from /Users/fengwang/.pyenv/versions/3.8.3/lib/python3.8/site-packages/matplotlib/backends/backend_agg.py:525)\u001b[0m\n",
      "\u001b[1;33mDeprecationWarning: PY_SSIZE_T_CLEAN will be required for '#' formats\u001b[0m \u001b[1;30m(raised from /Users/fengwang/.pyenv/versions/3.8.3/lib/python3.8/site-packages/matplotlib/backends/backend_agg.py:525)\u001b[0m\n",
      "\u001b[1;33mDeprecationWarning: PY_SSIZE_T_CLEAN will be required for '#' formats\u001b[0m \u001b[1;30m(raised from /Users/fengwang/.pyenv/versions/3.8.3/lib/python3.8/site-packages/matplotlib/backends/backend_agg.py:525)\u001b[0m\n",
      "\u001b[1;33mDeprecationWarning: PY_SSIZE_T_CLEAN will be required for '#' formats\u001b[0m \u001b[1;30m(raised from /Users/fengwang/.pyenv/versions/3.8.3/lib/python3.8/site-packages/matplotlib/backends/backend_agg.py:525)\u001b[0m\n",
      "\u001b[1;33mDeprecationWarning: PY_SSIZE_T_CLEAN will be required for '#' formats\u001b[0m \u001b[1;30m(raised from /Users/fengwang/.pyenv/versions/3.8.3/lib/python3.8/site-packages/matplotlib/backends/backend_agg.py:525)\u001b[0m\n",
      "\u001b[1;33mDeprecationWarning: PY_SSIZE_T_CLEAN will be required for '#' formats\u001b[0m \u001b[1;30m(raised from /Users/fengwang/.pyenv/versions/3.8.3/lib/python3.8/site-packages/matplotlib/backends/backend_agg.py:525)\u001b[0m\n",
      "\u001b[1;33mDeprecationWarning: PY_SSIZE_T_CLEAN will be required for '#' formats\u001b[0m \u001b[1;30m(raised from /Users/fengwang/.pyenv/versions/3.8.3/lib/python3.8/site-packages/matplotlib/backends/backend_agg.py:525)\u001b[0m\n",
      "\u001b[1;33mDeprecationWarning: PY_SSIZE_T_CLEAN will be required for '#' formats\u001b[0m \u001b[1;30m(raised from /Users/fengwang/.pyenv/versions/3.8.3/lib/python3.8/site-packages/matplotlib/backends/backend_agg.py:525)\u001b[0m\n",
      "\u001b[1;33mDeprecationWarning: PY_SSIZE_T_CLEAN will be required for '#' formats\u001b[0m \u001b[1;30m(raised from /Users/fengwang/.pyenv/versions/3.8.3/lib/python3.8/site-packages/matplotlib/backends/backend_agg.py:525)\u001b[0m\n",
      "\u001b[1;33mDeprecationWarning: PY_SSIZE_T_CLEAN will be required for '#' formats\u001b[0m \u001b[1;30m(raised from /Users/fengwang/.pyenv/versions/3.8.3/lib/python3.8/site-packages/matplotlib/backends/backend_agg.py:525)\u001b[0m\n",
      "\u001b[1;33mDeprecationWarning: PY_SSIZE_T_CLEAN will be required for '#' formats\u001b[0m \u001b[1;30m(raised from /Users/fengwang/.pyenv/versions/3.8.3/lib/python3.8/site-packages/matplotlib/backends/backend_agg.py:525)\u001b[0m\n",
      "\u001b[1;33mDeprecationWarning: PY_SSIZE_T_CLEAN will be required for '#' formats\u001b[0m \u001b[1;30m(raised from /Users/fengwang/.pyenv/versions/3.8.3/lib/python3.8/site-packages/matplotlib/backends/backend_agg.py:525)\u001b[0m\n",
      "\u001b[1;33mDeprecationWarning: PY_SSIZE_T_CLEAN will be required for '#' formats\u001b[0m \u001b[1;30m(raised from /Users/fengwang/.pyenv/versions/3.8.3/lib/python3.8/site-packages/matplotlib/backends/backend_agg.py:525)\u001b[0m\n",
      "\u001b[1;33mDeprecationWarning: PY_SSIZE_T_CLEAN will be required for '#' formats\u001b[0m \u001b[1;30m(raised from /Users/fengwang/.pyenv/versions/3.8.3/lib/python3.8/site-packages/matplotlib/backends/backend_agg.py:525)\u001b[0m\n"
     ]
    },
    {
     "data": {
      "image/png": "[encoded data removed]",
      "text/plain": [
       "<matplotlib.figure.Figure at 0x14d167430>"
      ]
     },
     "metadata": {
      "needs_background": "light"
     },
     "output_type": "display_data"
    }
   ],
   "source": [
    "feat1, feat2 = 8, 100\n",
    "paint_slice(Xtr, query, pq_ids, feat1, feat2)"
   ]
  },
  {
   "cell_type": "code",
   "execution_count": 31,
   "metadata": {
    "ExecuteTime": {
     "end_time": "2021-12-10T15:51:22.578755Z",
     "start_time": "2021-12-10T15:51:21.719440Z"
    }
   },
   "outputs": [
    {
     "name": "stderr",
     "output_type": "stream",
     "text": [
      "\u001b[1;33mDeprecationWarning: PY_SSIZE_T_CLEAN will be required for '#' formats\u001b[0m \u001b[1;30m(raised from /Users/fengwang/.pyenv/versions/3.8.3/lib/python3.8/site-packages/matplotlib/backends/backend_agg.py:525)\u001b[0m\n",
      "\u001b[1;33mDeprecationWarning: PY_SSIZE_T_CLEAN will be required for '#' formats\u001b[0m \u001b[1;30m(raised from /Users/fengwang/.pyenv/versions/3.8.3/lib/python3.8/site-packages/matplotlib/backends/backend_agg.py:525)\u001b[0m\n",
      "\u001b[1;33mDeprecationWarning: PY_SSIZE_T_CLEAN will be required for '#' formats\u001b[0m \u001b[1;30m(raised from /Users/fengwang/.pyenv/versions/3.8.3/lib/python3.8/site-packages/matplotlib/backends/backend_agg.py:525)\u001b[0m\n",
      "\u001b[1;33mDeprecationWarning: PY_SSIZE_T_CLEAN will be required for '#' formats\u001b[0m \u001b[1;30m(raised from /Users/fengwang/.pyenv/versions/3.8.3/lib/python3.8/site-packages/matplotlib/backends/backend_agg.py:525)\u001b[0m\n",
      "\u001b[1;33mDeprecationWarning: PY_SSIZE_T_CLEAN will be required for '#' formats\u001b[0m \u001b[1;30m(raised from /Users/fengwang/.pyenv/versions/3.8.3/lib/python3.8/site-packages/matplotlib/backends/backend_agg.py:525)\u001b[0m\n",
      "\u001b[1;33mDeprecationWarning: PY_SSIZE_T_CLEAN will be required for '#' formats\u001b[0m \u001b[1;30m(raised from /Users/fengwang/.pyenv/versions/3.8.3/lib/python3.8/site-packages/matplotlib/backends/backend_agg.py:525)\u001b[0m\n",
      "\u001b[1;33mDeprecationWarning: PY_SSIZE_T_CLEAN will be required for '#' formats\u001b[0m \u001b[1;30m(raised from /Users/fengwang/.pyenv/versions/3.8.3/lib/python3.8/site-packages/matplotlib/backends/backend_agg.py:525)\u001b[0m\n",
      "\u001b[1;33mDeprecationWarning: PY_SSIZE_T_CLEAN will be required for '#' formats\u001b[0m \u001b[1;30m(raised from /Users/fengwang/.pyenv/versions/3.8.3/lib/python3.8/site-packages/matplotlib/backends/backend_agg.py:525)\u001b[0m\n",
      "\u001b[1;33mDeprecationWarning: PY_SSIZE_T_CLEAN will be required for '#' formats\u001b[0m \u001b[1;30m(raised from /Users/fengwang/.pyenv/versions/3.8.3/lib/python3.8/site-packages/matplotlib/backends/backend_agg.py:525)\u001b[0m\n",
      "\u001b[1;33mDeprecationWarning: PY_SSIZE_T_CLEAN will be required for '#' formats\u001b[0m \u001b[1;30m(raised from /Users/fengwang/.pyenv/versions/3.8.3/lib/python3.8/site-packages/matplotlib/backends/backend_agg.py:525)\u001b[0m\n",
      "\u001b[1;33mDeprecationWarning: PY_SSIZE_T_CLEAN will be required for '#' formats\u001b[0m \u001b[1;30m(raised from /Users/fengwang/.pyenv/versions/3.8.3/lib/python3.8/site-packages/matplotlib/backends/backend_agg.py:525)\u001b[0m\n",
      "\u001b[1;33mDeprecationWarning: PY_SSIZE_T_CLEAN will be required for '#' formats\u001b[0m \u001b[1;30m(raised from /Users/fengwang/.pyenv/versions/3.8.3/lib/python3.8/site-packages/matplotlib/backends/backend_agg.py:525)\u001b[0m\n",
      "\u001b[1;33mDeprecationWarning: PY_SSIZE_T_CLEAN will be required for '#' formats\u001b[0m \u001b[1;30m(raised from /Users/fengwang/.pyenv/versions/3.8.3/lib/python3.8/site-packages/matplotlib/backends/backend_agg.py:525)\u001b[0m\n",
      "\u001b[1;33mDeprecationWarning: PY_SSIZE_T_CLEAN will be required for '#' formats\u001b[0m \u001b[1;30m(raised from /Users/fengwang/.pyenv/versions/3.8.3/lib/python3.8/site-packages/matplotlib/backends/backend_agg.py:525)\u001b[0m\n",
      "\u001b[1;33mDeprecationWarning: PY_SSIZE_T_CLEAN will be required for '#' formats\u001b[0m \u001b[1;30m(raised from /Users/fengwang/.pyenv/versions/3.8.3/lib/python3.8/site-packages/matplotlib/backends/backend_agg.py:525)\u001b[0m\n",
      "\u001b[1;33mDeprecationWarning: PY_SSIZE_T_CLEAN will be required for '#' formats\u001b[0m \u001b[1;30m(raised from /Users/fengwang/.pyenv/versions/3.8.3/lib/python3.8/site-packages/matplotlib/backends/backend_agg.py:525)\u001b[0m\n",
      "\u001b[1;33mDeprecationWarning: PY_SSIZE_T_CLEAN will be required for '#' formats\u001b[0m \u001b[1;30m(raised from /Users/fengwang/.pyenv/versions/3.8.3/lib/python3.8/site-packages/matplotlib/backends/backend_agg.py:525)\u001b[0m\n",
      "\u001b[1;33mDeprecationWarning: PY_SSIZE_T_CLEAN will be required for '#' formats\u001b[0m \u001b[1;30m(raised from /Users/fengwang/.pyenv/versions/3.8.3/lib/python3.8/site-packages/matplotlib/backends/backend_agg.py:525)\u001b[0m\n",
      "\u001b[1;33mDeprecationWarning: PY_SSIZE_T_CLEAN will be required for '#' formats\u001b[0m \u001b[1;30m(raised from /Users/fengwang/.pyenv/versions/3.8.3/lib/python3.8/site-packages/matplotlib/backends/backend_agg.py:525)\u001b[0m\n",
      "\u001b[1;33mDeprecationWarning: PY_SSIZE_T_CLEAN will be required for '#' formats\u001b[0m \u001b[1;30m(raised from /Users/fengwang/.pyenv/versions/3.8.3/lib/python3.8/site-packages/matplotlib/backends/backend_agg.py:525)\u001b[0m\n",
      "\u001b[1;33mDeprecationWarning: PY_SSIZE_T_CLEAN will be required for '#' formats\u001b[0m \u001b[1;30m(raised from /Users/fengwang/.pyenv/versions/3.8.3/lib/python3.8/site-packages/matplotlib/backends/backend_agg.py:525)\u001b[0m\n",
      "\u001b[1;33mDeprecationWarning: PY_SSIZE_T_CLEAN will be required for '#' formats\u001b[0m \u001b[1;30m(raised from /Users/fengwang/.pyenv/versions/3.8.3/lib/python3.8/site-packages/matplotlib/backends/backend_agg.py:525)\u001b[0m\n",
      "\u001b[1;33mDeprecationWarning: PY_SSIZE_T_CLEAN will be required for '#' formats\u001b[0m \u001b[1;30m(raised from /Users/fengwang/.pyenv/versions/3.8.3/lib/python3.8/site-packages/matplotlib/backends/backend_agg.py:525)\u001b[0m\n",
      "\u001b[1;33mDeprecationWarning: PY_SSIZE_T_CLEAN will be required for '#' formats\u001b[0m \u001b[1;30m(raised from /Users/fengwang/.pyenv/versions/3.8.3/lib/python3.8/site-packages/matplotlib/backends/backend_agg.py:525)\u001b[0m\n",
      "\u001b[1;33mDeprecationWarning: PY_SSIZE_T_CLEAN will be required for '#' formats\u001b[0m \u001b[1;30m(raised from /Users/fengwang/.pyenv/versions/3.8.3/lib/python3.8/site-packages/matplotlib/backends/backend_agg.py:525)\u001b[0m\n",
      "\u001b[1;33mDeprecationWarning: PY_SSIZE_T_CLEAN will be required for '#' formats\u001b[0m \u001b[1;30m(raised from /Users/fengwang/.pyenv/versions/3.8.3/lib/python3.8/site-packages/matplotlib/backends/backend_agg.py:525)\u001b[0m\n",
      "\u001b[1;33mDeprecationWarning: PY_SSIZE_T_CLEAN will be required for '#' formats\u001b[0m \u001b[1;30m(raised from /Users/fengwang/.pyenv/versions/3.8.3/lib/python3.8/site-packages/matplotlib/backends/backend_agg.py:525)\u001b[0m\n",
      "\u001b[1;33mDeprecationWarning: PY_SSIZE_T_CLEAN will be required for '#' formats\u001b[0m \u001b[1;30m(raised from /Users/fengwang/.pyenv/versions/3.8.3/lib/python3.8/site-packages/matplotlib/backends/backend_agg.py:525)\u001b[0m\n",
      "\u001b[1;33mDeprecationWarning: PY_SSIZE_T_CLEAN will be required for '#' formats\u001b[0m \u001b[1;30m(raised from /Users/fengwang/.pyenv/versions/3.8.3/lib/python3.8/site-packages/matplotlib/backends/backend_agg.py:525)\u001b[0m\n",
      "\u001b[1;33mDeprecationWarning: PY_SSIZE_T_CLEAN will be required for '#' formats\u001b[0m \u001b[1;30m(raised from /Users/fengwang/.pyenv/versions/3.8.3/lib/python3.8/site-packages/matplotlib/backends/backend_agg.py:525)\u001b[0m\n",
      "\u001b[1;33mDeprecationWarning: PY_SSIZE_T_CLEAN will be required for '#' formats\u001b[0m \u001b[1;30m(raised from /Users/fengwang/.pyenv/versions/3.8.3/lib/python3.8/site-packages/matplotlib/backends/backend_agg.py:525)\u001b[0m\n",
      "\u001b[1;33mDeprecationWarning: PY_SSIZE_T_CLEAN will be required for '#' formats\u001b[0m \u001b[1;30m(raised from /Users/fengwang/.pyenv/versions/3.8.3/lib/python3.8/site-packages/matplotlib/backends/backend_agg.py:525)\u001b[0m\n",
      "\u001b[1;33mDeprecationWarning: PY_SSIZE_T_CLEAN will be required for '#' formats\u001b[0m \u001b[1;30m(raised from /Users/fengwang/.pyenv/versions/3.8.3/lib/python3.8/site-packages/matplotlib/backends/backend_agg.py:525)\u001b[0m\n",
      "\u001b[1;33mDeprecationWarning: PY_SSIZE_T_CLEAN will be required for '#' formats\u001b[0m \u001b[1;30m(raised from /Users/fengwang/.pyenv/versions/3.8.3/lib/python3.8/site-packages/matplotlib/backends/backend_agg.py:525)\u001b[0m\n",
      "\u001b[1;33mDeprecationWarning: PY_SSIZE_T_CLEAN will be required for '#' formats\u001b[0m \u001b[1;30m(raised from /Users/fengwang/.pyenv/versions/3.8.3/lib/python3.8/site-packages/matplotlib/backends/backend_agg.py:525)\u001b[0m\n",
      "\u001b[1;33mDeprecationWarning: PY_SSIZE_T_CLEAN will be required for '#' formats\u001b[0m \u001b[1;30m(raised from /Users/fengwang/.pyenv/versions/3.8.3/lib/python3.8/site-packages/matplotlib/backends/backend_agg.py:525)\u001b[0m\n",
      "\u001b[1;33mDeprecationWarning: PY_SSIZE_T_CLEAN will be required for '#' formats\u001b[0m \u001b[1;30m(raised from /Users/fengwang/.pyenv/versions/3.8.3/lib/python3.8/site-packages/matplotlib/backends/backend_agg.py:525)\u001b[0m\n",
      "\u001b[1;33mDeprecationWarning: PY_SSIZE_T_CLEAN will be required for '#' formats\u001b[0m \u001b[1;30m(raised from /Users/fengwang/.pyenv/versions/3.8.3/lib/python3.8/site-packages/matplotlib/backends/backend_agg.py:525)\u001b[0m\n",
      "\u001b[1;33mDeprecationWarning: PY_SSIZE_T_CLEAN will be required for '#' formats\u001b[0m \u001b[1;30m(raised from /Users/fengwang/.pyenv/versions/3.8.3/lib/python3.8/site-packages/matplotlib/backends/backend_agg.py:525)\u001b[0m\n",
      "\u001b[1;33mDeprecationWarning: PY_SSIZE_T_CLEAN will be required for '#' formats\u001b[0m \u001b[1;30m(raised from /Users/fengwang/.pyenv/versions/3.8.3/lib/python3.8/site-packages/matplotlib/backends/backend_agg.py:525)\u001b[0m\n",
      "\u001b[1;33mDeprecationWarning: PY_SSIZE_T_CLEAN will be required for '#' formats\u001b[0m \u001b[1;30m(raised from /Users/fengwang/.pyenv/versions/3.8.3/lib/python3.8/site-packages/matplotlib/backends/backend_agg.py:525)\u001b[0m\n",
      "\u001b[1;33mDeprecationWarning: PY_SSIZE_T_CLEAN will be required for '#' formats\u001b[0m \u001b[1;30m(raised from /Users/fengwang/.pyenv/versions/3.8.3/lib/python3.8/site-packages/matplotlib/backends/backend_agg.py:525)\u001b[0m\n",
      "\u001b[1;33mDeprecationWarning: PY_SSIZE_T_CLEAN will be required for '#' formats\u001b[0m \u001b[1;30m(raised from /Users/fengwang/.pyenv/versions/3.8.3/lib/python3.8/site-packages/matplotlib/backends/backend_agg.py:525)\u001b[0m\n",
      "\u001b[1;33mDeprecationWarning: PY_SSIZE_T_CLEAN will be required for '#' formats\u001b[0m \u001b[1;30m(raised from /Users/fengwang/.pyenv/versions/3.8.3/lib/python3.8/site-packages/matplotlib/backends/backend_agg.py:525)\u001b[0m\n",
      "\u001b[1;33mDeprecationWarning: PY_SSIZE_T_CLEAN will be required for '#' formats\u001b[0m \u001b[1;30m(raised from /Users/fengwang/.pyenv/versions/3.8.3/lib/python3.8/site-packages/matplotlib/backends/backend_agg.py:525)\u001b[0m\n",
      "\u001b[1;33mDeprecationWarning: PY_SSIZE_T_CLEAN will be required for '#' formats\u001b[0m \u001b[1;30m(raised from /Users/fengwang/.pyenv/versions/3.8.3/lib/python3.8/site-packages/matplotlib/backends/backend_agg.py:525)\u001b[0m\n",
      "\u001b[1;33mDeprecationWarning: PY_SSIZE_T_CLEAN will be required for '#' formats\u001b[0m \u001b[1;30m(raised from /Users/fengwang/.pyenv/versions/3.8.3/lib/python3.8/site-packages/matplotlib/backends/backend_agg.py:525)\u001b[0m\n",
      "\u001b[1;33mDeprecationWarning: PY_SSIZE_T_CLEAN will be required for '#' formats\u001b[0m \u001b[1;30m(raised from /Users/fengwang/.pyenv/versions/3.8.3/lib/python3.8/site-packages/matplotlib/backends/backend_agg.py:525)\u001b[0m\n",
      "\u001b[1;33mDeprecationWarning: PY_SSIZE_T_CLEAN will be required for '#' formats\u001b[0m \u001b[1;30m(raised from /Users/fengwang/.pyenv/versions/3.8.3/lib/python3.8/site-packages/matplotlib/backends/backend_agg.py:525)\u001b[0m\n",
      "\u001b[1;33mDeprecationWarning: PY_SSIZE_T_CLEAN will be required for '#' formats\u001b[0m \u001b[1;30m(raised from /Users/fengwang/.pyenv/versions/3.8.3/lib/python3.8/site-packages/matplotlib/backends/backend_agg.py:525)\u001b[0m\n",
      "\u001b[1;33mDeprecationWarning: PY_SSIZE_T_CLEAN will be required for '#' formats\u001b[0m \u001b[1;30m(raised from /Users/fengwang/.pyenv/versions/3.8.3/lib/python3.8/site-packages/matplotlib/backends/backend_agg.py:525)\u001b[0m\n",
      "\u001b[1;33mDeprecationWarning: PY_SSIZE_T_CLEAN will be required for '#' formats\u001b[0m \u001b[1;30m(raised from /Users/fengwang/.pyenv/versions/3.8.3/lib/python3.8/site-packages/matplotlib/backends/backend_agg.py:525)\u001b[0m\n",
      "\u001b[1;33mDeprecationWarning: PY_SSIZE_T_CLEAN will be required for '#' formats\u001b[0m \u001b[1;30m(raised from /Users/fengwang/.pyenv/versions/3.8.3/lib/python3.8/site-packages/matplotlib/backends/backend_agg.py:525)\u001b[0m\n",
      "\u001b[1;33mDeprecationWarning: PY_SSIZE_T_CLEAN will be required for '#' formats\u001b[0m \u001b[1;30m(raised from /Users/fengwang/.pyenv/versions/3.8.3/lib/python3.8/site-packages/matplotlib/backends/backend_agg.py:525)\u001b[0m\n",
      "\u001b[1;33mDeprecationWarning: PY_SSIZE_T_CLEAN will be required for '#' formats\u001b[0m \u001b[1;30m(raised from /Users/fengwang/.pyenv/versions/3.8.3/lib/python3.8/site-packages/matplotlib/backends/backend_agg.py:525)\u001b[0m\n",
      "\u001b[1;33mDeprecationWarning: PY_SSIZE_T_CLEAN will be required for '#' formats\u001b[0m \u001b[1;30m(raised from /Users/fengwang/.pyenv/versions/3.8.3/lib/python3.8/site-packages/matplotlib/backends/backend_agg.py:525)\u001b[0m\n",
      "\u001b[1;33mDeprecationWarning: PY_SSIZE_T_CLEAN will be required for '#' formats\u001b[0m \u001b[1;30m(raised from /Users/fengwang/.pyenv/versions/3.8.3/lib/python3.8/site-packages/matplotlib/backends/backend_agg.py:525)\u001b[0m\n",
      "\u001b[1;33mDeprecationWarning: PY_SSIZE_T_CLEAN will be required for '#' formats\u001b[0m \u001b[1;30m(raised from /Users/fengwang/.pyenv/versions/3.8.3/lib/python3.8/site-packages/matplotlib/backends/backend_agg.py:525)\u001b[0m\n",
      "\u001b[1;33mDeprecationWarning: PY_SSIZE_T_CLEAN will be required for '#' formats\u001b[0m \u001b[1;30m(raised from /Users/fengwang/.pyenv/versions/3.8.3/lib/python3.8/site-packages/matplotlib/backends/backend_agg.py:525)\u001b[0m\n",
      "\u001b[1;33mDeprecationWarning: PY_SSIZE_T_CLEAN will be required for '#' formats\u001b[0m \u001b[1;30m(raised from /Users/fengwang/.pyenv/versions/3.8.3/lib/python3.8/site-packages/matplotlib/backends/backend_agg.py:525)\u001b[0m\n",
      "\u001b[1;33mDeprecationWarning: PY_SSIZE_T_CLEAN will be required for '#' formats\u001b[0m \u001b[1;30m(raised from /Users/fengwang/.pyenv/versions/3.8.3/lib/python3.8/site-packages/matplotlib/backends/backend_agg.py:525)\u001b[0m\n",
      "\u001b[1;33mDeprecationWarning: PY_SSIZE_T_CLEAN will be required for '#' formats\u001b[0m \u001b[1;30m(raised from /Users/fengwang/.pyenv/versions/3.8.3/lib/python3.8/site-packages/matplotlib/backends/backend_agg.py:525)\u001b[0m\n"
     ]
    },
    {
     "data": {
      "image/png": "[encoded data removed]",
      "text/plain": [
       "<matplotlib.figure.Figure at 0x14d365dc0>"
      ]
     },
     "metadata": {
      "needs_background": "light"
     },
     "output_type": "display_data"
    }
   ],
   "source": [
    "feat1, feat2 = 3,4\n",
    "paint_slice(Xtr, query, pq_ids, feat1, feat2)"
   ]
  },
  {
   "cell_type": "markdown",
   "metadata": {},
   "source": [
    "\n",
    "###  `precision, recall, query_time` vs `n_subvectors` &  `n_cells` "
   ]
  },
  {
   "cell_type": "code",
   "execution_count": 34,
   "metadata": {
    "ExecuteTime": {
     "end_time": "2021-12-10T16:05:12.843267Z",
     "start_time": "2021-12-10T15:53:12.919130Z"
    },
    "code_folding": [],
    "scrolled": false
   },
   "outputs": [
    {
     "name": "stdout",
     "output_type": "stream",
     "text": [
      "Xtr: (9980, 128) vs Xte: (20, 128)\n"
     ]
    },
    {
     "name": "stderr",
     "output_type": "stream",
     "text": [
      "2021-12-21 01:47:49.038 | INFO     | pqlite.index:__init__:90 - Initialize VQ codec (K=8)\n",
      "2021-12-21 01:47:49.040 | INFO     | pqlite.index:__init__:100 - Initialize PQ codec (n_subvectors=32)\n",
      "2021-12-21 01:47:49.114 | INFO     | pqlite.index:train:143 - Start training VQ codec (K=8) with 9980 data...\n",
      "2021-12-21 01:47:49.339 | INFO     | pqlite.index:train:149 - Start training PQ codec (n_subvectors=32) with 9980 data...\n",
      "2021-12-21 01:48:07.227 | INFO     | pqlite.index:train:154 - The pqlite is successfully trained!\n",
      "2021-12-21 01:48:07.227 | INFO     | pqlite.index:dump_model:354 - Save the trained parameters to data/d1304f5ee4600f004f64117d6ce12ebb\n",
      "2021-12-21 01:48:08.049 | DEBUG    | pqlite.container:insert:225 - => 9980 new docs added\n"
     ]
    },
    {
     "name": "stdout",
     "output_type": "stream",
     "text": [
      "{'precision': 0.45500000000000007, 'recall': 0.45500000000000007, 'train_time': 18.115447759628296, 'index_time': 0.8195991516113281, 'query_time': 0.1945500373840332, 'indexer_hyperparams': {'n_cells': 8, 'n_subvectors': 32}}\n"
     ]
    },
    {
     "name": "stderr",
     "output_type": "stream",
     "text": [
      "2021-12-21 01:48:08.430 | INFO     | pqlite.index:__init__:90 - Initialize VQ codec (K=8)\n",
      "2021-12-21 01:48:08.432 | INFO     | pqlite.index:__init__:100 - Initialize PQ codec (n_subvectors=64)\n",
      "2021-12-21 01:48:08.506 | INFO     | pqlite.index:train:143 - Start training VQ codec (K=8) with 9980 data...\n",
      "2021-12-21 01:48:08.733 | INFO     | pqlite.index:train:149 - Start training PQ codec (n_subvectors=64) with 9980 data...\n",
      "2021-12-21 01:48:39.203 | INFO     | pqlite.index:train:154 - The pqlite is successfully trained!\n",
      "2021-12-21 01:48:39.204 | INFO     | pqlite.index:dump_model:354 - Save the trained parameters to data/626305e7606537598688ad160806d69f\n",
      "2021-12-21 01:48:40.115 | DEBUG    | pqlite.container:insert:225 - => 9980 new docs added\n"
     ]
    },
    {
     "name": "stdout",
     "output_type": "stream",
     "text": [
      "{'precision': 0.7550000000000001, 'recall': 0.7550000000000001, 'train_time': 30.700277090072632, 'index_time': 0.9096710681915283, 'query_time': 0.2364051342010498, 'indexer_hyperparams': {'n_cells': 8, 'n_subvectors': 64}}\n"
     ]
    },
    {
     "name": "stderr",
     "output_type": "stream",
     "text": [
      "2021-12-21 01:48:40.538 | INFO     | pqlite.index:__init__:90 - Initialize VQ codec (K=8)\n",
      "2021-12-21 01:48:40.540 | INFO     | pqlite.index:__init__:100 - Initialize PQ codec (n_subvectors=128)\n",
      "2021-12-21 01:48:40.608 | INFO     | pqlite.index:train:143 - Start training VQ codec (K=8) with 9980 data...\n",
      "2021-12-21 01:48:40.848 | INFO     | pqlite.index:train:149 - Start training PQ codec (n_subvectors=128) with 9980 data...\n",
      "2021-12-21 01:49:27.669 | INFO     | pqlite.index:train:154 - The pqlite is successfully trained!\n",
      "2021-12-21 01:49:27.669 | INFO     | pqlite.index:dump_model:354 - Save the trained parameters to data/f33efae3f283d85b6afef29d4305b0f6\n",
      "2021-12-21 01:49:28.731 | DEBUG    | pqlite.container:insert:225 - => 9980 new docs added\n"
     ]
    },
    {
     "name": "stdout",
     "output_type": "stream",
     "text": [
      "{'precision': 0.9400000000000001, 'recall': 0.9400000000000001, 'train_time': 47.064188957214355, 'index_time': 1.0591418743133545, 'query_time': 0.3858819007873535, 'indexer_hyperparams': {'n_cells': 8, 'n_subvectors': 128}}\n"
     ]
    },
    {
     "name": "stderr",
     "output_type": "stream",
     "text": [
      "2021-12-21 01:49:29.306 | INFO     | pqlite.index:__init__:90 - Initialize VQ codec (K=16)\n",
      "2021-12-21 01:49:29.308 | INFO     | pqlite.index:__init__:100 - Initialize PQ codec (n_subvectors=32)\n",
      "2021-12-21 01:49:29.382 | INFO     | pqlite.index:train:143 - Start training VQ codec (K=16) with 9980 data...\n",
      "2021-12-21 01:49:29.684 | INFO     | pqlite.index:train:149 - Start training PQ codec (n_subvectors=32) with 9980 data...\n",
      "2021-12-21 01:49:47.876 | INFO     | pqlite.index:train:154 - The pqlite is successfully trained!\n",
      "2021-12-21 01:49:47.877 | INFO     | pqlite.index:dump_model:354 - Save the trained parameters to data/45f59be7052d7061f734b2b55ce6df0e\n",
      "2021-12-21 01:49:48.652 | DEBUG    | pqlite.container:insert:225 - => 9980 new docs added\n"
     ]
    },
    {
     "name": "stdout",
     "output_type": "stream",
     "text": [
      "{'precision': 0.425, 'recall': 0.425, 'train_time': 18.49602508544922, 'index_time': 0.7737338542938232, 'query_time': 0.3825209140777588, 'indexer_hyperparams': {'n_cells': 16, 'n_subvectors': 32}}\n"
     ]
    },
    {
     "name": "stderr",
     "output_type": "stream",
     "text": [
      "2021-12-21 01:49:49.254 | INFO     | pqlite.index:__init__:90 - Initialize VQ codec (K=16)\n",
      "2021-12-21 01:49:49.255 | INFO     | pqlite.index:__init__:100 - Initialize PQ codec (n_subvectors=64)\n",
      "2021-12-21 01:49:49.374 | INFO     | pqlite.index:train:143 - Start training VQ codec (K=16) with 9980 data...\n",
      "2021-12-21 01:49:49.730 | INFO     | pqlite.index:train:149 - Start training PQ codec (n_subvectors=64) with 9980 data...\n",
      "2021-12-21 01:50:19.748 | INFO     | pqlite.index:train:154 - The pqlite is successfully trained!\n",
      "2021-12-21 01:50:19.749 | INFO     | pqlite.index:dump_model:354 - Save the trained parameters to data/cd85824bf658d77a3ce90a7a42a14daf\n",
      "2021-12-21 01:50:20.675 | DEBUG    | pqlite.container:insert:225 - => 9980 new docs added\n"
     ]
    },
    {
     "name": "stdout",
     "output_type": "stream",
     "text": [
      "{'precision': 0.8, 'recall': 0.8, 'train_time': 30.376378059387207, 'index_time': 0.925072193145752, 'query_time': 0.4677870273590088, 'indexer_hyperparams': {'n_cells': 16, 'n_subvectors': 64}}\n"
     ]
    },
    {
     "name": "stderr",
     "output_type": "stream",
     "text": [
      "2021-12-21 01:50:21.408 | INFO     | pqlite.index:__init__:90 - Initialize VQ codec (K=16)\n",
      "2021-12-21 01:50:21.409 | INFO     | pqlite.index:__init__:100 - Initialize PQ codec (n_subvectors=128)\n",
      "2021-12-21 01:50:21.578 | INFO     | pqlite.index:train:143 - Start training VQ codec (K=16) with 9980 data...\n",
      "2021-12-21 01:50:23.163 | INFO     | pqlite.index:train:149 - Start training PQ codec (n_subvectors=128) with 9980 data...\n",
      "\u001b[1;33mUserWarning: One of the clusters is empty. Re-run kmeans with a different initialization.\u001b[0m \u001b[1;30m(raised from /Users/fengwang/.pyenv/versions/3.8.3/lib/python3.8/site-packages/scipy/cluster/vq.py:607)\u001b[0m\n",
      "2021-12-21 01:51:09.555 | INFO     | pqlite.index:train:154 - The pqlite is successfully trained!\n",
      "2021-12-21 01:51:09.556 | INFO     | pqlite.index:dump_model:354 - Save the trained parameters to data/24f8df04c973b4a2e6733b8f79981087\n",
      "2021-12-21 01:51:10.748 | DEBUG    | pqlite.container:insert:225 - => 9980 new docs added\n"
     ]
    },
    {
     "name": "stdout",
     "output_type": "stream",
     "text": [
      "{'precision': 0.9550000000000001, 'recall': 0.9550000000000001, 'train_time': 47.97972369194031, 'index_time': 1.1907119750976562, 'query_time': 0.7938659191131592, 'indexer_hyperparams': {'n_cells': 16, 'n_subvectors': 128}}\n"
     ]
    },
    {
     "name": "stderr",
     "output_type": "stream",
     "text": [
      "2021-12-21 01:51:11.770 | INFO     | pqlite.index:__init__:90 - Initialize VQ codec (K=32)\n",
      "2021-12-21 01:51:11.771 | INFO     | pqlite.index:__init__:100 - Initialize PQ codec (n_subvectors=32)\n",
      "2021-12-21 01:51:11.902 | INFO     | pqlite.index:train:143 - Start training VQ codec (K=32) with 9980 data...\n",
      "2021-12-21 01:51:12.465 | INFO     | pqlite.index:train:149 - Start training PQ codec (n_subvectors=32) with 9980 data...\n",
      "2021-12-21 01:51:30.632 | INFO     | pqlite.index:train:154 - The pqlite is successfully trained!\n",
      "2021-12-21 01:51:30.632 | INFO     | pqlite.index:dump_model:354 - Save the trained parameters to data/6e6169129ace0166eaa443eb03643189\n",
      "2021-12-21 01:51:31.459 | DEBUG    | pqlite.container:insert:225 - => 9980 new docs added\n"
     ]
    },
    {
     "name": "stdout",
     "output_type": "stream",
     "text": [
      "{'precision': 0.45999999999999996, 'recall': 0.45999999999999996, 'train_time': 18.731168746948242, 'index_time': 0.8259668350219727, 'query_time': 0.7513010501861572, 'indexer_hyperparams': {'n_cells': 32, 'n_subvectors': 32}}\n"
     ]
    },
    {
     "name": "stderr",
     "output_type": "stream",
     "text": [
      "2021-12-21 01:51:32.510 | INFO     | pqlite.index:__init__:90 - Initialize VQ codec (K=32)\n",
      "2021-12-21 01:51:32.512 | INFO     | pqlite.index:__init__:100 - Initialize PQ codec (n_subvectors=64)\n",
      "2021-12-21 01:51:32.726 | INFO     | pqlite.index:train:143 - Start training VQ codec (K=32) with 9980 data...\n",
      "2021-12-21 01:51:33.120 | INFO     | pqlite.index:train:149 - Start training PQ codec (n_subvectors=64) with 9980 data...\n",
      "2021-12-21 01:52:02.824 | INFO     | pqlite.index:train:154 - The pqlite is successfully trained!\n",
      "2021-12-21 01:52:02.825 | INFO     | pqlite.index:dump_model:354 - Save the trained parameters to data/0805ec37d9c6b2e3541df4c983c6b57d\n",
      "2021-12-21 01:52:03.751 | DEBUG    | pqlite.container:insert:225 - => 9980 new docs added\n"
     ]
    },
    {
     "name": "stdout",
     "output_type": "stream",
     "text": [
      "{'precision': 0.8100000000000002, 'recall': 0.8100000000000002, 'train_time': 30.099796056747437, 'index_time': 0.9259891510009766, 'query_time': 0.9218978881835938, 'indexer_hyperparams': {'n_cells': 32, 'n_subvectors': 64}}\n"
     ]
    },
    {
     "name": "stderr",
     "output_type": "stream",
     "text": [
      "2021-12-21 01:52:04.989 | INFO     | pqlite.index:__init__:90 - Initialize VQ codec (K=32)\n",
      "2021-12-21 01:52:04.991 | INFO     | pqlite.index:__init__:100 - Initialize PQ codec (n_subvectors=128)\n",
      "2021-12-21 01:52:05.221 | INFO     | pqlite.index:train:143 - Start training VQ codec (K=32) with 9980 data...\n",
      "2021-12-21 01:52:05.604 | INFO     | pqlite.index:train:149 - Start training PQ codec (n_subvectors=128) with 9980 data...\n",
      "2021-12-21 01:52:52.639 | INFO     | pqlite.index:train:154 - The pqlite is successfully trained!\n",
      "2021-12-21 01:52:52.639 | INFO     | pqlite.index:dump_model:354 - Save the trained parameters to data/d4b5ce5fb6c2ffe0121fa0863a53e26b\n",
      "2021-12-21 01:52:53.780 | DEBUG    | pqlite.container:insert:225 - => 9980 new docs added\n"
     ]
    },
    {
     "name": "stdout",
     "output_type": "stream",
     "text": [
      "{'precision': 0.96, 'recall': 0.96, 'train_time': 47.41976499557495, 'index_time': 1.1397409439086914, 'query_time': 1.5295779705047607, 'indexer_hyperparams': {'n_cells': 32, 'n_subvectors': 128}}\n"
     ]
    },
    {
     "name": "stderr",
     "output_type": "stream",
     "text": [
      "2021-12-21 01:52:55.608 | INFO     | pqlite.index:__init__:90 - Initialize VQ codec (K=64)\n",
      "2021-12-21 01:52:55.609 | INFO     | pqlite.index:__init__:100 - Initialize PQ codec (n_subvectors=32)\n",
      "2021-12-21 01:52:55.859 | INFO     | pqlite.index:train:143 - Start training VQ codec (K=64) with 9980 data...\n",
      "2021-12-21 01:52:56.683 | INFO     | pqlite.index:train:149 - Start training PQ codec (n_subvectors=32) with 9980 data...\n",
      "2021-12-21 01:53:15.444 | INFO     | pqlite.index:train:154 - The pqlite is successfully trained!\n",
      "2021-12-21 01:53:15.445 | INFO     | pqlite.index:dump_model:354 - Save the trained parameters to data/6fdff810b2a3450f2c6d199086ad702d\n",
      "2021-12-21 01:53:16.319 | DEBUG    | pqlite.container:insert:225 - => 9980 new docs added\n"
     ]
    },
    {
     "name": "stdout",
     "output_type": "stream",
     "text": [
      "{'precision': 0.4699999999999999, 'recall': 0.4699999999999999, 'train_time': 19.58743977546692, 'index_time': 0.8737471103668213, 'query_time': 1.5891377925872803, 'indexer_hyperparams': {'n_cells': 64, 'n_subvectors': 32}}\n"
     ]
    },
    {
     "name": "stderr",
     "output_type": "stream",
     "text": [
      "2021-12-21 01:53:18.365 | INFO     | pqlite.index:__init__:90 - Initialize VQ codec (K=64)\n",
      "2021-12-21 01:53:18.366 | INFO     | pqlite.index:__init__:100 - Initialize PQ codec (n_subvectors=64)\n",
      "2021-12-21 01:53:18.795 | INFO     | pqlite.index:train:143 - Start training VQ codec (K=64) with 9980 data...\n",
      "2021-12-21 01:53:19.391 | INFO     | pqlite.index:train:149 - Start training PQ codec (n_subvectors=64) with 9980 data...\n",
      "2021-12-21 01:53:50.499 | INFO     | pqlite.index:train:154 - The pqlite is successfully trained!\n",
      "2021-12-21 01:53:50.500 | INFO     | pqlite.index:dump_model:354 - Save the trained parameters to data/a868cc5aa102be21a3dd1b6f8b9ec374\n",
      "2021-12-21 01:53:51.590 | DEBUG    | pqlite.container:insert:225 - => 9980 new docs added\n"
     ]
    },
    {
     "name": "stdout",
     "output_type": "stream",
     "text": [
      "{'precision': 0.7950000000000002, 'recall': 0.7950000000000002, 'train_time': 31.707350969314575, 'index_time': 1.088120698928833, 'query_time': 1.8415827751159668, 'indexer_hyperparams': {'n_cells': 64, 'n_subvectors': 64}}\n"
     ]
    },
    {
     "name": "stderr",
     "output_type": "stream",
     "text": [
      "2021-12-21 01:53:53.887 | INFO     | pqlite.index:__init__:90 - Initialize VQ codec (K=64)\n",
      "2021-12-21 01:53:53.888 | INFO     | pqlite.index:__init__:100 - Initialize PQ codec (n_subvectors=128)\n",
      "2021-12-21 01:53:54.338 | INFO     | pqlite.index:train:143 - Start training VQ codec (K=64) with 9980 data...\n",
      "2021-12-21 01:53:55.082 | INFO     | pqlite.index:train:149 - Start training PQ codec (n_subvectors=128) with 9980 data...\n",
      "2021-12-21 01:54:41.891 | INFO     | pqlite.index:train:154 - The pqlite is successfully trained!\n",
      "2021-12-21 01:54:41.892 | INFO     | pqlite.index:dump_model:354 - Save the trained parameters to data/53fcfdf043b7f1e1886e2f67d2db315b\n",
      "2021-12-21 01:54:43.101 | DEBUG    | pqlite.container:insert:225 - => 9980 new docs added\n"
     ]
    },
    {
     "name": "stdout",
     "output_type": "stream",
     "text": [
      "{'precision': 0.9350000000000002, 'recall': 0.9350000000000002, 'train_time': 47.55520415306091, 'index_time': 1.2084827423095703, 'query_time': 3.300021171569824, 'indexer_hyperparams': {'n_cells': 64, 'n_subvectors': 128}}\n"
     ]
    },
    {
     "name": "stderr",
     "output_type": "stream",
     "text": [
      "2021-12-21 01:54:46.866 | INFO     | pqlite.index:__init__:90 - Initialize VQ codec (K=128)\n",
      "2021-12-21 01:54:46.868 | INFO     | pqlite.index:__init__:100 - Initialize PQ codec (n_subvectors=32)\n",
      "2021-12-21 01:54:47.415 | INFO     | pqlite.index:train:143 - Start training VQ codec (K=128) with 9980 data...\n",
      "2021-12-21 01:54:48.510 | INFO     | pqlite.index:train:149 - Start training PQ codec (n_subvectors=32) with 9980 data...\n",
      "2021-12-21 01:55:06.701 | INFO     | pqlite.index:train:154 - The pqlite is successfully trained!\n",
      "2021-12-21 01:55:06.702 | INFO     | pqlite.index:dump_model:354 - Save the trained parameters to data/d9e21e6fe97193567a60d042917f23e0\n",
      "2021-12-21 01:55:07.586 | DEBUG    | pqlite.container:insert:225 - => 9980 new docs added\n"
     ]
    },
    {
     "name": "stdout",
     "output_type": "stream",
     "text": [
      "{'precision': 0.5399999999999999, 'recall': 0.5399999999999999, 'train_time': 19.288440942764282, 'index_time': 0.8831899166107178, 'query_time': 2.9560129642486572, 'indexer_hyperparams': {'n_cells': 128, 'n_subvectors': 32}}\n"
     ]
    },
    {
     "name": "stderr",
     "output_type": "stream",
     "text": [
      "2021-12-21 01:55:11.304 | INFO     | pqlite.index:__init__:90 - Initialize VQ codec (K=128)\n",
      "2021-12-21 01:55:11.306 | INFO     | pqlite.index:__init__:100 - Initialize PQ codec (n_subvectors=64)\n",
      "2021-12-21 01:55:12.169 | INFO     | pqlite.index:train:143 - Start training VQ codec (K=128) with 9980 data...\n",
      "2021-12-21 01:55:12.925 | INFO     | pqlite.index:train:149 - Start training PQ codec (n_subvectors=64) with 9980 data...\n",
      "2021-12-21 01:55:42.921 | INFO     | pqlite.index:train:154 - The pqlite is successfully trained!\n",
      "2021-12-21 01:55:42.922 | INFO     | pqlite.index:dump_model:354 - Save the trained parameters to data/8118e7af93ba02938d166bb2a557aa4d\n",
      "2021-12-21 01:55:44.107 | DEBUG    | pqlite.container:insert:225 - => 9980 new docs added\n"
     ]
    },
    {
     "name": "stdout",
     "output_type": "stream",
     "text": [
      "{'precision': 0.7950000000000002, 'recall': 0.7950000000000002, 'train_time': 30.754541158676147, 'index_time': 1.184305191040039, 'query_time': 3.7074859142303467, 'indexer_hyperparams': {'n_cells': 128, 'n_subvectors': 64}}\n"
     ]
    },
    {
     "name": "stderr",
     "output_type": "stream",
     "text": [
      "2021-12-21 01:55:48.594 | INFO     | pqlite.index:__init__:90 - Initialize VQ codec (K=128)\n",
      "2021-12-21 01:55:48.595 | INFO     | pqlite.index:__init__:100 - Initialize PQ codec (n_subvectors=128)\n",
      "2021-12-21 01:55:49.491 | INFO     | pqlite.index:train:143 - Start training VQ codec (K=128) with 9980 data...\n",
      "2021-12-21 01:55:50.447 | INFO     | pqlite.index:train:149 - Start training PQ codec (n_subvectors=128) with 9980 data...\n",
      "2021-12-21 01:56:37.062 | INFO     | pqlite.index:train:154 - The pqlite is successfully trained!\n",
      "2021-12-21 01:56:37.064 | INFO     | pqlite.index:dump_model:354 - Save the trained parameters to data/cfe5f214259b790f13d7fb00c6c39203\n",
      "2021-12-21 01:56:38.442 | DEBUG    | pqlite.container:insert:225 - => 9980 new docs added\n"
     ]
    },
    {
     "name": "stdout",
     "output_type": "stream",
     "text": [
      "{'precision': 0.95, 'recall': 0.95, 'train_time': 47.57413601875305, 'index_time': 1.376985788345337, 'query_time': 6.02495002746582, 'indexer_hyperparams': {'n_cells': 128, 'n_subvectors': 128}}\n"
     ]
    }
   ],
   "source": [
    "import time\n",
    "import numpy as np\n",
    "from pqlite import PQLite\n",
    "\n",
    "from docarray.math.distance import cdist\n",
    "from docarray.math.helper import top_k as _top_k\n",
    "import pandas as pd\n",
    "from sklearn.datasets import make_blobs\n",
    "from sklearn.model_selection import train_test_split\n",
    "\n",
    "def _precision(predicted, relevant, eval_at):\n",
    "    \"\"\"\n",
    "    fraction of retrieved documents that are relevant to the query\n",
    "    \"\"\"\n",
    "    if eval_at == 0:\n",
    "        return 0.0\n",
    "    predicted_at_k = predicted[:eval_at]\n",
    "    n_predicted_and_relevant = len(set(predicted_at_k).intersection(set(relevant)))\n",
    "\n",
    "    return n_predicted_and_relevant / len(predicted)\n",
    "\n",
    "def _recall(predicted, relevant, eval_at):\n",
    "    \"\"\"\n",
    "    fraction of the relevant documents that are successfully retrieved\n",
    "    \"\"\"\n",
    "    if eval_at == 0:\n",
    "        return 0.0\n",
    "    predicted_at_k = predicted[:eval_at]\n",
    "    n_predicted_and_relevant = len(set(predicted_at_k).intersection(set(relevant)))\n",
    "    return n_predicted_and_relevant/ len(relevant)\n",
    "\n",
    "def evaluate(predicts, relevants, eval_at):\n",
    "    recall = 0\n",
    "    precision = 0\n",
    "    for _predict, _relevant in zip(predicts, relevants):\n",
    "        _predict = np.array([int(x) for x in _predict])\n",
    "        recall += _recall(_predict, _relevant, top_k)\n",
    "        precision += _precision(_predict, _relevant, top_k)\n",
    "\n",
    "    return recall / len(predicts), precision / len(predicts)\n",
    "\n",
    "\n",
    "#N = 100_000 # number of data points\n",
    "Nt = 10_000\n",
    "Nq = 1\n",
    "D = 128 # dimentionality / number of features\n",
    "top_k = 10\n",
    "n_cells = 64\n",
    "n_subvectors = 64\n",
    "n_queries = 1000\n",
    "\n",
    "# 2,000 128-dim vectors for training\n",
    "np.random.seed(123)\n",
    "Xtr, Xte = train_test_split(make_blobs(n_samples = Nt, n_features = D)[0].astype(np.float32), test_size=20)\n",
    "print(f'Xtr: {Xtr.shape} vs Xte: {Xte.shape}')\n",
    "\n",
    "precision_per_query = []\n",
    "recall_per_query = []\n",
    "results = []\n",
    "\n",
    "for n_cells in [8, 16, 32, 64, 128]:\n",
    "    for n_subvectors in [32, 64, 128]:\n",
    "        !rm -rf data/\n",
    "        pq = PQLite(dim=D,\n",
    "                    metric='euclidean',\n",
    "                    n_cells=n_cells,\n",
    "                    n_subvectors=n_subvectors)\n",
    "        \n",
    "        t0 = time.time()\n",
    "        pq.train(Xtr[:20480])\n",
    "        train_time = abs(time.time() - t0)\n",
    "\n",
    "        t0 = time.time()\n",
    "        \n",
    "        Xtr_da = DocumentArray([Document(id=f'{i}', embedding=Xtr[i]) for i in range(len(Xtr))])\n",
    "        pq.index(Xtr_da, ids=list(range(len(Xtr))))\n",
    "        index_time = abs(t0 - time.time())\n",
    "\n",
    "        dists = cdist(Xte, Xtr, metric='euclidean')\n",
    "        true_dists, true_ids = _top_k(dists, top_k, descending=False)\n",
    "        \n",
    "        t0 = time.time()\n",
    "        pq_dists, pq_ids = pq._search_numpy(Xte, limit=top_k)\n",
    "        query_time = abs(t0 - time.time())\n",
    "        recall, precision = evaluate(pq_ids, true_ids, top_k)\n",
    "\n",
    "        results_dict = {'precision': precision,\n",
    "                        'recall': recall,\n",
    "                        'train_time': train_time,\n",
    "                        'index_time': index_time,\n",
    "                        'query_time': query_time,\n",
    "                        'indexer_hyperparams': {'n_cells': n_cells,\n",
    "                                                'n_subvectors': n_subvectors}\n",
    "                        }\n",
    "        print(results_dict)\n",
    "\n",
    "        results.append(results_dict)"
   ]
  },
  {
   "cell_type": "code",
   "execution_count": 35,
   "metadata": {
    "ExecuteTime": {
     "end_time": "2021-12-10T16:05:13.101049Z",
     "start_time": "2021-12-10T16:05:13.049306Z"
    }
   },
   "outputs": [
    {
     "name": "stderr",
     "output_type": "stream",
     "text": [
      "\u001b[1;33mDeprecationWarning: `np.object` is a deprecated alias for the builtin `object`. To silence this warning, use `object` by itself. Doing this will not modify any behavior and is safe. \n",
      "Deprecated in NumPy 1.20; for more details and guidance: https://numpy.org/devdocs/release/1.20.0-notes.html#deprecations\u001b[0m \u001b[1;30m(raised from /Users/fengwang/.pyenv/versions/3.8.3/lib/python3.8/site-packages/pandas/core/internals/construction.py:587)\u001b[0m\n",
      "\u001b[1;33mDeprecationWarning: `np.object` is a deprecated alias for the builtin `object`. To silence this warning, use `object` by itself. Doing this will not modify any behavior and is safe. \n",
      "Deprecated in NumPy 1.20; for more details and guidance: https://numpy.org/devdocs/release/1.20.0-notes.html#deprecations\u001b[0m \u001b[1;30m(raised from /Users/fengwang/.pyenv/versions/3.8.3/lib/python3.8/site-packages/pandas/core/internals/construction.py:587)\u001b[0m\n",
      "\u001b[1;33mDeprecationWarning: `np.object` is a deprecated alias for the builtin `object`. To silence this warning, use `object` by itself. Doing this will not modify any behavior and is safe. \n",
      "Deprecated in NumPy 1.20; for more details and guidance: https://numpy.org/devdocs/release/1.20.0-notes.html#deprecations\u001b[0m \u001b[1;30m(raised from /Users/fengwang/.pyenv/versions/3.8.3/lib/python3.8/site-packages/pandas/core/internals/construction.py:587)\u001b[0m\n",
      "\u001b[1;33mDeprecationWarning: `np.object` is a deprecated alias for the builtin `object`. To silence this warning, use `object` by itself. Doing this will not modify any behavior and is safe. \n",
      "Deprecated in NumPy 1.20; for more details and guidance: https://numpy.org/devdocs/release/1.20.0-notes.html#deprecations\u001b[0m \u001b[1;30m(raised from /Users/fengwang/.pyenv/versions/3.8.3/lib/python3.8/site-packages/pandas/core/internals/construction.py:587)\u001b[0m\n",
      "\u001b[1;33mDeprecationWarning: `np.object` is a deprecated alias for the builtin `object`. To silence this warning, use `object` by itself. Doing this will not modify any behavior and is safe. \n",
      "Deprecated in NumPy 1.20; for more details and guidance: https://numpy.org/devdocs/release/1.20.0-notes.html#deprecations\u001b[0m \u001b[1;30m(raised from /Users/fengwang/.pyenv/versions/3.8.3/lib/python3.8/site-packages/pandas/core/internals/construction.py:587)\u001b[0m\n",
      "\u001b[1;33mDeprecationWarning: `np.object` is a deprecated alias for the builtin `object`. To silence this warning, use `object` by itself. Doing this will not modify any behavior and is safe. \n",
      "Deprecated in NumPy 1.20; for more details and guidance: https://numpy.org/devdocs/release/1.20.0-notes.html#deprecations\u001b[0m \u001b[1;30m(raised from /Users/fengwang/.pyenv/versions/3.8.3/lib/python3.8/site-packages/pandas/core/internals/construction.py:587)\u001b[0m\n",
      "\u001b[1;33mDeprecationWarning: `np.bool` is a deprecated alias for the builtin `bool`. To silence this warning, use `bool` by itself. Doing this will not modify any behavior and is safe. If you specifically wanted the numpy scalar type, use `np.bool_` here.\n",
      "Deprecated in NumPy 1.20; for more details and guidance: https://numpy.org/devdocs/release/1.20.0-notes.html#deprecations\u001b[0m \u001b[1;30m(raised from /Users/fengwang/.pyenv/versions/3.8.3/lib/python3.8/site-packages/pandas/core/indexes/base.py:395)\u001b[0m\n",
      "\u001b[1;33mDeprecationWarning: `np.bool` is a deprecated alias for the builtin `bool`. To silence this warning, use `bool` by itself. Doing this will not modify any behavior and is safe. If you specifically wanted the numpy scalar type, use `np.bool_` here.\n",
      "Deprecated in NumPy 1.20; for more details and guidance: https://numpy.org/devdocs/release/1.20.0-notes.html#deprecations\u001b[0m \u001b[1;30m(raised from /Users/fengwang/.pyenv/versions/3.8.3/lib/python3.8/site-packages/pandas/core/indexes/base.py:395)\u001b[0m\n"
     ]
    },
    {
     "data": {
      "text/html": [
       "<div>\n",
       "<style scoped>\n",
       "    .dataframe tbody tr th:only-of-type {\n",
       "        vertical-align: middle;\n",
       "    }\n",
       "\n",
       "    .dataframe tbody tr th {\n",
       "        vertical-align: top;\n",
       "    }\n",
       "\n",
       "    .dataframe thead th {\n",
       "        text-align: right;\n",
       "    }\n",
       "</style>\n",
       "<table border=\"1\" class=\"dataframe\">\n",
       "  <thead>\n",
       "    <tr style=\"text-align: right;\">\n",
       "      <th></th>\n",
       "      <th>precision</th>\n",
       "      <th>recall</th>\n",
       "      <th>train_time</th>\n",
       "      <th>index_time</th>\n",
       "      <th>query_time</th>\n",
       "      <th>indexer_hyperparams</th>\n",
       "    </tr>\n",
       "  </thead>\n",
       "  <tbody>\n",
       "    <tr>\n",
       "      <th>8</th>\n",
       "      <td>0.960</td>\n",
       "      <td>0.960</td>\n",
       "      <td>47.419765</td>\n",
       "      <td>1.139741</td>\n",
       "      <td>1.529578</td>\n",
       "      <td>{'n_cells': 32, 'n_subvectors': 128}</td>\n",
       "    </tr>\n",
       "    <tr>\n",
       "      <th>5</th>\n",
       "      <td>0.955</td>\n",
       "      <td>0.955</td>\n",
       "      <td>47.979724</td>\n",
       "      <td>1.190712</td>\n",
       "      <td>0.793866</td>\n",
       "      <td>{'n_cells': 16, 'n_subvectors': 128}</td>\n",
       "    </tr>\n",
       "    <tr>\n",
       "      <th>14</th>\n",
       "      <td>0.950</td>\n",
       "      <td>0.950</td>\n",
       "      <td>47.574136</td>\n",
       "      <td>1.376986</td>\n",
       "      <td>6.024950</td>\n",
       "      <td>{'n_cells': 128, 'n_subvectors': 128}</td>\n",
       "    </tr>\n",
       "    <tr>\n",
       "      <th>2</th>\n",
       "      <td>0.940</td>\n",
       "      <td>0.940</td>\n",
       "      <td>47.064189</td>\n",
       "      <td>1.059142</td>\n",
       "      <td>0.385882</td>\n",
       "      <td>{'n_cells': 8, 'n_subvectors': 128}</td>\n",
       "    </tr>\n",
       "    <tr>\n",
       "      <th>11</th>\n",
       "      <td>0.935</td>\n",
       "      <td>0.935</td>\n",
       "      <td>47.555204</td>\n",
       "      <td>1.208483</td>\n",
       "      <td>3.300021</td>\n",
       "      <td>{'n_cells': 64, 'n_subvectors': 128}</td>\n",
       "    </tr>\n",
       "    <tr>\n",
       "      <th>7</th>\n",
       "      <td>0.810</td>\n",
       "      <td>0.810</td>\n",
       "      <td>30.099796</td>\n",
       "      <td>0.925989</td>\n",
       "      <td>0.921898</td>\n",
       "      <td>{'n_cells': 32, 'n_subvectors': 64}</td>\n",
       "    </tr>\n",
       "    <tr>\n",
       "      <th>4</th>\n",
       "      <td>0.800</td>\n",
       "      <td>0.800</td>\n",
       "      <td>30.376378</td>\n",
       "      <td>0.925072</td>\n",
       "      <td>0.467787</td>\n",
       "      <td>{'n_cells': 16, 'n_subvectors': 64}</td>\n",
       "    </tr>\n",
       "    <tr>\n",
       "      <th>10</th>\n",
       "      <td>0.795</td>\n",
       "      <td>0.795</td>\n",
       "      <td>31.707351</td>\n",
       "      <td>1.088121</td>\n",
       "      <td>1.841583</td>\n",
       "      <td>{'n_cells': 64, 'n_subvectors': 64}</td>\n",
       "    </tr>\n",
       "    <tr>\n",
       "      <th>13</th>\n",
       "      <td>0.795</td>\n",
       "      <td>0.795</td>\n",
       "      <td>30.754541</td>\n",
       "      <td>1.184305</td>\n",
       "      <td>3.707486</td>\n",
       "      <td>{'n_cells': 128, 'n_subvectors': 64}</td>\n",
       "    </tr>\n",
       "    <tr>\n",
       "      <th>1</th>\n",
       "      <td>0.755</td>\n",
       "      <td>0.755</td>\n",
       "      <td>30.700277</td>\n",
       "      <td>0.909671</td>\n",
       "      <td>0.236405</td>\n",
       "      <td>{'n_cells': 8, 'n_subvectors': 64}</td>\n",
       "    </tr>\n",
       "    <tr>\n",
       "      <th>12</th>\n",
       "      <td>0.540</td>\n",
       "      <td>0.540</td>\n",
       "      <td>19.288441</td>\n",
       "      <td>0.883190</td>\n",
       "      <td>2.956013</td>\n",
       "      <td>{'n_cells': 128, 'n_subvectors': 32}</td>\n",
       "    </tr>\n",
       "    <tr>\n",
       "      <th>9</th>\n",
       "      <td>0.470</td>\n",
       "      <td>0.470</td>\n",
       "      <td>19.587440</td>\n",
       "      <td>0.873747</td>\n",
       "      <td>1.589138</td>\n",
       "      <td>{'n_cells': 64, 'n_subvectors': 32}</td>\n",
       "    </tr>\n",
       "    <tr>\n",
       "      <th>6</th>\n",
       "      <td>0.460</td>\n",
       "      <td>0.460</td>\n",
       "      <td>18.731169</td>\n",
       "      <td>0.825967</td>\n",
       "      <td>0.751301</td>\n",
       "      <td>{'n_cells': 32, 'n_subvectors': 32}</td>\n",
       "    </tr>\n",
       "    <tr>\n",
       "      <th>0</th>\n",
       "      <td>0.455</td>\n",
       "      <td>0.455</td>\n",
       "      <td>18.115448</td>\n",
       "      <td>0.819599</td>\n",
       "      <td>0.194550</td>\n",
       "      <td>{'n_cells': 8, 'n_subvectors': 32}</td>\n",
       "    </tr>\n",
       "    <tr>\n",
       "      <th>3</th>\n",
       "      <td>0.425</td>\n",
       "      <td>0.425</td>\n",
       "      <td>18.496025</td>\n",
       "      <td>0.773734</td>\n",
       "      <td>0.382521</td>\n",
       "      <td>{'n_cells': 16, 'n_subvectors': 32}</td>\n",
       "    </tr>\n",
       "  </tbody>\n",
       "</table>\n",
       "</div>"
      ],
      "text/plain": [
       "    precision  recall  train_time  index_time  query_time  \\\n",
       "8       0.960   0.960   47.419765    1.139741    1.529578   \n",
       "5       0.955   0.955   47.979724    1.190712    0.793866   \n",
       "14      0.950   0.950   47.574136    1.376986    6.024950   \n",
       "2       0.940   0.940   47.064189    1.059142    0.385882   \n",
       "11      0.935   0.935   47.555204    1.208483    3.300021   \n",
       "7       0.810   0.810   30.099796    0.925989    0.921898   \n",
       "4       0.800   0.800   30.376378    0.925072    0.467787   \n",
       "10      0.795   0.795   31.707351    1.088121    1.841583   \n",
       "13      0.795   0.795   30.754541    1.184305    3.707486   \n",
       "1       0.755   0.755   30.700277    0.909671    0.236405   \n",
       "12      0.540   0.540   19.288441    0.883190    2.956013   \n",
       "9       0.470   0.470   19.587440    0.873747    1.589138   \n",
       "6       0.460   0.460   18.731169    0.825967    0.751301   \n",
       "0       0.455   0.455   18.115448    0.819599    0.194550   \n",
       "3       0.425   0.425   18.496025    0.773734    0.382521   \n",
       "\n",
       "                      indexer_hyperparams  \n",
       "8    {'n_cells': 32, 'n_subvectors': 128}  \n",
       "5    {'n_cells': 16, 'n_subvectors': 128}  \n",
       "14  {'n_cells': 128, 'n_subvectors': 128}  \n",
       "2     {'n_cells': 8, 'n_subvectors': 128}  \n",
       "11   {'n_cells': 64, 'n_subvectors': 128}  \n",
       "7     {'n_cells': 32, 'n_subvectors': 64}  \n",
       "4     {'n_cells': 16, 'n_subvectors': 64}  \n",
       "10    {'n_cells': 64, 'n_subvectors': 64}  \n",
       "13   {'n_cells': 128, 'n_subvectors': 64}  \n",
       "1      {'n_cells': 8, 'n_subvectors': 64}  \n",
       "12   {'n_cells': 128, 'n_subvectors': 32}  \n",
       "9     {'n_cells': 64, 'n_subvectors': 32}  \n",
       "6     {'n_cells': 32, 'n_subvectors': 32}  \n",
       "0      {'n_cells': 8, 'n_subvectors': 32}  \n",
       "3     {'n_cells': 16, 'n_subvectors': 32}  "
      ]
     },
     "execution_count": 35,
     "metadata": {},
     "output_type": "execute_result"
    }
   ],
   "source": [
    "import pandas as pd\n",
    "results_df = pd.DataFrame(results)\n",
    "results_df.sort_values('recall', ascending=False)"
   ]
  },
  {
   "cell_type": "code",
   "execution_count": null,
   "metadata": {},
   "outputs": [],
   "source": []
  }
 ],
 "metadata": {
  "kernelspec": {
   "display_name": "Python 3 (ipykernel)",
   "language": "python",
   "name": "python3"
  },
  "language_info": {
   "codemirror_mode": {
    "name": "ipython",
    "version": 3
   },
   "file_extension": ".py",
   "mimetype": "text/x-python",
   "name": "python",
   "nbconvert_exporter": "python",
   "pygments_lexer": "ipython3",
   "version": "3.8.3"
  },
  "toc": {
   "base_numbering": 1,
   "nav_menu": {},
   "number_sections": true,
   "sideBar": true,
   "skip_h1_title": false,
   "title_cell": "Table of Contents",
   "title_sidebar": "Contents",
   "toc_cell": true,
   "toc_position": {
    "height": "calc(100% - 180px)",
    "left": "10px",
    "top": "150px",
    "width": "165px"
   },
   "toc_section_display": true,
   "toc_window_display": true
  },
  "varInspector": {
   "cols": {
    "lenName": 16,
    "lenType": 16,
    "lenVar": 40
   },
   "kernels_config": {
    "python": {
     "delete_cmd_postfix": "",
     "delete_cmd_prefix": "del ",
     "library": "var_list.py",
     "varRefreshCmd": "print(var_dic_list())"
    },
    "r": {
     "delete_cmd_postfix": ") ",
     "delete_cmd_prefix": "rm(",
     "library": "var_list.r",
     "varRefreshCmd": "cat(var_dic_list()) "
    }
   },
   "types_to_exclude": [
    "module",
    "function",
    "builtin_function_or_method",
    "instance",
    "_Feature"
   ],
   "window_display": false
  }
 },
 "nbformat": 4,
 "nbformat_minor": 4
}
