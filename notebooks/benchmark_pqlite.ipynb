{
 "cells": [
  {
   "cell_type": "markdown",
   "metadata": {
    "toc": true
   },
   "source": [
    "<h1>Table of Contents<span class=\"tocSkip\"></span></h1>\n",
    "<div class=\"toc\"><ul class=\"toc-item\"><li><span><a href=\"#Benchmark-pqlite\" data-toc-modified-id=\"Benchmark-pqlite-1\"><span class=\"toc-item-num\">1&nbsp;&nbsp;</span>Benchmark pqlite</a></span><ul class=\"toc-item\"><li><span><a href=\"#Time\" data-toc-modified-id=\"Time-1.1\"><span class=\"toc-item-num\">1.1&nbsp;&nbsp;</span>Time</a></span></li><li><span><a href=\"#Quality\" data-toc-modified-id=\"Quality-1.2\"><span class=\"toc-item-num\">1.2&nbsp;&nbsp;</span>Quality</a></span><ul class=\"toc-item\"><li><span><a href=\"#Plotting-pq-neighbors-vs-true-neighbors\" data-toc-modified-id=\"Plotting-pq-neighbors-vs-true-neighbors-1.2.1\"><span class=\"toc-item-num\">1.2.1&nbsp;&nbsp;</span>Plotting <code>pq neighbors</code> vs <code>true neighbors</code></a></span></li></ul></li><li><span><a href=\"#precision,-recall,-query_time-vs-n_subvectors-&amp;--n_cells\" data-toc-modified-id=\"precision,-recall,-query_time-vs-n_subvectors-&amp;--n_cells-1.3\"><span class=\"toc-item-num\">1.3&nbsp;&nbsp;</span><code>precision, recall, query_time</code> vs <code>n_subvectors</code> &amp;  <code>n_cells</code></a></span></li></ul></li></ul></div>"
   ]
  },
  {
   "cell_type": "markdown",
   "metadata": {
    "ExecuteTime": {
     "end_time": "2021-11-15T10:56:27.351656Z",
     "start_time": "2021-11-15T10:56:27.349773Z"
    }
   },
   "source": [
    "## Benchmark pqlite"
   ]
  },
  {
   "cell_type": "code",
   "execution_count": 41,
   "metadata": {
    "ExecuteTime": {
     "end_time": "2021-12-10T15:43:37.004817Z",
     "start_time": "2021-12-10T15:43:36.973891Z"
    }
   },
   "outputs": [],
   "source": [
    "%load_ext autoreload\n",
    "%autoreload 2"
   ]
  },
  {
   "cell_type": "code",
   "execution_count": 105,
   "metadata": {
    "ExecuteTime": {
     "end_time": "2021-12-10T15:52:23.634972Z",
     "start_time": "2021-12-10T15:52:23.475877Z"
    }
   },
   "outputs": [],
   "source": [
    "!rm -rf data/"
   ]
  },
  {
   "cell_type": "code",
   "execution_count": 43,
   "metadata": {
    "ExecuteTime": {
     "end_time": "2021-12-10T15:43:37.732429Z",
     "start_time": "2021-12-10T15:43:37.708050Z"
    }
   },
   "outputs": [],
   "source": [
    "import pqlite\n",
    "pqlite.__path__\n",
    "import time\n",
    "\n",
    "import jina\n",
    "from jina.math.distance import cdist\n",
    "\n",
    "import sklearn\n",
    "from sklearn.datasets import make_blobs\n",
    "from sklearn.model_selection import train_test_split"
   ]
  },
  {
   "cell_type": "code",
   "execution_count": 44,
   "metadata": {
    "ExecuteTime": {
     "end_time": "2021-12-10T15:45:09.404850Z",
     "start_time": "2021-12-10T15:43:37.907684Z"
    },
    "scrolled": true
   },
   "outputs": [
    {
     "name": "stderr",
     "output_type": "stream",
     "text": [
      "2021-12-10 16:43:38.004 | INFO     | pqlite.index:__init__:89 - Initialize VQ codec (K=18)\n",
      "2021-12-10 16:43:38.005 | INFO     | pqlite.index:__init__:99 - Initialize PQ codec (n_subvectors=128)\n"
     ]
    }
   ],
   "source": [
    "import random\n",
    "import numpy as np\n",
    "from pqlite import PQLite\n",
    "\n",
    "#N = 100_000 # number of data points\n",
    "Nt = 12_500 \n",
    "Nq = 1\n",
    "D = 128 # dimentionality / number of features\n",
    "top_k = 100\n",
    "n_cells = 18\n",
    "n_subvectors = 128\n",
    "\n",
    "# 2,000 128-dim vectors for training\n",
    "np.random.seed(123)\n",
    "Xtr, Xte = train_test_split(make_blobs(n_samples = Nt, n_features = D)[0].astype(np.float32), test_size=20)\n",
    "#Xt = np.random.random((Nt, D)).astype(np.float32)  \n",
    "\n",
    "# the column schema: (name:str, dtype:type, create_index: bool)\n",
    "pq = PQLite(dim=D, \n",
    "            n_cells=n_cells,\n",
    "            n_subvectors=n_subvectors, \n",
    "            columns=[('x',float)])\n",
    "\n",
    "pq.pq_codec.fit(Xtr)"
   ]
  },
  {
   "cell_type": "code",
   "execution_count": 47,
   "metadata": {
    "ExecuteTime": {
     "end_time": "2021-12-10T15:47:33.983746Z",
     "start_time": "2021-12-10T15:45:57.221872Z"
    }
   },
   "outputs": [
    {
     "name": "stderr",
     "output_type": "stream",
     "text": [
      "2021-12-10 16:45:57.491 | INFO     | pqlite.index:train:141 - Start training VQ codec (K=18) with 12480 data...\n",
      "2021-12-10 16:45:57.900 | INFO     | pqlite.index:train:147 - Start training PQ codec (n_subvectors=128) with 12480 data...\n",
      "\u001b[1;33mUserWarning: One of the clusters is empty. Re-run kmeans with a different initialization.\u001b[0m \u001b[1;30m(raised from /Users/davidbuchaca1/opt/anaconda3/lib/python3.8/site-packages/scipy/cluster/vq.py:607)\u001b[0m\n",
      "2021-12-10 16:47:32.244 | INFO     | pqlite.index:train:152 - The pqlite is successfully trained!\n",
      "2021-12-10 16:47:32.244 | INFO     | pqlite.index:dump_model:359 - Save the trained parameters to data/bb79b2424c66ca6ba5a8c46814345738\n",
      "2021-12-10 16:47:33.980 | DEBUG    | pqlite.container:insert:224 - => 12480 new docs added\n"
     ]
    }
   ],
   "source": [
    "from jina import Document, DocumentArray\n",
    "\n",
    "da = DocumentArray([Document(id=f'{i}', embedding=Xtr[i]) for i in range(len(Xtr))])\n",
    "pq.train(Xtr)\n",
    "pq.index(da)"
   ]
  },
  {
   "cell_type": "code",
   "execution_count": 48,
   "metadata": {
    "ExecuteTime": {
     "end_time": "2021-12-10T15:47:34.182870Z",
     "start_time": "2021-12-10T15:47:34.154715Z"
    }
   },
   "outputs": [],
   "source": [
    "Nq = 1\n",
    "query_da = DocumentArray([Document(embedding=Xte[10])])\n",
    "\n",
    "# without filtering\n",
    "#pq.search(query_da, limit=5)"
   ]
  },
  {
   "cell_type": "code",
   "execution_count": 49,
   "metadata": {
    "ExecuteTime": {
     "end_time": "2021-12-10T15:47:40.298861Z",
     "start_time": "2021-12-10T15:47:40.220109Z"
    }
   },
   "outputs": [],
   "source": [
    "pq.search(query_da,  limit=top_k)"
   ]
  },
  {
   "cell_type": "markdown",
   "metadata": {},
   "source": [
    "### Time"
   ]
  },
  {
   "cell_type": "code",
   "execution_count": 50,
   "metadata": {
    "ExecuteTime": {
     "end_time": "2021-12-10T15:47:47.790654Z",
     "start_time": "2021-12-10T15:47:44.146664Z"
    }
   },
   "outputs": [
    {
     "name": "stdout",
     "output_type": "stream",
     "text": [
      "44.4 ms ± 1.04 ms per loop (mean ± std. dev. of 7 runs, 10 loops each)\n"
     ]
    }
   ],
   "source": [
    "%timeit pq._search(Xte[[10]],  limit=top_k)"
   ]
  },
  {
   "cell_type": "code",
   "execution_count": 51,
   "metadata": {
    "ExecuteTime": {
     "end_time": "2021-12-10T15:47:51.816038Z",
     "start_time": "2021-12-10T15:47:47.956582Z"
    }
   },
   "outputs": [
    {
     "name": "stdout",
     "output_type": "stream",
     "text": [
      "47.1 ms ± 1.07 ms per loop (mean ± std. dev. of 7 runs, 10 loops each)\n"
     ]
    }
   ],
   "source": [
    "%timeit pq.search(query_da,  limit=top_k)"
   ]
  },
  {
   "cell_type": "code",
   "execution_count": 52,
   "metadata": {
    "ExecuteTime": {
     "end_time": "2021-12-10T15:47:53.990557Z",
     "start_time": "2021-12-10T15:47:51.991339Z"
    }
   },
   "outputs": [
    {
     "name": "stdout",
     "output_type": "stream",
     "text": [
      "2.39 ms ± 160 µs per loop (mean ± std. dev. of 7 runs, 100 loops each)\n"
     ]
    }
   ],
   "source": [
    "%timeit res = cdist(Xte[[10]], Xtr, metric='euclidean')"
   ]
  },
  {
   "cell_type": "markdown",
   "metadata": {},
   "source": [
    "### Quality\n",
    "\n",
    "Manually observing slices of a high dimensional space it seems that the\n",
    "retrieved items from pqlite are nearby the query and the best values from the exact and exhaustive distance computations."
   ]
  },
  {
   "cell_type": "code",
   "execution_count": 53,
   "metadata": {
    "ExecuteTime": {
     "end_time": "2021-12-10T15:47:54.200585Z",
     "start_time": "2021-12-10T15:47:54.168926Z"
    },
    "code_folding": []
   },
   "outputs": [],
   "source": [
    "def _precision(predicted, relevant, eval_at):\n",
    "    \"\"\"\n",
    "    fraction of retrieved documents that are relevant to the query\n",
    "    \"\"\"\n",
    "    if eval_at == 0:\n",
    "        return 0.0\n",
    "    predicted_at_k = predicted[:eval_at]\n",
    "    n_predicted_and_relevant = len(set(predicted_at_k).intersection(set(relevant)))\n",
    "\n",
    "    return n_predicted_and_relevant / len(predicted)\n",
    "\n",
    "def _recall(predicted, relevant, eval_at):\n",
    "    \"\"\"\n",
    "    fraction of the relevant documents that are successfully retrieved\n",
    "    \"\"\"\n",
    "    if eval_at == 0:\n",
    "        return 0.0\n",
    "    predicted_at_k = predicted[:eval_at]\n",
    "    n_predicted_and_relevant = len(set(predicted_at_k).intersection(set(relevant)))\n",
    "    return n_predicted_and_relevant/ len(relevant)\n"
   ]
  },
  {
   "cell_type": "code",
   "execution_count": 54,
   "metadata": {
    "ExecuteTime": {
     "end_time": "2021-12-10T15:47:54.827583Z",
     "start_time": "2021-12-10T15:47:54.800511Z"
    }
   },
   "outputs": [],
   "source": [
    "query = Xte[[11]]  \n",
    "true_distances = cdist(query, Xtr, metric='euclidean').flatten()\n",
    "\n",
    "true_ids = np.argsort(true_distances)[0:top_k]\n",
    "true_dists = true_distances[true_ids]"
   ]
  },
  {
   "cell_type": "code",
   "execution_count": 55,
   "metadata": {
    "ExecuteTime": {
     "end_time": "2021-12-10T15:47:55.928361Z",
     "start_time": "2021-12-10T15:47:55.904105Z"
    }
   },
   "outputs": [
    {
     "data": {
      "text/plain": [
       "array([    0,   192,   300,   371,   545,   677,   767,   813,   933,\n",
       "        1000,  1131,  1219,  1308,  1389,  1590,  1615,  1686,  1713,\n",
       "        1740,  1802,  1943,  2372,  2447,  2618,  2719,  2921,  3010,\n",
       "        3258,  3337,  3418,  3926,  3967,  4140,  4376,  4612,  4625,\n",
       "        4661,  5243,  5433,  5491,  5534,  5619,  5657,  5693,  5699,\n",
       "        5875,  6016,  6413,  6440,  6511,  6624,  6772,  6825,  7103,\n",
       "        7125,  7155,  7948,  8025,  8052,  8098,  8251,  8327,  8366,\n",
       "        8551,  8572,  8931,  9087,  9094,  9239,  9356,  9739,  9867,\n",
       "        9877,  9952,  9978,  9987, 10077, 10174, 10187, 10214, 10277,\n",
       "       10457, 10488, 10982, 11059, 11077, 11083, 11115, 11172, 11280,\n",
       "       11379, 11382, 11445, 11641, 11911, 12001, 12194, 12212, 12234,\n",
       "       12342])"
      ]
     },
     "execution_count": 55,
     "metadata": {},
     "output_type": "execute_result"
    }
   ],
   "source": [
    "true_ids.sort()\n",
    "true_ids"
   ]
  },
  {
   "cell_type": "code",
   "execution_count": 88,
   "metadata": {
    "ExecuteTime": {
     "end_time": "2021-12-10T15:50:49.531536Z",
     "start_time": "2021-12-10T15:50:49.463082Z"
    }
   },
   "outputs": [],
   "source": [
    "pq_dists, pq_ids = pq._search(query,  k=top_k)\n",
    "pq_ids = pq_ids[0]"
   ]
  },
  {
   "cell_type": "code",
   "execution_count": 89,
   "metadata": {
    "ExecuteTime": {
     "end_time": "2021-12-10T15:50:49.726828Z",
     "start_time": "2021-12-10T15:50:49.702731Z"
    }
   },
   "outputs": [
    {
     "data": {
      "text/plain": [
       "array([    0,   767,  4612,  1686,  7103, 11280, 10457, 12212,  2372,\n",
       "        9356])"
      ]
     },
     "execution_count": 89,
     "metadata": {},
     "output_type": "execute_result"
    }
   ],
   "source": [
    "pq_ids"
   ]
  },
  {
   "cell_type": "code",
   "execution_count": 90,
   "metadata": {
    "ExecuteTime": {
     "end_time": "2021-12-10T15:50:52.755617Z",
     "start_time": "2021-12-10T15:50:52.729197Z"
    }
   },
   "outputs": [
    {
     "name": "stdout",
     "output_type": "stream",
     "text": [
      "0.1\n",
      "1.0\n"
     ]
    }
   ],
   "source": [
    "print(_precision(true_ids, pq_ids, top_k))\n",
    "print(_recall(true_ids, pq_ids, top_k))"
   ]
  },
  {
   "cell_type": "markdown",
   "metadata": {},
   "source": [
    "#### Plotting `pq neighbors` vs `true neighbors`\n",
    "\n",
    "Here we should see orange and black dots close in the feature space (does not seem to work as expected)."
   ]
  },
  {
   "cell_type": "code",
   "execution_count": 95,
   "metadata": {
    "ExecuteTime": {
     "end_time": "2021-12-10T15:51:02.976547Z",
     "start_time": "2021-12-10T15:51:02.952737Z"
    }
   },
   "outputs": [],
   "source": [
    "import matplotlib.pyplot as plt\n",
    "\n",
    "def paint_slice(Xtr, query, pq_ids, feat1, feat2):\n",
    "    plt.scatter(Xtr[:,feat1], Xtr[:,feat2], color='blue', alpha=0.2)\n",
    "\n",
    "    for pq_id in pq_ids:\n",
    "        plt.scatter(Xtr[pq_id, feat1], Xtr[pq_id, feat2], color='black')\n",
    "\n",
    "    for true_id in true_ids:\n",
    "        plt.scatter(Xtr[true_id, feat1], Xtr[true_id, feat2], color='orange')\n",
    "\n",
    "    plt.scatter(query[:, feat1], query[:, feat2], color='red')\n",
    "    "
   ]
  },
  {
   "cell_type": "code",
   "execution_count": 102,
   "metadata": {
    "ExecuteTime": {
     "end_time": "2021-12-10T15:51:32.396481Z",
     "start_time": "2021-12-10T15:51:31.540778Z"
    }
   },
   "outputs": [
    {
     "data": {
      "image/png": "[encoded data removed]",
      "text/plain": [
       "<Figure size 432x288 with 1 Axes>"
      ]
     },
     "metadata": {
      "needs_background": "light"
     },
     "output_type": "display_data"
    }
   ],
   "source": [
    "feat1, feat2 = 0, 1\n",
    "paint_slice(Xtr, query, pq_ids, feat1, feat2)"
   ]
  },
  {
   "cell_type": "code",
   "execution_count": 100,
   "metadata": {
    "ExecuteTime": {
     "end_time": "2021-12-10T15:51:23.669716Z",
     "start_time": "2021-12-10T15:51:22.765419Z"
    }
   },
   "outputs": [
    {
     "data": {
      "image/png": "[encoded data removed]",
      "text/plain": [
       "<Figure size 432x288 with 1 Axes>"
      ]
     },
     "metadata": {
      "needs_background": "light"
     },
     "output_type": "display_data"
    }
   ],
   "source": [
    "feat1, feat2 = 8, 100\n",
    "paint_slice(Xtr, query, pq_ids, feat1, feat2)"
   ]
  },
  {
   "cell_type": "code",
   "execution_count": 99,
   "metadata": {
    "ExecuteTime": {
     "end_time": "2021-12-10T15:51:22.578755Z",
     "start_time": "2021-12-10T15:51:21.719440Z"
    }
   },
   "outputs": [
    {
     "data": {
      "image/png": "[encoded data removed]",
      "text/plain": [
       "<Figure size 432x288 with 1 Axes>"
      ]
     },
     "metadata": {
      "needs_background": "light"
     },
     "output_type": "display_data"
    }
   ],
   "source": [
    "feat1, feat2 = 3,4\n",
    "paint_slice(Xtr, query, pq_ids, feat1, feat2)"
   ]
  },
  {
   "cell_type": "markdown",
   "metadata": {},
   "source": [
    "\n",
    "###  `precision, recall, query_time` vs `n_subvectors` &  `n_cells` "
   ]
  },
  {
   "cell_type": "code",
   "execution_count": 108,
   "metadata": {
    "ExecuteTime": {
     "end_time": "2021-12-10T16:05:12.843267Z",
     "start_time": "2021-12-10T15:53:12.919130Z"
    },
    "code_folding": [],
    "scrolled": false
   },
   "outputs": [
    {
     "name": "stdout",
     "output_type": "stream",
     "text": [
      "Xtr: (9980, 128) vs Xte: (20, 128)\n"
     ]
    },
    {
     "name": "stderr",
     "output_type": "stream",
     "text": [
      "2021-12-10 16:53:13.145 | INFO     | pqlite.index:__init__:89 - Initialize VQ codec (K=8)\n",
      "2021-12-10 16:53:13.146 | INFO     | pqlite.index:__init__:99 - Initialize PQ codec (n_subvectors=32)\n",
      "2021-12-10 16:53:13.158 | INFO     | pqlite.index:train:141 - Start training VQ codec (K=8) with 9980 data...\n",
      "2021-12-10 16:53:13.435 | INFO     | pqlite.index:train:147 - Start training PQ codec (n_subvectors=32) with 9980 data...\n",
      "2021-12-10 16:53:34.875 | INFO     | pqlite.index:train:152 - The pqlite is successfully trained!\n",
      "2021-12-10 16:53:34.876 | INFO     | pqlite.index:dump_model:359 - Save the trained parameters to data/d1304f5ee4600f004f64117d6ce12ebb\n",
      "2021-12-10 16:53:35.639 | DEBUG    | pqlite.container:insert:224 - => 9980 new docs added\n"
     ]
    },
    {
     "name": "stdout",
     "output_type": "stream",
     "text": [
      "{'precision': 0.45500000000000007, 'recall': 0.45500000000000007, 'train_time': 21.7206130027771, 'index_time': 0.7612957954406738, 'query_time': 0.22287511825561523, 'indexer_hyperparams': {'n_cells': 8, 'n_subvectors': 32}}\n"
     ]
    },
    {
     "name": "stderr",
     "output_type": "stream",
     "text": [
      "2021-12-10 16:53:35.994 | INFO     | pqlite.index:__init__:89 - Initialize VQ codec (K=8)\n",
      "2021-12-10 16:53:35.995 | INFO     | pqlite.index:__init__:99 - Initialize PQ codec (n_subvectors=64)\n",
      "2021-12-10 16:53:36.012 | INFO     | pqlite.index:train:141 - Start training VQ codec (K=8) with 9980 data...\n",
      "2021-12-10 16:53:36.278 | INFO     | pqlite.index:train:147 - Start training PQ codec (n_subvectors=64) with 9980 data...\n",
      "2021-12-10 16:54:17.965 | INFO     | pqlite.index:train:152 - The pqlite is successfully trained!\n",
      "2021-12-10 16:54:17.965 | INFO     | pqlite.index:dump_model:359 - Save the trained parameters to data/626305e7606537598688ad160806d69f\n",
      "2021-12-10 16:54:18.950 | DEBUG    | pqlite.container:insert:224 - => 9980 new docs added\n"
     ]
    },
    {
     "name": "stdout",
     "output_type": "stream",
     "text": [
      "{'precision': 0.7550000000000001, 'recall': 0.7550000000000001, 'train_time': 41.95451092720032, 'index_time': 0.9851388931274414, 'query_time': 0.26849794387817383, 'indexer_hyperparams': {'n_cells': 8, 'n_subvectors': 64}}\n"
     ]
    },
    {
     "name": "stderr",
     "output_type": "stream",
     "text": [
      "2021-12-10 16:54:19.348 | INFO     | pqlite.index:__init__:89 - Initialize VQ codec (K=8)\n",
      "2021-12-10 16:54:19.349 | INFO     | pqlite.index:__init__:99 - Initialize PQ codec (n_subvectors=128)\n",
      "2021-12-10 16:54:19.370 | INFO     | pqlite.index:train:141 - Start training VQ codec (K=8) with 9980 data...\n",
      "2021-12-10 16:54:19.749 | INFO     | pqlite.index:train:147 - Start training PQ codec (n_subvectors=128) with 9980 data...\n",
      "2021-12-10 16:55:31.617 | INFO     | pqlite.index:train:152 - The pqlite is successfully trained!\n",
      "2021-12-10 16:55:31.617 | INFO     | pqlite.index:dump_model:359 - Save the trained parameters to data/f33efae3f283d85b6afef29d4305b0f6\n",
      "2021-12-10 16:55:32.887 | DEBUG    | pqlite.container:insert:224 - => 9980 new docs added\n"
     ]
    },
    {
     "name": "stdout",
     "output_type": "stream",
     "text": [
      "{'precision': 0.9400000000000001, 'recall': 0.9400000000000001, 'train_time': 72.24841713905334, 'index_time': 1.2695119380950928, 'query_time': 0.36830782890319824, 'indexer_hyperparams': {'n_cells': 8, 'n_subvectors': 128}}\n"
     ]
    },
    {
     "name": "stderr",
     "output_type": "stream",
     "text": [
      "2021-12-10 16:55:33.390 | INFO     | pqlite.index:__init__:89 - Initialize VQ codec (K=16)\n",
      "2021-12-10 16:55:33.391 | INFO     | pqlite.index:__init__:99 - Initialize PQ codec (n_subvectors=32)\n",
      "2021-12-10 16:55:33.420 | INFO     | pqlite.index:train:141 - Start training VQ codec (K=16) with 9980 data...\n",
      "2021-12-10 16:55:33.812 | INFO     | pqlite.index:train:147 - Start training PQ codec (n_subvectors=32) with 9980 data...\n",
      "2021-12-10 16:55:54.788 | INFO     | pqlite.index:train:152 - The pqlite is successfully trained!\n",
      "2021-12-10 16:55:54.789 | INFO     | pqlite.index:dump_model:359 - Save the trained parameters to data/45f59be7052d7061f734b2b55ce6df0e\n",
      "2021-12-10 16:55:56.034 | DEBUG    | pqlite.container:insert:224 - => 9980 new docs added\n"
     ]
    },
    {
     "name": "stdout",
     "output_type": "stream",
     "text": [
      "{'precision': 0.425, 'recall': 0.425, 'train_time': 21.371039152145386, 'index_time': 1.2443852424621582, 'query_time': 0.7414536476135254, 'indexer_hyperparams': {'n_cells': 16, 'n_subvectors': 32}}\n"
     ]
    },
    {
     "name": "stderr",
     "output_type": "stream",
     "text": [
      "2021-12-10 16:55:56.911 | INFO     | pqlite.index:__init__:89 - Initialize VQ codec (K=16)\n",
      "2021-12-10 16:55:56.912 | INFO     | pqlite.index:__init__:99 - Initialize PQ codec (n_subvectors=64)\n",
      "2021-12-10 16:55:56.959 | INFO     | pqlite.index:train:141 - Start training VQ codec (K=16) with 9980 data...\n",
      "2021-12-10 16:55:57.468 | INFO     | pqlite.index:train:147 - Start training PQ codec (n_subvectors=64) with 9980 data...\n",
      "2021-12-10 16:56:40.350 | INFO     | pqlite.index:train:152 - The pqlite is successfully trained!\n",
      "2021-12-10 16:56:40.351 | INFO     | pqlite.index:dump_model:359 - Save the trained parameters to data/cd85824bf658d77a3ce90a7a42a14daf\n",
      "2021-12-10 16:56:41.476 | DEBUG    | pqlite.container:insert:224 - => 9980 new docs added\n"
     ]
    },
    {
     "name": "stdout",
     "output_type": "stream",
     "text": [
      "{'precision': 0.8, 'recall': 0.8, 'train_time': 43.39419198036194, 'index_time': 1.124485731124878, 'query_time': 0.5442020893096924, 'indexer_hyperparams': {'n_cells': 16, 'n_subvectors': 64}}\n"
     ]
    },
    {
     "name": "stderr",
     "output_type": "stream",
     "text": [
      "2021-12-10 16:56:42.152 | INFO     | pqlite.index:__init__:89 - Initialize VQ codec (K=16)\n",
      "2021-12-10 16:56:42.153 | INFO     | pqlite.index:__init__:99 - Initialize PQ codec (n_subvectors=128)\n",
      "2021-12-10 16:56:42.191 | INFO     | pqlite.index:train:141 - Start training VQ codec (K=16) with 9980 data...\n",
      "2021-12-10 16:56:42.616 | INFO     | pqlite.index:train:147 - Start training PQ codec (n_subvectors=128) with 9980 data...\n",
      "\u001b[1;33mUserWarning: One of the clusters is empty. Re-run kmeans with a different initialization.\u001b[0m \u001b[1;30m(raised from /Users/davidbuchaca1/opt/anaconda3/lib/python3.8/site-packages/scipy/cluster/vq.py:607)\u001b[0m\n",
      "2021-12-10 16:57:56.084 | INFO     | pqlite.index:train:152 - The pqlite is successfully trained!\n",
      "2021-12-10 16:57:56.085 | INFO     | pqlite.index:dump_model:359 - Save the trained parameters to data/24f8df04c973b4a2e6733b8f79981087\n",
      "2021-12-10 16:57:57.583 | DEBUG    | pqlite.container:insert:224 - => 9980 new docs added\n"
     ]
    },
    {
     "name": "stdout",
     "output_type": "stream",
     "text": [
      "{'precision': 0.9550000000000001, 'recall': 0.9550000000000001, 'train_time': 73.8950867652893, 'index_time': 1.4972429275512695, 'query_time': 0.8586359024047852, 'indexer_hyperparams': {'n_cells': 16, 'n_subvectors': 128}}\n"
     ]
    },
    {
     "name": "stderr",
     "output_type": "stream",
     "text": [
      "2021-12-10 16:57:58.574 | INFO     | pqlite.index:__init__:89 - Initialize VQ codec (K=32)\n",
      "2021-12-10 16:57:58.575 | INFO     | pqlite.index:__init__:99 - Initialize PQ codec (n_subvectors=32)\n",
      "2021-12-10 16:57:58.641 | INFO     | pqlite.index:train:141 - Start training VQ codec (K=32) with 9980 data...\n",
      "2021-12-10 16:57:59.265 | INFO     | pqlite.index:train:147 - Start training PQ codec (n_subvectors=32) with 9980 data...\n",
      "2021-12-10 16:58:22.452 | INFO     | pqlite.index:train:152 - The pqlite is successfully trained!\n",
      "2021-12-10 16:58:22.452 | INFO     | pqlite.index:dump_model:359 - Save the trained parameters to data/6e6169129ace0166eaa443eb03643189\n",
      "2021-12-10 16:58:23.505 | DEBUG    | pqlite.container:insert:224 - => 9980 new docs added\n"
     ]
    },
    {
     "name": "stdout",
     "output_type": "stream",
     "text": [
      "{'precision': 0.45999999999999996, 'recall': 0.45999999999999996, 'train_time': 23.813657999038696, 'index_time': 1.0515470504760742, 'query_time': 0.9839298725128174, 'indexer_hyperparams': {'n_cells': 32, 'n_subvectors': 32}}\n"
     ]
    },
    {
     "name": "stderr",
     "output_type": "stream",
     "text": [
      "2021-12-10 16:58:24.628 | INFO     | pqlite.index:__init__:89 - Initialize VQ codec (K=32)\n",
      "2021-12-10 16:58:24.629 | INFO     | pqlite.index:__init__:99 - Initialize PQ codec (n_subvectors=64)\n",
      "2021-12-10 16:58:24.700 | INFO     | pqlite.index:train:141 - Start training VQ codec (K=32) with 9980 data...\n",
      "2021-12-10 16:58:25.102 | INFO     | pqlite.index:train:147 - Start training PQ codec (n_subvectors=64) with 9980 data...\n",
      "2021-12-10 16:59:12.110 | INFO     | pqlite.index:train:152 - The pqlite is successfully trained!\n",
      "2021-12-10 16:59:12.111 | INFO     | pqlite.index:dump_model:359 - Save the trained parameters to data/0805ec37d9c6b2e3541df4c983c6b57d\n",
      "2021-12-10 16:59:13.126 | DEBUG    | pqlite.container:insert:224 - => 9980 new docs added\n"
     ]
    },
    {
     "name": "stdout",
     "output_type": "stream",
     "text": [
      "{'precision': 0.8100000000000002, 'recall': 0.8100000000000002, 'train_time': 47.41264009475708, 'index_time': 1.0145530700683594, 'query_time': 1.013725996017456, 'indexer_hyperparams': {'n_cells': 32, 'n_subvectors': 64}}\n"
     ]
    },
    {
     "name": "stderr",
     "output_type": "stream",
     "text": [
      "2021-12-10 16:59:14.278 | INFO     | pqlite.index:__init__:89 - Initialize VQ codec (K=32)\n",
      "2021-12-10 16:59:14.279 | INFO     | pqlite.index:__init__:99 - Initialize PQ codec (n_subvectors=128)\n",
      "2021-12-10 16:59:14.353 | INFO     | pqlite.index:train:141 - Start training VQ codec (K=32) with 9980 data...\n",
      "2021-12-10 16:59:14.872 | INFO     | pqlite.index:train:147 - Start training PQ codec (n_subvectors=128) with 9980 data...\n",
      "2021-12-10 17:00:23.623 | INFO     | pqlite.index:train:152 - The pqlite is successfully trained!\n",
      "2021-12-10 17:00:23.624 | INFO     | pqlite.index:dump_model:359 - Save the trained parameters to data/d4b5ce5fb6c2ffe0121fa0863a53e26b\n",
      "2021-12-10 17:00:25.018 | DEBUG    | pqlite.container:insert:224 - => 9980 new docs added\n"
     ]
    },
    {
     "name": "stdout",
     "output_type": "stream",
     "text": [
      "{'precision': 0.96, 'recall': 0.96, 'train_time': 69.27235388755798, 'index_time': 1.3933141231536865, 'query_time': 1.387444019317627, 'indexer_hyperparams': {'n_cells': 32, 'n_subvectors': 128}}\n"
     ]
    },
    {
     "name": "stderr",
     "output_type": "stream",
     "text": [
      "2021-12-10 17:00:26.545 | INFO     | pqlite.index:__init__:89 - Initialize VQ codec (K=64)\n",
      "2021-12-10 17:00:26.546 | INFO     | pqlite.index:__init__:99 - Initialize PQ codec (n_subvectors=32)\n",
      "2021-12-10 17:00:26.639 | INFO     | pqlite.index:train:141 - Start training VQ codec (K=64) with 9980 data...\n",
      "2021-12-10 17:00:27.205 | INFO     | pqlite.index:train:147 - Start training PQ codec (n_subvectors=32) with 9980 data...\n",
      "2021-12-10 17:00:46.900 | INFO     | pqlite.index:train:152 - The pqlite is successfully trained!\n",
      "2021-12-10 17:00:46.900 | INFO     | pqlite.index:dump_model:359 - Save the trained parameters to data/6fdff810b2a3450f2c6d199086ad702d\n",
      "2021-12-10 17:00:47.713 | DEBUG    | pqlite.container:insert:224 - => 9980 new docs added\n"
     ]
    },
    {
     "name": "stdout",
     "output_type": "stream",
     "text": [
      "{'precision': 0.4699999999999999, 'recall': 0.4699999999999999, 'train_time': 20.26306414604187, 'index_time': 0.8123030662536621, 'query_time': 1.5700819492340088, 'indexer_hyperparams': {'n_cells': 64, 'n_subvectors': 32}}\n"
     ]
    },
    {
     "name": "stderr",
     "output_type": "stream",
     "text": [
      "2021-12-10 17:00:49.425 | INFO     | pqlite.index:__init__:89 - Initialize VQ codec (K=64)\n",
      "2021-12-10 17:00:49.427 | INFO     | pqlite.index:__init__:99 - Initialize PQ codec (n_subvectors=64)\n",
      "2021-12-10 17:00:49.536 | INFO     | pqlite.index:train:141 - Start training VQ codec (K=64) with 9980 data...\n",
      "2021-12-10 17:00:49.990 | INFO     | pqlite.index:train:147 - Start training PQ codec (n_subvectors=64) with 9980 data...\n",
      "2021-12-10 17:01:29.490 | INFO     | pqlite.index:train:152 - The pqlite is successfully trained!\n",
      "2021-12-10 17:01:29.491 | INFO     | pqlite.index:dump_model:359 - Save the trained parameters to data/a868cc5aa102be21a3dd1b6f8b9ec374\n",
      "2021-12-10 17:01:30.530 | DEBUG    | pqlite.container:insert:224 - => 9980 new docs added\n"
     ]
    },
    {
     "name": "stdout",
     "output_type": "stream",
     "text": [
      "{'precision': 0.7950000000000002, 'recall': 0.7950000000000002, 'train_time': 39.95717978477478, 'index_time': 1.0383119583129883, 'query_time': 1.9283158779144287, 'indexer_hyperparams': {'n_cells': 64, 'n_subvectors': 64}}\n"
     ]
    },
    {
     "name": "stderr",
     "output_type": "stream",
     "text": [
      "2021-12-10 17:01:32.596 | INFO     | pqlite.index:__init__:89 - Initialize VQ codec (K=64)\n",
      "2021-12-10 17:01:32.597 | INFO     | pqlite.index:__init__:99 - Initialize PQ codec (n_subvectors=128)\n",
      "2021-12-10 17:01:32.721 | INFO     | pqlite.index:train:141 - Start training VQ codec (K=64) with 9980 data...\n",
      "2021-12-10 17:01:33.262 | INFO     | pqlite.index:train:147 - Start training PQ codec (n_subvectors=128) with 9980 data...\n",
      "2021-12-10 17:02:41.386 | INFO     | pqlite.index:train:152 - The pqlite is successfully trained!\n",
      "2021-12-10 17:02:41.387 | INFO     | pqlite.index:dump_model:359 - Save the trained parameters to data/53fcfdf043b7f1e1886e2f67d2db315b\n",
      "2021-12-10 17:02:42.844 | DEBUG    | pqlite.container:insert:224 - => 9980 new docs added\n"
     ]
    },
    {
     "name": "stdout",
     "output_type": "stream",
     "text": [
      "{'precision': 0.9350000000000002, 'recall': 0.9350000000000002, 'train_time': 68.66774678230286, 'index_time': 1.4564719200134277, 'query_time': 2.7429070472717285, 'indexer_hyperparams': {'n_cells': 64, 'n_subvectors': 128}}\n"
     ]
    },
    {
     "name": "stderr",
     "output_type": "stream",
     "text": [
      "2021-12-10 17:02:45.734 | INFO     | pqlite.index:__init__:89 - Initialize VQ codec (K=128)\n",
      "2021-12-10 17:02:45.735 | INFO     | pqlite.index:__init__:99 - Initialize PQ codec (n_subvectors=32)\n",
      "2021-12-10 17:02:45.954 | INFO     | pqlite.index:train:141 - Start training VQ codec (K=128) with 9980 data...\n",
      "2021-12-10 17:02:46.539 | INFO     | pqlite.index:train:147 - Start training PQ codec (n_subvectors=32) with 9980 data...\n",
      "2021-12-10 17:03:06.261 | INFO     | pqlite.index:train:152 - The pqlite is successfully trained!\n",
      "2021-12-10 17:03:06.261 | INFO     | pqlite.index:dump_model:359 - Save the trained parameters to data/d9e21e6fe97193567a60d042917f23e0\n",
      "2021-12-10 17:03:07.174 | DEBUG    | pqlite.container:insert:224 - => 9980 new docs added\n"
     ]
    },
    {
     "name": "stdout",
     "output_type": "stream",
     "text": [
      "{'precision': 0.5399999999999999, 'recall': 0.5399999999999999, 'train_time': 20.30864906311035, 'index_time': 0.9121379852294922, 'query_time': 3.0955798625946045, 'indexer_hyperparams': {'n_cells': 128, 'n_subvectors': 32}}\n"
     ]
    },
    {
     "name": "stderr",
     "output_type": "stream",
     "text": [
      "2021-12-10 17:03:10.419 | INFO     | pqlite.index:__init__:89 - Initialize VQ codec (K=128)\n",
      "2021-12-10 17:03:10.420 | INFO     | pqlite.index:__init__:99 - Initialize PQ codec (n_subvectors=64)\n",
      "2021-12-10 17:03:10.627 | INFO     | pqlite.index:train:141 - Start training VQ codec (K=128) with 9980 data...\n",
      "2021-12-10 17:03:11.182 | INFO     | pqlite.index:train:147 - Start training PQ codec (n_subvectors=64) with 9980 data...\n",
      "2021-12-10 17:03:50.667 | INFO     | pqlite.index:train:152 - The pqlite is successfully trained!\n",
      "2021-12-10 17:03:50.668 | INFO     | pqlite.index:dump_model:359 - Save the trained parameters to data/8118e7af93ba02938d166bb2a557aa4d\n",
      "2021-12-10 17:03:51.850 | DEBUG    | pqlite.container:insert:224 - => 9980 new docs added\n"
     ]
    },
    {
     "name": "stdout",
     "output_type": "stream",
     "text": [
      "{'precision': 0.7950000000000002, 'recall': 0.7950000000000002, 'train_time': 40.042699098587036, 'index_time': 1.1807379722595215, 'query_time': 3.7773728370666504, 'indexer_hyperparams': {'n_cells': 128, 'n_subvectors': 64}}\n"
     ]
    },
    {
     "name": "stderr",
     "output_type": "stream",
     "text": [
      "2021-12-10 17:03:55.777 | INFO     | pqlite.index:__init__:89 - Initialize VQ codec (K=128)\n",
      "2021-12-10 17:03:55.779 | INFO     | pqlite.index:__init__:99 - Initialize PQ codec (n_subvectors=128)\n",
      "2021-12-10 17:03:56.022 | INFO     | pqlite.index:train:141 - Start training VQ codec (K=128) with 9980 data...\n",
      "2021-12-10 17:03:56.616 | INFO     | pqlite.index:train:147 - Start training PQ codec (n_subvectors=128) with 9980 data...\n",
      "2021-12-10 17:05:05.761 | INFO     | pqlite.index:train:152 - The pqlite is successfully trained!\n",
      "2021-12-10 17:05:05.761 | INFO     | pqlite.index:dump_model:359 - Save the trained parameters to data/cfe5f214259b790f13d7fb00c6c39203\n",
      "2021-12-10 17:05:07.366 | DEBUG    | pqlite.container:insert:224 - => 9980 new docs added\n"
     ]
    },
    {
     "name": "stdout",
     "output_type": "stream",
     "text": [
      "{'precision': 0.95, 'recall': 0.95, 'train_time': 69.74145197868347, 'index_time': 1.6033689975738525, 'query_time': 5.468432903289795, 'indexer_hyperparams': {'n_cells': 128, 'n_subvectors': 128}}\n"
     ]
    }
   ],
   "source": [
    "import time\n",
    "import numpy as np\n",
    "from pqlite import PQLite\n",
    "\n",
    "from jina.math.distance import cdist\n",
    "from jina.math.helper import top_k as _top_k\n",
    "import pandas as pd\n",
    "from sklearn.datasets import make_blobs\n",
    "from sklearn.model_selection import train_test_split\n",
    "\n",
    "def _precision(predicted, relevant, eval_at):\n",
    "    \"\"\"\n",
    "    fraction of retrieved documents that are relevant to the query\n",
    "    \"\"\"\n",
    "    if eval_at == 0:\n",
    "        return 0.0\n",
    "    predicted_at_k = predicted[:eval_at]\n",
    "    n_predicted_and_relevant = len(set(predicted_at_k).intersection(set(relevant)))\n",
    "\n",
    "    return n_predicted_and_relevant / len(predicted)\n",
    "\n",
    "def _recall(predicted, relevant, eval_at):\n",
    "    \"\"\"\n",
    "    fraction of the relevant documents that are successfully retrieved\n",
    "    \"\"\"\n",
    "    if eval_at == 0:\n",
    "        return 0.0\n",
    "    predicted_at_k = predicted[:eval_at]\n",
    "    n_predicted_and_relevant = len(set(predicted_at_k).intersection(set(relevant)))\n",
    "    return n_predicted_and_relevant/ len(relevant)\n",
    "\n",
    "def evaluate(predicts, relevants, eval_at):\n",
    "    recall = 0\n",
    "    precision = 0\n",
    "    for _predict, _relevant in zip(predicts, relevants):\n",
    "        _predict = np.array([int(x) for x in _predict])\n",
    "        recall += _recall(_predict, _relevant, top_k)\n",
    "        precision += _precision(_predict, _relevant, top_k)\n",
    "\n",
    "    return recall / len(predicts), precision / len(predicts)\n",
    "\n",
    "\n",
    "#N = 100_000 # number of data points\n",
    "Nt = 10_000\n",
    "Nq = 1\n",
    "D = 128 # dimentionality / number of features\n",
    "top_k = 10\n",
    "n_cells = 64\n",
    "n_subvectors = 64\n",
    "n_queries = 1000\n",
    "\n",
    "# 2,000 128-dim vectors for training\n",
    "np.random.seed(123)\n",
    "Xtr, Xte = train_test_split(make_blobs(n_samples = Nt, n_features = D)[0].astype(np.float32), test_size=20)\n",
    "print(f'Xtr: {Xtr.shape} vs Xte: {Xte.shape}')\n",
    "\n",
    "precision_per_query = []\n",
    "recall_per_query = []\n",
    "results = []\n",
    "\n",
    "for n_cells in [8, 16, 32, 64, 128]:\n",
    "    for n_subvectors in [32, 64, 128]:\n",
    "        !rm -rf data/\n",
    "        pq = PQLite(dim=D,\n",
    "                    n_cells=n_cells,\n",
    "                    n_subvectors=n_subvectors)\n",
    "        \n",
    "        t0 = time.time()\n",
    "        pq.train(Xtr[:20480])\n",
    "        train_time = abs(time.time() - t0)\n",
    "\n",
    "        t0 = time.time()\n",
    "        \n",
    "        Xtr_da = DocumentArray([Document(id=f'{i}', embedding=Xtr[i]) for i in range(len(Xtr))])\n",
    "        pq.index(Xtr_da, ids=list(range(len(Xtr))))\n",
    "        index_time = abs(t0 - time.time())\n",
    "\n",
    "        dists = cdist(Xte, Xtr, metric='euclidean')\n",
    "        true_dists, true_ids = _top_k(dists, top_k, descending=False)\n",
    "        \n",
    "        t0 = time.time()\n",
    "        pq_dists, pq_ids = pq._search(Xte, limit=top_k)\n",
    "        query_time = abs(t0 - time.time())\n",
    "        recall, precision = evaluate(pq_ids, true_ids, top_k)\n",
    "\n",
    "        results_dict = {'precision': precision,\n",
    "                        'recall': recall,\n",
    "                        'train_time': train_time,\n",
    "                        'index_time': index_time,\n",
    "                        'query_time': query_time,\n",
    "                        'indexer_hyperparams': {'n_cells': n_cells,\n",
    "                                                'n_subvectors': n_subvectors}\n",
    "                        }\n",
    "        print(results_dict)\n",
    "\n",
    "        results.append(results_dict)"
   ]
  },
  {
   "cell_type": "code",
   "execution_count": 109,
   "metadata": {
    "ExecuteTime": {
     "end_time": "2021-12-10T16:05:13.101049Z",
     "start_time": "2021-12-10T16:05:13.049306Z"
    }
   },
   "outputs": [
    {
     "data": {
      "text/html": [
       "<div>\n",
       "<style scoped>\n",
       "    .dataframe tbody tr th:only-of-type {\n",
       "        vertical-align: middle;\n",
       "    }\n",
       "\n",
       "    .dataframe tbody tr th {\n",
       "        vertical-align: top;\n",
       "    }\n",
       "\n",
       "    .dataframe thead th {\n",
       "        text-align: right;\n",
       "    }\n",
       "</style>\n",
       "<table border=\"1\" class=\"dataframe\">\n",
       "  <thead>\n",
       "    <tr style=\"text-align: right;\">\n",
       "      <th></th>\n",
       "      <th>precision</th>\n",
       "      <th>recall</th>\n",
       "      <th>train_time</th>\n",
       "      <th>index_time</th>\n",
       "      <th>query_time</th>\n",
       "      <th>indexer_hyperparams</th>\n",
       "    </tr>\n",
       "  </thead>\n",
       "  <tbody>\n",
       "    <tr>\n",
       "      <th>8</th>\n",
       "      <td>0.960</td>\n",
       "      <td>0.960</td>\n",
       "      <td>69.272354</td>\n",
       "      <td>1.393314</td>\n",
       "      <td>1.387444</td>\n",
       "      <td>{'n_cells': 32, 'n_subvectors': 128}</td>\n",
       "    </tr>\n",
       "    <tr>\n",
       "      <th>5</th>\n",
       "      <td>0.955</td>\n",
       "      <td>0.955</td>\n",
       "      <td>73.895087</td>\n",
       "      <td>1.497243</td>\n",
       "      <td>0.858636</td>\n",
       "      <td>{'n_cells': 16, 'n_subvectors': 128}</td>\n",
       "    </tr>\n",
       "    <tr>\n",
       "      <th>14</th>\n",
       "      <td>0.950</td>\n",
       "      <td>0.950</td>\n",
       "      <td>69.741452</td>\n",
       "      <td>1.603369</td>\n",
       "      <td>5.468433</td>\n",
       "      <td>{'n_cells': 128, 'n_subvectors': 128}</td>\n",
       "    </tr>\n",
       "    <tr>\n",
       "      <th>2</th>\n",
       "      <td>0.940</td>\n",
       "      <td>0.940</td>\n",
       "      <td>72.248417</td>\n",
       "      <td>1.269512</td>\n",
       "      <td>0.368308</td>\n",
       "      <td>{'n_cells': 8, 'n_subvectors': 128}</td>\n",
       "    </tr>\n",
       "    <tr>\n",
       "      <th>11</th>\n",
       "      <td>0.935</td>\n",
       "      <td>0.935</td>\n",
       "      <td>68.667747</td>\n",
       "      <td>1.456472</td>\n",
       "      <td>2.742907</td>\n",
       "      <td>{'n_cells': 64, 'n_subvectors': 128}</td>\n",
       "    </tr>\n",
       "    <tr>\n",
       "      <th>7</th>\n",
       "      <td>0.810</td>\n",
       "      <td>0.810</td>\n",
       "      <td>47.412640</td>\n",
       "      <td>1.014553</td>\n",
       "      <td>1.013726</td>\n",
       "      <td>{'n_cells': 32, 'n_subvectors': 64}</td>\n",
       "    </tr>\n",
       "    <tr>\n",
       "      <th>4</th>\n",
       "      <td>0.800</td>\n",
       "      <td>0.800</td>\n",
       "      <td>43.394192</td>\n",
       "      <td>1.124486</td>\n",
       "      <td>0.544202</td>\n",
       "      <td>{'n_cells': 16, 'n_subvectors': 64}</td>\n",
       "    </tr>\n",
       "    <tr>\n",
       "      <th>10</th>\n",
       "      <td>0.795</td>\n",
       "      <td>0.795</td>\n",
       "      <td>39.957180</td>\n",
       "      <td>1.038312</td>\n",
       "      <td>1.928316</td>\n",
       "      <td>{'n_cells': 64, 'n_subvectors': 64}</td>\n",
       "    </tr>\n",
       "    <tr>\n",
       "      <th>13</th>\n",
       "      <td>0.795</td>\n",
       "      <td>0.795</td>\n",
       "      <td>40.042699</td>\n",
       "      <td>1.180738</td>\n",
       "      <td>3.777373</td>\n",
       "      <td>{'n_cells': 128, 'n_subvectors': 64}</td>\n",
       "    </tr>\n",
       "    <tr>\n",
       "      <th>1</th>\n",
       "      <td>0.755</td>\n",
       "      <td>0.755</td>\n",
       "      <td>41.954511</td>\n",
       "      <td>0.985139</td>\n",
       "      <td>0.268498</td>\n",
       "      <td>{'n_cells': 8, 'n_subvectors': 64}</td>\n",
       "    </tr>\n",
       "    <tr>\n",
       "      <th>12</th>\n",
       "      <td>0.540</td>\n",
       "      <td>0.540</td>\n",
       "      <td>20.308649</td>\n",
       "      <td>0.912138</td>\n",
       "      <td>3.095580</td>\n",
       "      <td>{'n_cells': 128, 'n_subvectors': 32}</td>\n",
       "    </tr>\n",
       "    <tr>\n",
       "      <th>9</th>\n",
       "      <td>0.470</td>\n",
       "      <td>0.470</td>\n",
       "      <td>20.263064</td>\n",
       "      <td>0.812303</td>\n",
       "      <td>1.570082</td>\n",
       "      <td>{'n_cells': 64, 'n_subvectors': 32}</td>\n",
       "    </tr>\n",
       "    <tr>\n",
       "      <th>6</th>\n",
       "      <td>0.460</td>\n",
       "      <td>0.460</td>\n",
       "      <td>23.813658</td>\n",
       "      <td>1.051547</td>\n",
       "      <td>0.983930</td>\n",
       "      <td>{'n_cells': 32, 'n_subvectors': 32}</td>\n",
       "    </tr>\n",
       "    <tr>\n",
       "      <th>0</th>\n",
       "      <td>0.455</td>\n",
       "      <td>0.455</td>\n",
       "      <td>21.720613</td>\n",
       "      <td>0.761296</td>\n",
       "      <td>0.222875</td>\n",
       "      <td>{'n_cells': 8, 'n_subvectors': 32}</td>\n",
       "    </tr>\n",
       "    <tr>\n",
       "      <th>3</th>\n",
       "      <td>0.425</td>\n",
       "      <td>0.425</td>\n",
       "      <td>21.371039</td>\n",
       "      <td>1.244385</td>\n",
       "      <td>0.741454</td>\n",
       "      <td>{'n_cells': 16, 'n_subvectors': 32}</td>\n",
       "    </tr>\n",
       "  </tbody>\n",
       "</table>\n",
       "</div>"
      ],
      "text/plain": [
       "    precision  recall  train_time  index_time  query_time  \\\n",
       "8       0.960   0.960   69.272354    1.393314    1.387444   \n",
       "5       0.955   0.955   73.895087    1.497243    0.858636   \n",
       "14      0.950   0.950   69.741452    1.603369    5.468433   \n",
       "2       0.940   0.940   72.248417    1.269512    0.368308   \n",
       "11      0.935   0.935   68.667747    1.456472    2.742907   \n",
       "7       0.810   0.810   47.412640    1.014553    1.013726   \n",
       "4       0.800   0.800   43.394192    1.124486    0.544202   \n",
       "10      0.795   0.795   39.957180    1.038312    1.928316   \n",
       "13      0.795   0.795   40.042699    1.180738    3.777373   \n",
       "1       0.755   0.755   41.954511    0.985139    0.268498   \n",
       "12      0.540   0.540   20.308649    0.912138    3.095580   \n",
       "9       0.470   0.470   20.263064    0.812303    1.570082   \n",
       "6       0.460   0.460   23.813658    1.051547    0.983930   \n",
       "0       0.455   0.455   21.720613    0.761296    0.222875   \n",
       "3       0.425   0.425   21.371039    1.244385    0.741454   \n",
       "\n",
       "                      indexer_hyperparams  \n",
       "8    {'n_cells': 32, 'n_subvectors': 128}  \n",
       "5    {'n_cells': 16, 'n_subvectors': 128}  \n",
       "14  {'n_cells': 128, 'n_subvectors': 128}  \n",
       "2     {'n_cells': 8, 'n_subvectors': 128}  \n",
       "11   {'n_cells': 64, 'n_subvectors': 128}  \n",
       "7     {'n_cells': 32, 'n_subvectors': 64}  \n",
       "4     {'n_cells': 16, 'n_subvectors': 64}  \n",
       "10    {'n_cells': 64, 'n_subvectors': 64}  \n",
       "13   {'n_cells': 128, 'n_subvectors': 64}  \n",
       "1      {'n_cells': 8, 'n_subvectors': 64}  \n",
       "12   {'n_cells': 128, 'n_subvectors': 32}  \n",
       "9     {'n_cells': 64, 'n_subvectors': 32}  \n",
       "6     {'n_cells': 32, 'n_subvectors': 32}  \n",
       "0      {'n_cells': 8, 'n_subvectors': 32}  \n",
       "3     {'n_cells': 16, 'n_subvectors': 32}  "
      ]
     },
     "execution_count": 109,
     "metadata": {},
     "output_type": "execute_result"
    }
   ],
   "source": [
    "import pandas as pd\n",
    "results_df = pd.DataFrame(results)\n",
    "results_df.sort_values('recall', ascending=False)"
   ]
  },
  {
   "cell_type": "code",
   "execution_count": null,
   "metadata": {},
   "outputs": [],
   "source": []
  }
 ],
 "metadata": {
  "kernelspec": {
   "display_name": "Python 3 (ipykernel)",
   "language": "python",
   "name": "python3"
  },
  "language_info": {
   "codemirror_mode": {
    "name": "ipython",
    "version": 3
   },
   "file_extension": ".py",
   "mimetype": "text/x-python",
   "name": "python",
   "nbconvert_exporter": "python",
   "pygments_lexer": "ipython3",
   "version": "3.8.5"
  },
  "toc": {
   "base_numbering": 1,
   "nav_menu": {},
   "number_sections": true,
   "sideBar": true,
   "skip_h1_title": false,
   "title_cell": "Table of Contents",
   "title_sidebar": "Contents",
   "toc_cell": true,
   "toc_position": {
    "height": "calc(100% - 180px)",
    "left": "10px",
    "top": "150px",
    "width": "165px"
   },
   "toc_section_display": true,
   "toc_window_display": true
  },
  "varInspector": {
   "cols": {
    "lenName": 16,
    "lenType": 16,
    "lenVar": 40
   },
   "kernels_config": {
    "python": {
     "delete_cmd_postfix": "",
     "delete_cmd_prefix": "del ",
     "library": "var_list.py",
     "varRefreshCmd": "print(var_dic_list())"
    },
    "r": {
     "delete_cmd_postfix": ") ",
     "delete_cmd_prefix": "rm(",
     "library": "var_list.r",
     "varRefreshCmd": "cat(var_dic_list()) "
    }
   },
   "types_to_exclude": [
    "module",
    "function",
    "builtin_function_or_method",
    "instance",
    "_Feature"
   ],
   "window_display": false
  }
 },
 "nbformat": 4,
 "nbformat_minor": 4
}
