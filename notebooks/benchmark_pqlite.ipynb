{
 "cells": [
  {
   "cell_type": "markdown",
   "metadata": {
    "toc": true
   },
   "source": [
    "<h1>Table of Contents<span class=\"tocSkip\"></span></h1>\n",
    "<div class=\"toc\"><ul class=\"toc-item\"><li><span><a href=\"#Time\" data-toc-modified-id=\"Time-1\"><span class=\"toc-item-num\">1&nbsp;&nbsp;</span>Time</a></span></li><li><span><a href=\"#Quality\" data-toc-modified-id=\"Quality-2\"><span class=\"toc-item-num\">2&nbsp;&nbsp;</span>Quality</a></span></li><li><span><a href=\"#precision,-recall,-query_time-vs-n_cells\" data-toc-modified-id=\"precision,-recall,-query_time-vs-n_cells-3\"><span class=\"toc-item-num\">3&nbsp;&nbsp;</span><code>precision, recall, query_time</code> vs <code>n_cells</code></a></span></li><li><span><a href=\"#precision,-recall,-query_time-vs-n_subvectors\" data-toc-modified-id=\"precision,-recall,-query_time-vs-n_subvectors-4\"><span class=\"toc-item-num\">4&nbsp;&nbsp;</span><code>precision, recall, query_time</code> vs <code>n_subvectors</code></a></span></li></ul></div>"
   ]
  },
  {
   "cell_type": "code",
   "execution_count": 1,
   "metadata": {
    "ExecuteTime": {
     "end_time": "2021-11-12T08:26:26.446943Z",
     "start_time": "2021-11-12T08:26:26.444647Z"
    }
   },
   "outputs": [],
   "source": [
    "## Benchmark pqlite"
   ]
  },
  {
   "cell_type": "code",
   "execution_count": 28,
   "metadata": {
    "ExecuteTime": {
     "end_time": "2021-11-12T08:34:14.979336Z",
     "start_time": "2021-11-12T08:34:14.945088Z"
    }
   },
   "outputs": [],
   "source": [
    "import pqlite\n",
    "pqlite.__path__\n",
    "import time\n",
    "\n",
    "import jina\n",
    "from jina.math.distance import cdist\n",
    "\n",
    "import sklearn\n",
    "from sklearn.datasets import make_blobs\n",
    "from sklearn.model_selection import train_test_split"
   ]
  },
  {
   "cell_type": "code",
   "execution_count": 266,
   "metadata": {
    "ExecuteTime": {
     "end_time": "2021-11-12T11:00:32.791360Z",
     "start_time": "2021-11-12T10:59:12.048594Z"
    },
    "scrolled": true
   },
   "outputs": [
    {
     "name": "stderr",
     "output_type": "stream",
     "text": [
      "2021-11-12 11:59:12.656 | INFO     | pqlite.index:fit:90 - => start training VQ codec with 124980 data...\n",
      "2021-11-12 11:59:18.060 | INFO     | pqlite.index:fit:93 - => start training PQ codec with 124980 data...\n",
      "2021-11-12 12:00:28.780 | INFO     | pqlite.index:fit:96 - => pqlite is successfully trained!\n",
      "2021-11-12 12:00:32.764 | DEBUG    | pqlite.storage.cell:_expand:148 - => total storage capacity is expanded by 124980 for 64 cells\n",
      "2021-11-12 12:00:32.784 | DEBUG    | pqlite.storage.cell:insert:90 - => 124980 new items added\n"
     ]
    }
   ],
   "source": [
    "import random\n",
    "import numpy as np\n",
    "from pqlite import PQLite\n",
    "\n",
    "#N = 100_000 # number of data points\n",
    "Nt = 125_000 \n",
    "Nq = 1\n",
    "D = 128 # dimentionality / number of features\n",
    "top_k = 100\n",
    "n_cells = 64\n",
    "n_subvectors = 8\n",
    "\n",
    "# 2,000 128-dim vectors for training\n",
    "np.random.seed(123)\n",
    "Xtr, Xte =train_test_split(make_blobs(n_samples = Nt, n_features = D)[0].astype(np.float32), test_size=20)\n",
    "#Xt = np.random.random((Nt, D)).astype(np.float32)  \n",
    "\n",
    "# the column schema: (name:str, dtype:type, create_index: bool)\n",
    "pq = PQLite(d_vector=D, n_cells=n_cells, n_subvectors=n_subvectors, columns=[('x', float, True)])\n",
    "pq.fit(Xtr)\n",
    "pq.add(Xtr, ids=list(range(len(Xtr))))"
   ]
  },
  {
   "cell_type": "code",
   "execution_count": 66,
   "metadata": {
    "ExecuteTime": {
     "end_time": "2021-11-12T08:40:28.033821Z",
     "start_time": "2021-11-12T08:40:28.012124Z"
    }
   },
   "outputs": [],
   "source": [
    "Nq = 1\n",
    "query = Xte[[10]]  # a 128-dim query vector\n",
    "\n",
    "# without filtering\n",
    "pq_dists, ids = pq.search(query, k=5)"
   ]
  },
  {
   "cell_type": "markdown",
   "metadata": {},
   "source": [
    "### Time"
   ]
  },
  {
   "cell_type": "code",
   "execution_count": 67,
   "metadata": {
    "ExecuteTime": {
     "end_time": "2021-11-12T08:40:45.441644Z",
     "start_time": "2021-11-12T08:40:30.171926Z"
    }
   },
   "outputs": [
    {
     "name": "stdout",
     "output_type": "stream",
     "text": [
      "19.1 ms ± 1.86 ms per loop (mean ± std. dev. of 7 runs, 100 loops each)\n"
     ]
    }
   ],
   "source": [
    "%timeit  pq.search(query,  k=top_k)"
   ]
  },
  {
   "cell_type": "code",
   "execution_count": 57,
   "metadata": {
    "ExecuteTime": {
     "end_time": "2021-11-11T17:34:43.265493Z",
     "start_time": "2021-11-11T17:34:32.212774Z"
    }
   },
   "outputs": [
    {
     "name": "stdout",
     "output_type": "stream",
     "text": [
      "13.7 ms ± 1.81 ms per loop (mean ± std. dev. of 7 runs, 100 loops each)\n"
     ]
    }
   ],
   "source": [
    "%timeit res = cdist(query, Xt, metric='euclidean')"
   ]
  },
  {
   "cell_type": "markdown",
   "metadata": {},
   "source": [
    "### Quality\n",
    "\n",
    "Manually observing slices of a high dimensional space it seems that the\n",
    "retrieved items from pqlite are nearby the query and the best values from the exact and exhaustive distance computations."
   ]
  },
  {
   "cell_type": "code",
   "execution_count": 156,
   "metadata": {
    "ExecuteTime": {
     "end_time": "2021-11-12T09:24:43.062762Z",
     "start_time": "2021-11-12T09:24:43.021533Z"
    }
   },
   "outputs": [
    {
     "name": "stdout",
     "output_type": "stream",
     "text": [
      "[11.999227 12.10384  12.237079 ... 90.645004 90.817116 90.84127 ]\n",
      "[ 32752  79685  50135  99260  96141  28624  60723  76192 102057  85071\n",
      "  61047   3499   7520  21476   5235 109536  64612  39622  40892  99351\n",
      "  92996  70076  14439 117112  77629  99463   7006  51265  82407  24776\n",
      "  19415  40235  49875  82409   3681   6167  18629  63413  74319 121117\n",
      " 122270 113201  23981  63556 120683 111096   6154 116482  38163  28614\n",
      "  62019  37335  68626 114809   2243  67188  70199  84605 101848 118104\n",
      "  95048  69695  22912 102048 112612  28146  95893  45989 111069  76656\n",
      " 116714  86030 119408  79243  77748  29083  87230 108065  86645    319\n",
      "  69152  18775  75920  24449  94513  54966 103333  94068 102020 114397\n",
      "  22963  25285  49044  17352  50497  50640  10443 120999  33482  40365]\n"
     ]
    }
   ],
   "source": [
    "true_distances = cdist(query, Xtr, metric='euclidean').flatten()\n",
    "true_ids = np.argsort(true_distances)[0:top_k]\n",
    "true_dists = true_distances[np.argsort(true_distances)]\n",
    "print(true_dists)\n",
    "print(true_ids)"
   ]
  },
  {
   "cell_type": "code",
   "execution_count": 157,
   "metadata": {
    "ExecuteTime": {
     "end_time": "2021-11-12T09:24:45.111879Z",
     "start_time": "2021-11-12T09:24:45.091541Z"
    }
   },
   "outputs": [],
   "source": [
    "pq_dists, pq_ids = pq.search(query,  k=top_k)\n",
    "pq_ids = np.array([int(x) for x in pq_ids[0]])"
   ]
  },
  {
   "cell_type": "code",
   "execution_count": 158,
   "metadata": {
    "ExecuteTime": {
     "end_time": "2021-11-12T09:24:45.521774Z",
     "start_time": "2021-11-12T09:24:45.518489Z"
    }
   },
   "outputs": [],
   "source": [
    "import matplotlib.pyplot as plt\n",
    "\n",
    "def paint_slice(Xtr, query, feat1, feat2):\n",
    "    plt.scatter(Xtr[:,feat1], Xtr[:,feat2], color='blue', alpha=0.2)\n",
    "\n",
    "    for pq_id in pq_ids:\n",
    "        plt.scatter(Xtr[pq_id, feat1], Xtr[pq_id, feat2], color='black')\n",
    "\n",
    "    for true_id in true_ids:\n",
    "        plt.scatter(Xtr[true_id, feat1], Xtr[true_id, feat2], color='orange')\n",
    "\n",
    "    plt.scatter(query[:, feat1], query[:, feat2], color='red')\n",
    "    "
   ]
  },
  {
   "cell_type": "code",
   "execution_count": 159,
   "metadata": {
    "ExecuteTime": {
     "end_time": "2021-11-12T09:24:47.660046Z",
     "start_time": "2021-11-12T09:24:46.239290Z"
    }
   },
   "outputs": [
    {
     "data": {
      "image/png": "[encoded data removed]",
      "text/plain": [
       "<Figure size 432x288 with 1 Axes>"
      ]
     },
     "metadata": {
      "needs_background": "light"
     },
     "output_type": "display_data"
    }
   ],
   "source": [
    "feat1, feat2 = 0, 1\n",
    "paint_slice(Xtr, query, feat1, feat2)"
   ]
  },
  {
   "cell_type": "code",
   "execution_count": 160,
   "metadata": {
    "ExecuteTime": {
     "end_time": "2021-11-12T09:24:50.483976Z",
     "start_time": "2021-11-12T09:24:48.916240Z"
    }
   },
   "outputs": [
    {
     "data": {
      "image/png": "[encoded data removed]",
      "text/plain": [
       "<Figure size 432x288 with 1 Axes>"
      ]
     },
     "metadata": {
      "needs_background": "light"
     },
     "output_type": "display_data"
    }
   ],
   "source": [
    "feat1, feat2 = 8, 100\n",
    "paint_slice(Xtr, query, feat1, feat2)"
   ]
  },
  {
   "cell_type": "code",
   "execution_count": 161,
   "metadata": {
    "ExecuteTime": {
     "end_time": "2021-11-12T09:24:52.478562Z",
     "start_time": "2021-11-12T09:24:51.042695Z"
    }
   },
   "outputs": [
    {
     "data": {
      "image/png": "[encoded data removed]",
      "text/plain": [
       "<Figure size 432x288 with 1 Axes>"
      ]
     },
     "metadata": {
      "needs_background": "light"
     },
     "output_type": "display_data"
    }
   ],
   "source": [
    "feat1, feat2 = 3,4\n",
    "paint_slice(Xtr, query, feat1, feat2)"
   ]
  },
  {
   "cell_type": "code",
   "execution_count": 210,
   "metadata": {
    "ExecuteTime": {
     "end_time": "2021-11-12T10:46:58.947532Z",
     "start_time": "2021-11-12T10:46:58.944350Z"
    },
    "code_folding": []
   },
   "outputs": [],
   "source": [
    "def _precision(predicted, relevant, eval_at):\n",
    "    \"\"\"\n",
    "    fraction of retrieved documents that are relevant to the query\n",
    "    \"\"\"\n",
    "    if eval_at == 0:\n",
    "        return 0.0\n",
    "    predicted_at_k = predicted[:eval_at]\n",
    "    n_predicted_and_relevant = len(set(predicted_at_k).intersection(set(relevant)))\n",
    "\n",
    "    return n_predicted_and_relevant / len(predicted)\n",
    "\n",
    "def _recall(predicted, relevant, eval_at):\n",
    "    \"\"\"\n",
    "    fraction of the relevant documents that are successfully retrieved\n",
    "    \"\"\"\n",
    "    if eval_at == 0:\n",
    "        return 0.0\n",
    "    predicted_at_k = predicted[:eval_at]\n",
    "    n_predicted_and_relevant = len(set(predicted_at_k).intersection(set(relevant)))\n",
    "    return n_predicted_and_relevant/ len(relevant)\n"
   ]
  },
  {
   "cell_type": "code",
   "execution_count": 211,
   "metadata": {
    "ExecuteTime": {
     "end_time": "2021-11-12T10:46:59.114967Z",
     "start_time": "2021-11-12T10:46:59.112558Z"
    },
    "scrolled": true
   },
   "outputs": [
    {
     "name": "stdout",
     "output_type": "stream",
     "text": [
      "0.08\n",
      "0.08\n"
     ]
    }
   ],
   "source": [
    "print(_precision(true_ids, pq_ids, top_k))\n",
    "print(_recall(true_ids, pq_ids, top_k))"
   ]
  },
  {
   "cell_type": "markdown",
   "metadata": {},
   "source": [
    "###  `precision, recall, query_time` vs `n_cells`"
   ]
  },
  {
   "cell_type": "code",
   "execution_count": 267,
   "metadata": {
    "ExecuteTime": {
     "end_time": "2021-11-12T11:00:32.812494Z",
     "start_time": "2021-11-12T11:00:32.809126Z"
    }
   },
   "outputs": [],
   "source": [
    "import time\n",
    "\n",
    "def evaluate_query(query, Xtr, pq, top_k):\n",
    "    pq_dists, ids = pq.search(query, k=top_k)\n",
    "\n",
    "    true_distances = cdist(query, Xtr, metric='euclidean').flatten()\n",
    "    true_ids = np.argsort(true_distances)[0:top_k]\n",
    "    true_dists = true_distances[np.argsort(true_distances)]\n",
    "    recall = _recall(true_ids, pq_ids, top_k)\n",
    "    precision = _recall(true_ids, pq_ids, top_k)\n",
    "    return precision, recall"
   ]
  },
  {
   "cell_type": "code",
   "execution_count": 270,
   "metadata": {
    "ExecuteTime": {
     "end_time": "2021-11-12T11:00:51.721907Z",
     "start_time": "2021-11-12T11:00:51.106396Z"
    }
   },
   "outputs": [],
   "source": [
    "np.random.seed(123)\n",
    "Xtr, Xte =train_test_split(make_blobs(n_samples = Nt, n_features = D)[0].astype(np.float32), \n",
    "                           test_size=0.20)\n",
    "#Xt = np.random.random((Nt, D)).astype(np.float32)  "
   ]
  },
  {
   "cell_type": "code",
   "execution_count": 271,
   "metadata": {
    "ExecuteTime": {
     "end_time": "2021-11-12T11:00:53.470945Z",
     "start_time": "2021-11-12T11:00:53.468061Z"
    }
   },
   "outputs": [
    {
     "data": {
      "text/plain": [
       "(100000, 25000)"
      ]
     },
     "execution_count": 271,
     "metadata": {},
     "output_type": "execute_result"
    }
   ],
   "source": [
    "len(Xtr), len(Xte)"
   ]
  },
  {
   "cell_type": "code",
   "execution_count": 279,
   "metadata": {
    "ExecuteTime": {
     "end_time": "2021-11-12T11:16:13.252015Z",
     "start_time": "2021-11-12T11:05:26.194718Z"
    },
    "scrolled": false
   },
   "outputs": [
    {
     "name": "stderr",
     "output_type": "stream",
     "text": [
      "2021-11-12 12:05:26.203 | INFO     | pqlite.index:fit:90 - => start training VQ codec with 100000 data...\n",
      "2021-11-12 12:05:29.172 | INFO     | pqlite.index:fit:93 - => start training PQ codec with 100000 data...\n",
      "2021-11-12 12:06:28.789 | INFO     | pqlite.index:fit:96 - => pqlite is successfully trained!\n",
      "2021-11-12 12:06:32.858 | DEBUG    | pqlite.storage.cell:_expand:148 - => total storage capacity is expanded by 100000 for 6 cells\n",
      "2021-11-12 12:06:32.864 | DEBUG    | pqlite.storage.cell:insert:90 - => 100000 new items added\n",
      "2021-11-12 12:08:25.218 | INFO     | pqlite.index:fit:90 - => start training VQ codec with 100000 data...\n",
      "2021-11-12 12:08:28.889 | INFO     | pqlite.index:fit:93 - => start training PQ codec with 100000 data...\n",
      "2021-11-12 12:09:24.788 | INFO     | pqlite.index:fit:96 - => pqlite is successfully trained!\n",
      "2021-11-12 12:09:27.624 | DEBUG    | pqlite.storage.cell:_expand:148 - => total storage capacity is expanded by 100000 for 16 cells\n",
      "2021-11-12 12:09:27.630 | DEBUG    | pqlite.storage.cell:insert:90 - => 100000 new items added\n",
      "2021-11-12 12:10:49.099 | INFO     | pqlite.index:fit:90 - => start training VQ codec with 100000 data...\n",
      "2021-11-12 12:10:53.522 | INFO     | pqlite.index:fit:93 - => start training PQ codec with 100000 data...\n",
      "2021-11-12 12:11:50.816 | INFO     | pqlite.index:fit:96 - => pqlite is successfully trained!\n",
      "2021-11-12 12:11:53.791 | DEBUG    | pqlite.storage.cell:_expand:148 - => total storage capacity is expanded by 100000 for 32 cells\n",
      "2021-11-12 12:11:53.802 | DEBUG    | pqlite.storage.cell:insert:90 - => 100000 new items added\n",
      "2021-11-12 12:12:49.990 | INFO     | pqlite.index:fit:90 - => start training VQ codec with 100000 data...\n",
      "2021-11-12 12:12:54.571 | INFO     | pqlite.index:fit:93 - => start training PQ codec with 100000 data...\n",
      "2021-11-12 12:13:47.720 | INFO     | pqlite.index:fit:96 - => pqlite is successfully trained!\n",
      "2021-11-12 12:13:50.566 | DEBUG    | pqlite.storage.cell:_expand:148 - => total storage capacity is expanded by 100000 for 64 cells\n",
      "2021-11-12 12:13:50.580 | DEBUG    | pqlite.storage.cell:insert:90 - => 100000 new items added\n",
      "2021-11-12 12:14:33.293 | INFO     | pqlite.index:fit:90 - => start training VQ codec with 100000 data...\n",
      "2021-11-12 12:14:39.757 | INFO     | pqlite.index:fit:93 - => start training PQ codec with 100000 data...\n",
      "2021-11-12 12:15:33.509 | INFO     | pqlite.index:fit:96 - => pqlite is successfully trained!\n",
      "2021-11-12 12:15:36.481 | DEBUG    | pqlite.storage.cell:_expand:148 - => total storage capacity is expanded by 0 for 128 cells\n",
      "2021-11-12 12:15:36.507 | DEBUG    | pqlite.storage.cell:insert:90 - => 100000 new items added\n"
     ]
    }
   ],
   "source": [
    "precision_per_query = []\n",
    "recall_per_query = []\n",
    "results = []\n",
    "\n",
    "#N = 100_000 # number of data points\n",
    "Nt = 125_000 \n",
    "Nq = 1\n",
    "D = 128 # dimentionality / number of features\n",
    "n_subvectors = 8\n",
    "top_k = 100\n",
    "n_queries = 1000\n",
    "\n",
    "for n_cells in [8,16,32,64,128]:\n",
    "    pq = PQLite(d_vector=D, \n",
    "                n_cells=n_cells,\n",
    "                n_subvectors=n_subvectors, \n",
    "                columns=[('x', float, True)])\n",
    "\n",
    "    t0 = time.time()\n",
    "    pq.fit(Xtr)    \n",
    "    pq.add(Xtr, ids=list(range(len(Xtr))))\n",
    "    index_time = abs(t0 -time.time())\n",
    "    \n",
    "    np.random.seed(123)\n",
    "    n_query_ids = np.random.choice(len(Xte),n_queries, replace=False)\n",
    "    \n",
    "    t0 = time.time()\n",
    "    \n",
    "    for query_id in n_query_ids:\n",
    "        query = Xte[[query_id], :]\n",
    "        precision, recall = evaluate_query(query, Xtr, pq, top_k)\n",
    "        precision_per_query.append(precision)\n",
    "        recall_per_query.append(recall)\n",
    "\n",
    "    query_time = abs(t0 -time.time())\n",
    "    \n",
    "    results_dict = { 'average_precision': np.mean(precision_per_query),\n",
    "                     'average_recall': np.mean(recall_per_query),\n",
    "                     'index_time':index_time,\n",
    "                     'query_time':query_time,\n",
    "                     'indexer_hyperparams':{'n_cells': n_cells,\n",
    "                                            'n_subvectors': n_subvectors}\n",
    "                    }\n",
    "    \n",
    "    results.append(results_dict)"
   ]
  },
  {
   "cell_type": "code",
   "execution_count": 291,
   "metadata": {
    "ExecuteTime": {
     "end_time": "2021-11-12T11:21:38.661193Z",
     "start_time": "2021-11-12T11:21:38.658844Z"
    }
   },
   "outputs": [],
   "source": [
    "import pandas as pd\n",
    "results_df = pd.DataFrame(results)"
   ]
  },
  {
   "cell_type": "markdown",
   "metadata": {},
   "source": [
    "The results are terrible, the only expected thing is that the query time decreses with the number of cells increasing"
   ]
  },
  {
   "cell_type": "code",
   "execution_count": 294,
   "metadata": {
    "ExecuteTime": {
     "end_time": "2021-11-12T11:22:13.013749Z",
     "start_time": "2021-11-12T11:22:13.006917Z"
    },
    "scrolled": false
   },
   "outputs": [
    {
     "data": {
      "text/html": [
       "<div>\n",
       "<style scoped>\n",
       "    .dataframe tbody tr th:only-of-type {\n",
       "        vertical-align: middle;\n",
       "    }\n",
       "\n",
       "    .dataframe tbody tr th {\n",
       "        vertical-align: top;\n",
       "    }\n",
       "\n",
       "    .dataframe thead th {\n",
       "        text-align: right;\n",
       "    }\n",
       "</style>\n",
       "<table border=\"1\" class=\"dataframe\">\n",
       "  <thead>\n",
       "    <tr style=\"text-align: right;\">\n",
       "      <th></th>\n",
       "      <th>average_precision</th>\n",
       "      <th>average_recall</th>\n",
       "      <th>index_time</th>\n",
       "      <th>query_time</th>\n",
       "      <th>indexer_hyperparams</th>\n",
       "    </tr>\n",
       "  </thead>\n",
       "  <tbody>\n",
       "    <tr>\n",
       "      <th>0</th>\n",
       "      <td>0.00069</td>\n",
       "      <td>0.00069</td>\n",
       "      <td>66.666325</td>\n",
       "      <td>112.344714</td>\n",
       "      <td>{'n_cells': 8, 'n_subvectors': 8}</td>\n",
       "    </tr>\n",
       "    <tr>\n",
       "      <th>1</th>\n",
       "      <td>0.00069</td>\n",
       "      <td>0.00069</td>\n",
       "      <td>62.416446</td>\n",
       "      <td>81.455379</td>\n",
       "      <td>{'n_cells': 16, 'n_subvectors': 8}</td>\n",
       "    </tr>\n",
       "    <tr>\n",
       "      <th>2</th>\n",
       "      <td>0.00069</td>\n",
       "      <td>0.00069</td>\n",
       "      <td>64.707142</td>\n",
       "      <td>56.168816</td>\n",
       "      <td>{'n_cells': 32, 'n_subvectors': 8}</td>\n",
       "    </tr>\n",
       "    <tr>\n",
       "      <th>3</th>\n",
       "      <td>0.00069</td>\n",
       "      <td>0.00069</td>\n",
       "      <td>60.594037</td>\n",
       "      <td>42.682325</td>\n",
       "      <td>{'n_cells': 64, 'n_subvectors': 8}</td>\n",
       "    </tr>\n",
       "    <tr>\n",
       "      <th>4</th>\n",
       "      <td>0.00069</td>\n",
       "      <td>0.00069</td>\n",
       "      <td>63.217939</td>\n",
       "      <td>36.738292</td>\n",
       "      <td>{'n_cells': 128, 'n_subvectors': 8}</td>\n",
       "    </tr>\n",
       "  </tbody>\n",
       "</table>\n",
       "</div>"
      ],
      "text/plain": [
       "   average_precision  average_recall  index_time  query_time  \\\n",
       "0            0.00069         0.00069   66.666325  112.344714   \n",
       "1            0.00069         0.00069   62.416446   81.455379   \n",
       "2            0.00069         0.00069   64.707142   56.168816   \n",
       "3            0.00069         0.00069   60.594037   42.682325   \n",
       "4            0.00069         0.00069   63.217939   36.738292   \n",
       "\n",
       "                   indexer_hyperparams  \n",
       "0    {'n_cells': 8, 'n_subvectors': 8}  \n",
       "1   {'n_cells': 16, 'n_subvectors': 8}  \n",
       "2   {'n_cells': 32, 'n_subvectors': 8}  \n",
       "3   {'n_cells': 64, 'n_subvectors': 8}  \n",
       "4  {'n_cells': 128, 'n_subvectors': 8}  "
      ]
     },
     "execution_count": 294,
     "metadata": {},
     "output_type": "execute_result"
    }
   ],
   "source": [
    "results_df"
   ]
  },
  {
   "cell_type": "markdown",
   "metadata": {},
   "source": [
    "\n",
    "###  `precision, recall, query_time` vs `n_subvectors`"
   ]
  },
  {
   "cell_type": "code",
   "execution_count": null,
   "metadata": {},
   "outputs": [],
   "source": []
  },
  {
   "cell_type": "code",
   "execution_count": null,
   "metadata": {},
   "outputs": [],
   "source": []
  },
  {
   "cell_type": "code",
   "execution_count": null,
   "metadata": {},
   "outputs": [],
   "source": []
  },
  {
   "cell_type": "code",
   "execution_count": null,
   "metadata": {},
   "outputs": [],
   "source": []
  }
 ],
 "metadata": {
  "kernelspec": {
   "display_name": "Python 3 (ipykernel)",
   "language": "python",
   "name": "python3"
  },
  "language_info": {
   "codemirror_mode": {
    "name": "ipython",
    "version": 3
   },
   "file_extension": ".py",
   "mimetype": "text/x-python",
   "name": "python",
   "nbconvert_exporter": "python",
   "pygments_lexer": "ipython3",
   "version": "3.8.5"
  },
  "toc": {
   "base_numbering": 1,
   "nav_menu": {},
   "number_sections": true,
   "sideBar": true,
   "skip_h1_title": false,
   "title_cell": "Table of Contents",
   "title_sidebar": "Contents",
   "toc_cell": true,
   "toc_position": {},
   "toc_section_display": true,
   "toc_window_display": true
  },
  "varInspector": {
   "cols": {
    "lenName": 16,
    "lenType": 16,
    "lenVar": 40
   },
   "kernels_config": {
    "python": {
     "delete_cmd_postfix": "",
     "delete_cmd_prefix": "del ",
     "library": "var_list.py",
     "varRefreshCmd": "print(var_dic_list())"
    },
    "r": {
     "delete_cmd_postfix": ") ",
     "delete_cmd_prefix": "rm(",
     "library": "var_list.r",
     "varRefreshCmd": "cat(var_dic_list()) "
    }
   },
   "types_to_exclude": [
    "module",
    "function",
    "builtin_function_or_method",
    "instance",
    "_Feature"
   ],
   "window_display": false
  }
 },
 "nbformat": 4,
 "nbformat_minor": 4
}
